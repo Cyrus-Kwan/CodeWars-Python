{
 "cells": [
  {
   "attachments": {},
   "cell_type": "markdown",
   "metadata": {},
   "source": [
    "# Help the Bookseller!\n",
    "A bookseller has lots of books classified in 26 categories labeled A, B, ..., Z. Each book has a code `c` of 3, 4, 5 or more characters. The *1st* character of a code is a capital letter which defines the book category.\n",
    "\n",
    "In the bookseller's stocklist each code `c` is followed by a space and by a positive integer n (int n >= 0) which indicates the quantity of books in this code in stock.\n",
    "\n",
    "For example an extract of a stocklist could be:\n",
    "> ```\n",
    "> L = {\"ABART 20\", \"CDXEF 50\", \"BKWRK 25\", \"BTSQZ 89\", \"DRTYM 60\"}.\n",
    "> or\n",
    "> L = [\"ABART 20\", \"CDXEF 50\", \"BKWRK 25\", \"BTSQZ 89\", \"DRTYM 60\"] or ....\n",
    "> ```\n",
    "\n",
    "You will be given a stocklist (e.g. : L) and a list of categories in capital letters e.g:\n",
    "\n",
    "> ```\n",
    "> M = {\"A\", \"B\", \"C\", \"W\"}\n",
    "> or\n",
    "> M = [\"A\", \"B\", \"C\", \"W\"] or ...\n",
    "> ```\n",
    "\n",
    "and your task is to find all the books of L with codes belonging to each category of M and to sum their quantity according to each category.\n",
    "\n",
    "For the lists L and M of example you have to return the string (in Haskell/Clojure/Racket/Prolog a list of pairs):\n",
    "\n",
    "> (A : 20) - (B : 114) - (C : 50) - (W : 0)\n",
    "\n",
    "where A, B, C, W are the categories, 20 is the sum of the unique book of category A, 114 the sum corresponding to \"BKWRK\" and \"BTSQZ\", 50 corresponding to 'CDXEF\" and 0 to category \"W\" since there are no code beginning with W.\n",
    "\n",
    "If L or M are empty return string is `\"\"` (Clojure/Racket/Prolog should return an empty array/list instead.)\n",
    "\n",
    "**Notes**\n",
    "- In the result codes and their values are in the same order as in M.\n",
    "- See \"Samples Tests\" for the return."
   ]
  },
  {
   "cell_type": "code",
   "execution_count": 14,
   "metadata": {},
   "outputs": [],
   "source": [
    "def stock_list(list_of_art, list_of_cat):\n",
    "    if (list_of_art == []) or (list_of_cat == []):\n",
    "        return ''\n",
    "    \n",
    "    category_stock = []\n",
    "\n",
    "    for category in list_of_cat:\n",
    "        category_total = 0\n",
    "        for article in list_of_art:\n",
    "            if (article[0] == category):\n",
    "                category_total += int(article.split(' ')[1])\n",
    "        category_stock.append(f\"({category} : {category_total})\")\n",
    "\n",
    "    return ' - '.join(category_stock)\n"
   ]
  },
  {
   "cell_type": "code",
   "execution_count": 15,
   "metadata": {},
   "outputs": [
    {
     "name": "stdout",
     "output_type": "stream",
     "text": [
      "(A : 0) - (B : 1290) - (C : 515) - (D : 600)\n",
      "(A : 200) - (B : 1140)\n"
     ]
    }
   ],
   "source": [
    "b = [\"BBAR 150\", \"CDXE 515\", \"BKWR 250\", \"BTSQ 890\", \"DRTY 600\"]\n",
    "c = [\"A\", \"B\", \"C\", \"D\"]\n",
    "\n",
    "print(stock_list(b, c))\n",
    "\n",
    "b = [\"ABAR 200\", \"CDXE 500\", \"BKWR 250\", \"BTSQ 890\", \"DRTY 600\"]\n",
    "c = [\"A\", \"B\"]\n",
    "\n",
    "print(stock_list(b, c))"
   ]
  },
  {
   "attachments": {},
   "cell_type": "markdown",
   "metadata": {},
   "source": [
    "### Solutions\n",
    "View solutions from others at CodeWars: *[Help the bookseller!](https://www.codewars.com/kata/54dc6f5a224c26032800005c/solutions/python)*."
   ]
  }
 ],
 "metadata": {
  "kernelspec": {
   "display_name": "base",
   "language": "python",
   "name": "python3"
  },
  "language_info": {
   "codemirror_mode": {
    "name": "ipython",
    "version": 3
   },
   "file_extension": ".py",
   "mimetype": "text/x-python",
   "name": "python",
   "nbconvert_exporter": "python",
   "pygments_lexer": "ipython3",
   "version": "3.10.9"
  },
  "orig_nbformat": 4
 },
 "nbformat": 4,
 "nbformat_minor": 2
}
