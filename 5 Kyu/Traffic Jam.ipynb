{
 "cells": [
  {
   "cell_type": "markdown",
   "metadata": {},
   "source": [
    "# Traffic Jam\n",
    "\n",
    "### Story\n",
    "Well, here I am stuck in another traffic jam.\n",
    "\n",
    "*Damn all those courteous people!*\n",
    "\n",
    "Cars are trying to enter the main road from side-streets somewhere ahead of me and people keep letting them cut in.\n",
    "\n",
    "Each time somebody is let in the effect ripples back down the reaod, so pretty soon I am not moving at all.\n",
    "\n",
    "(Sight... late again...)\n",
    "\n",
    "### Visually\n",
    "The diagram bellow shows lots of cars all attempting to go North.\n",
    "- the `a`, `b`, `c`... cars are on the main road with me (`X`)\n",
    "- the `B` cars and `C` cars are merging from side streets\n",
    "\n",
    "> ```\n",
    ">           |  a  |   \n",
    ">           |  b  | ↑  \n",
    ">   --------+  c  |  \n",
    ">      BBBBBB  d  |   \n",
    ">   --------+  e  |  \n",
    ">           |  f  | ↑\n",
    ">           |  g  |   \n",
    ">   --------+  h  |\n",
    ">       CCCCC  i  |\n",
    ">   --------+  j  | ↑\n",
    ">           |  k  |\n",
    ">           |  l  |\n",
    ">           |  m  |\n",
    ">           |  X  | \n",
    "> ```\n",
    "\n",
    "This can be represented as\n",
    "- `mainRoad` = `abcdefghijklmX`\n",
    "- `sideStreets` = `[\"\",\"\",\"\",\"BBBBBB\",\"\",\"\",\"\",\"\",\"CCCCC\"]`\n",
    "\n",
    "### Kata Task\n",
    "Assume every car on the main road will \"give way\" to car 1 entering from each side street.\n",
    "\n",
    "Return a string representing the cars (up to and including me) in the order they exit off the top of the diagram.\n",
    "\n",
    "#### Notes\n",
    "- My car is the only `X`, and I am always on the main road\n",
    "- Other cars may be any alpha-numeric character (except `X` of course)\n",
    "- There are no \"gaps\" between street cars\n",
    "- Assume side streets are always on the left (as in the diagram)\n",
    "- The `sideStreets` array length may vary but is never more than the length of the main road\n",
    "- A pre-loaded `Util.display(maindRoad, sideStreets)` method is provided which may help to visualise the data\n",
    "- (Util.Display for C#)\n",
    "\n",
    "#### Example\n",
    "Here are the first few iterations of my example, showing that I am hardly moving at all...\n",
    "https://www.codewars.com/kata/5a26073ce1ce0e3c01000023"
   ]
  },
  {
   "cell_type": "code",
   "execution_count": 122,
   "metadata": {},
   "outputs": [],
   "source": [
    "def traffic_jam(main_road, side_streets):\n",
    "    cars_passed = 0\n",
    "    while any(side_streets[0:main_road.index('X')+1]):\n",
    "        out = \"\"\n",
    "        for car_index, car in list(enumerate(main_road[0:main_road.index('X')+1]))[::-1]:\n",
    "            if side_streets[car_index]:\n",
    "                out += side_streets[car_index][0]\n",
    "                side_streets[car_index].replace(side_streets[car_index][0], '')\n",
    "            out += car\n",
    "        main_road = ''.join(list(out)[::-1])\n",
    "        cars_passed += 1\n",
    "        print(main_road)\n",
    "    print(main_road)"
   ]
  },
  {
   "cell_type": "code",
   "execution_count": 123,
   "metadata": {},
   "outputs": [
    {
     "name": "stdout",
     "output_type": "stream",
     "text": [
      "abcCdeEXF\n",
      "abcCCdEeFEX\n"
     ]
    },
    {
     "ename": "IndexError",
     "evalue": "list index out of range",
     "output_type": "error",
     "traceback": [
      "\u001b[1;31m---------------------------------------------------------------------------\u001b[0m",
      "\u001b[1;31mIndexError\u001b[0m                                Traceback (most recent call last)",
      "Cell \u001b[1;32mIn[123], line 1\u001b[0m\n\u001b[1;32m----> 1\u001b[0m traffic_jam(\u001b[39m\"\u001b[39;49m\u001b[39mabcdeXghi\u001b[39;49m\u001b[39m\"\u001b[39;49m, [\u001b[39m\"\u001b[39;49m\u001b[39m\"\u001b[39;49m,\u001b[39m\"\u001b[39;49m\u001b[39m\"\u001b[39;49m,\u001b[39m\"\u001b[39;49m\u001b[39mCCCCC\u001b[39;49m\u001b[39m\"\u001b[39;49m,\u001b[39m\"\u001b[39;49m\u001b[39m\"\u001b[39;49m,\u001b[39m\"\u001b[39;49m\u001b[39mEEEEEEEEEE\u001b[39;49m\u001b[39m\"\u001b[39;49m,\u001b[39m\"\u001b[39;49m\u001b[39mFFFFFF\u001b[39;49m\u001b[39m\"\u001b[39;49m,\u001b[39m\"\u001b[39;49m\u001b[39m\"\u001b[39;49m,\u001b[39m\"\u001b[39;49m\u001b[39m\"\u001b[39;49m,\u001b[39m\"\u001b[39;49m\u001b[39mIIIIII\u001b[39;49m\u001b[39m\"\u001b[39;49m])\n",
      "Cell \u001b[1;32mIn[122], line 5\u001b[0m, in \u001b[0;36mtraffic_jam\u001b[1;34m(main_road, side_streets)\u001b[0m\n\u001b[0;32m      3\u001b[0m out \u001b[39m=\u001b[39m \u001b[39m\"\u001b[39m\u001b[39m\"\u001b[39m\n\u001b[0;32m      4\u001b[0m \u001b[39mfor\u001b[39;00m car_index, car \u001b[39min\u001b[39;00m \u001b[39mlist\u001b[39m(\u001b[39menumerate\u001b[39m(main_road[\u001b[39m0\u001b[39m:main_road\u001b[39m.\u001b[39mindex(\u001b[39m'\u001b[39m\u001b[39mX\u001b[39m\u001b[39m'\u001b[39m)\u001b[39m+\u001b[39m\u001b[39m1\u001b[39m]))[::\u001b[39m-\u001b[39m\u001b[39m1\u001b[39m]:\n\u001b[1;32m----> 5\u001b[0m     \u001b[39mif\u001b[39;00m side_streets[car_index]:\n\u001b[0;32m      6\u001b[0m         out \u001b[39m+\u001b[39m\u001b[39m=\u001b[39m side_streets[car_index][\u001b[39m0\u001b[39m]\n\u001b[0;32m      7\u001b[0m         side_streets[car_index]\u001b[39m.\u001b[39mreplace(side_streets[car_index][\u001b[39m0\u001b[39m], \u001b[39m'\u001b[39m\u001b[39m'\u001b[39m)\n",
      "\u001b[1;31mIndexError\u001b[0m: list index out of range"
     ]
    }
   ],
   "source": [
    "traffic_jam(\"abcdeXghi\", [\"\",\"\",\"CCCCC\",\"\",\"EEEEEEEEEE\",\"FFFFFF\",\"\",\"\",\"IIIIII\"])"
   ]
  },
  {
   "cell_type": "code",
   "execution_count": 96,
   "metadata": {},
   "outputs": [
    {
     "name": "stdout",
     "output_type": "stream",
     "text": [
      "[1, 2]\n"
     ]
    }
   ],
   "source": [
    "test = [1, 2, 3, 4]\n",
    "print(test[0:test.index(3)])"
   ]
  },
  {
   "cell_type": "markdown",
   "metadata": {},
   "source": [
    "### Solutions\n",
    "View solutions from others at CodeWars: *[Traffic Jam](https://www.codewars.com/kata/5a26073ce1ce0e3c01000023/solutions)*."
   ]
  }
 ],
 "metadata": {
  "kernelspec": {
   "display_name": "base",
   "language": "python",
   "name": "python3"
  },
  "language_info": {
   "codemirror_mode": {
    "name": "ipython",
    "version": 3
   },
   "file_extension": ".py",
   "mimetype": "text/x-python",
   "name": "python",
   "nbconvert_exporter": "python",
   "pygments_lexer": "ipython3",
   "version": "3.10.9"
  },
  "orig_nbformat": 4
 },
 "nbformat": 4,
 "nbformat_minor": 2
}
