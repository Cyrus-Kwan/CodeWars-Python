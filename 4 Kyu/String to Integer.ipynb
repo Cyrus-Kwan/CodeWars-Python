{
 "cells": [
  {
   "cell_type": "markdown",
   "metadata": {},
   "source": [
    "# parseInt() Reloaded\n",
    "\n",
    "In this kata we want to convert a string into an integer. The stings simply represent the numbers in words.\n",
    "\n",
    "**Examples:**\n",
    "- \"one\" => 1\n",
    "- \"twenty\" => 20\n",
    "- \"two hundred forty-six\" => 246\n",
    "- \"seven hundred eighty-three thousand nin hundred and ninteen\" => 783919\n",
    "\n",
    "**Additional Notes:**\n",
    "- The minimum number is \"zero\" (inclusively)\n",
    "- The maximum number, which must be supported is 1 million (inclusively)\n",
    "- The \"and\" in e.g. \"one hundred and twenty-four\" is optional, in some cases it's present and in others it's not\n",
    "- All tested numbers are valid, you don't need to validate them"
   ]
  },
  {
   "cell_type": "code",
   "execution_count": 172,
   "metadata": {},
   "outputs": [],
   "source": [
    "# First solution: pretty ugly solution :(\n",
    "sum_dict = {\n",
    "        \"zero\"      : 0,\n",
    "        \"one\"       : 1,\n",
    "        \"two\"       : 2,\n",
    "        \"three\"     : 3,\n",
    "        \"four\"      : 4,\n",
    "        \"five\"      : 5,\n",
    "        \"six\"       : 6,\n",
    "        \"seven\"     : 7,\n",
    "        \"eight\"     : 8,\n",
    "        \"nine\"      : 9,\n",
    "        \"ten\"       : 10,\n",
    "        \"eleven\"    : 11,\n",
    "        \"twelve\"    : 12,\n",
    "        \"thirteen\"  : 13,\n",
    "        \"fourteen\"  : 14,\n",
    "        \"fifteen\"   : 15,\n",
    "        \"sixteen\"   : 16,\n",
    "        \"seventeen\" : 17,\n",
    "        \"eighteen\"  : 18,\n",
    "        \"nineteen\"  : 19,\n",
    "        \"twenty\"    : 20,\n",
    "        \"thirty\"    : 30,\n",
    "        \"forty\"     : 40,\n",
    "        \"fifty\"     : 50,\n",
    "        \"sixty\"     : 60,\n",
    "        \"seventy\"   : 70,\n",
    "        \"eighty\"    : 80,\n",
    "        \"ninety\"    : 90,\n",
    "        \"hundred\"   : 100,\n",
    "        \"thousand\"  : 1000,\n",
    "        \"million\"   : 1000000\n",
    "    }\n",
    "\n",
    "def parse_int(string):\n",
    "    split_string = string.replace(' and', '').split()\n",
    "    digits = []\n",
    "    incremented_digits = [0]\n",
    "\n",
    "    for word in split_string:\n",
    "        if '-' in word:\n",
    "            digits.append(sum([sum_dict[number] for number in word.split('-')]))\n",
    "        else:\n",
    "            digits.append(sum_dict[word])\n",
    "\n",
    "    for value in digits:\n",
    "        if value % 100:\n",
    "            incremented_digits.append(value)\n",
    "        else:\n",
    "            incremented_digits[-1] *= value\n",
    "\n",
    "    for index, number in enumerate(incremented_digits):\n",
    "        try:\n",
    "            if len(str(number)) < len(str(incremented_digits[index + 1])):\n",
    "                incremented_digits[index] = number * 10**(str(incremented_digits[index + 1]).count('0'))\n",
    "        except IndexError:\n",
    "            return sum(incremented_digits)"
   ]
  },
  {
   "cell_type": "code",
   "execution_count": 177,
   "metadata": {},
   "outputs": [],
   "source": [
    "# Second solution\n",
    "\n",
    "ONES = [\"zero\",\"one\", \"two\", \"three\", \"four\", \"five\", \"six\", \"seven\", \"eight\", \"nine\", \"ten\", \n",
    "        \"eleven\", \"twelve\", \"thirteen\", \"fourteen\", \"fifteen\", \"sixteen\", \"seventeen\", \"eighteen\", \"nineteen\"]\n",
    "\n",
    "TENS = [\"twenty\", \"thirty\", \"forty\", \"fifty\", \"sixty\", \"seventy\", \"eighty\", \"ninety\"]\n",
    "\n",
    "INCREMENTS = {\"thousand\" : 1000, \"million\" : 1000000}\n",
    "\n",
    "def parse_int(string):\n",
    "    numbers = []\n",
    "    for number in string.replace('-', ' ').split(' '):\n",
    "        if number in ONES:\n",
    "            numbers.append(ONES.index(number))\n",
    "        elif number in TENS:\n",
    "            numbers.append((TENS.index(number) + 2) * 10)\n",
    "        elif number == \"hundred\":\n",
    "            numbers[-1] *= 100\n",
    "        elif number in INCREMENTS:\n",
    "            numbers = [value * INCREMENTS[number] for value in numbers]\n",
    "    return sum(numbers)"
   ]
  },
  {
   "cell_type": "code",
   "execution_count": 184,
   "metadata": {},
   "outputs": [
    {
     "name": "stdout",
     "output_type": "stream",
     "text": [
      "Result: 1 \n",
      "Expected: 1\n",
      "Result: 20 \n",
      "Expected: 20\n",
      "Result: 246 \n",
      "Expected: 246\n"
     ]
    }
   ],
   "source": [
    "print(\"Result:\", parse_int('one'), \"\\nExpected:\", 1)\n",
    "print(\"Result:\", parse_int('twenty'), \"\\nExpected:\", 20)\n",
    "print(\"Result:\", parse_int('two hundred forty-six'), \"\\nExpected:\", 246)"
   ]
  },
  {
   "cell_type": "markdown",
   "metadata": {},
   "source": [
    "### Solutions\n",
    "View solutions from others at CodeWars: *[ParseInt() Reloaded](https://www.codewars.com/kata/525c7c5ab6aecef16e0001a5/solutions/python)*."
   ]
  }
 ],
 "metadata": {
  "kernelspec": {
   "display_name": "base",
   "language": "python",
   "name": "python3"
  },
  "language_info": {
   "codemirror_mode": {
    "name": "ipython",
    "version": 3
   },
   "file_extension": ".py",
   "mimetype": "text/x-python",
   "name": "python",
   "nbconvert_exporter": "python",
   "pygments_lexer": "ipython3",
   "version": "3.10.9"
  },
  "orig_nbformat": 4
 },
 "nbformat": 4,
 "nbformat_minor": 2
}
