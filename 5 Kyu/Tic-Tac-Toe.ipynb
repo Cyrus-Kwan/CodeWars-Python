{
 "cells": [
  {
   "attachments": {},
   "cell_type": "markdown",
   "metadata": {},
   "source": [
    "# Tic-Tac-Toe Checker\n",
    "\n",
    "If we were to set up a Tic-Tac-Toe game, we would want to know whether the board's current state is solved, wouldn't we? Our goal is to create a function that will check that for us!\n",
    "\n",
    "Assume that the board comes in the form of a 3x3 array, where the value is `0` if a spot is empty, `1` if it is an \"X\", or `2` if it is an \"O\", like so:\n",
    "\n",
    "> ```\n",
    "> [[0, 0, 1], \n",
    ">  [0, 1, 2],\n",
    ">  [2, 1, 0]]\n",
    "> ```\n",
    "\n",
    "We want our function to return:\n",
    "- `-1` if the board is not yet finished AND no one has won yet (there are empty spots),\n",
    "- `1` if \"X\" won,\n",
    "- `2` if \"O\" won,\n",
    "- `0` if it's a cat's game (i.e. a draw).\n",
    "\n",
    "You may assume that the board passed in is valid in the context of a game of Tic-Tac-Toe."
   ]
  },
  {
   "cell_type": "code",
   "execution_count": null,
   "metadata": {},
   "outputs": [],
   "source": [
    "# First solution\n",
    "def is_solved(board):\n",
    "    for row in board:\n",
    "        prod_sum_row = row[0]*row[1]*row[2]\n",
    "        if prod_sum_row == 8:\n",
    "            print(\"prod_sum_row > 2\")\n",
    "            return 2\n",
    "        elif prod_sum_row == 1:\n",
    "            print(\"prod_sum_row == 1\")\n",
    "            return 1\n",
    "    for column in range(len(board)):\n",
    "        prod_sum_col = board[0][column]*board[1][column]*board[2][column]\n",
    "        if prod_sum_col == 8:\n",
    "            print(\"prod_sum_col > 2\")\n",
    "            return 2\n",
    "        elif prod_sum_col == 1:\n",
    "            print(\"prod_sum_col == 1\")\n",
    "            return 1\n",
    "    if board[0][0]*board[1][1]*board[2][2] == 8 or board[0][2]*board[1][1]*board[2][0] == 8:\n",
    "        print(\"board[0][0]*board[1][1]*board[2][2] > 2 or board[0][2]*board[1][1]*board[2][0] > 2\")\n",
    "        return 2\n",
    "    elif board[0][0]*board[1][1]*board[2][2] == 1 or board[0][2]*board[1][1]*board[2][0] == 1:\n",
    "        print(\"board[0][0]*board[1][1]*board[2][2] == 1 or board[0][2]*board[1][1]*board[2][0] == 1\")\n",
    "        return 1\n",
    "    for row in board:\n",
    "        if 0 in row:\n",
    "            return -1\n",
    "    return 0"
   ]
  },
  {
   "cell_type": "code",
   "execution_count": 74,
   "metadata": {},
   "outputs": [],
   "source": [
    "# Second solution\n",
    "def is_solved(board):\n",
    "    rows = [row for row in board]\n",
    "    columns = [list(column) for column in zip(*board)]\n",
    "    diagonals = [[board[i][i] for i in range(len(board))], [board[j][-1-j] for j in range(len(board))]]\n",
    "    check_win = [rows, columns, diagonals]\n",
    "\n",
    "    for check in check_win:\n",
    "        for line in check:\n",
    "            if line == [1, 1, 1]:\n",
    "                return 1\n",
    "            elif line == [2, 2, 2]:\n",
    "                return 2\n",
    "    for line in board:\n",
    "        if 0 in line:\n",
    "            return -1\n",
    "    return 0"
   ]
  },
  {
   "cell_type": "code",
   "execution_count": 78,
   "metadata": {},
   "outputs": [],
   "source": [
    "# Second solution: refactor\n",
    "def is_solved(board):\n",
    "    rows = [row for row in board]\n",
    "    columns = [list(column) for column in zip(*board)]\n",
    "    diagonals = [[board[i][i] for i in range(len(board))], [board[j][-1-j] for j in range(len(board))]]\n",
    "    check_win = [rows, columns, diagonals]\n",
    "\n",
    "    for check in check_win:\n",
    "        for line in check:\n",
    "            if line == [1, 1, 1]:\n",
    "                return 1\n",
    "            elif line == [2, 2, 2]:\n",
    "                return 2\n",
    "    return -1 if any(0 in line for line in board) else 0"
   ]
  },
  {
   "cell_type": "code",
   "execution_count": 79,
   "metadata": {},
   "outputs": [
    {
     "name": "stdout",
     "output_type": "stream",
     "text": [
      "-1\n",
      "1\n",
      "1\n",
      "0\n",
      "[(2, 2, 1), (1, 1, 2), (2, 1, 1)]\n"
     ]
    }
   ],
   "source": [
    "# not yet finished\n",
    "board = [[0, 0, 1],\n",
    "         [0, 1, 2],\n",
    "         [2, 1, 0]]\n",
    "print(is_solved(board))\n",
    "\n",
    "# winning row\n",
    "board = [[1, 1, 1],\n",
    "         [0, 2, 2],\n",
    "         [0, 0, 0]]\n",
    "print(is_solved(board))\n",
    "\n",
    "# winning column\n",
    "board = [[2, 1, 2],\n",
    "         [2, 1, 1],\n",
    "         [1, 1, 2]]\n",
    "print(is_solved(board))\n",
    "\n",
    "# draw\n",
    "board = [[2, 1, 2],\n",
    "         [2, 1, 1],\n",
    "         [1, 2, 1]]\n",
    "print(is_solved(board))"
   ]
  },
  {
   "attachments": {},
   "cell_type": "markdown",
   "metadata": {},
   "source": [
    "### Solutions\n",
    "View solutions from others at CodeWars: *[Tic-Tac-Toe Checker](https://www.codewars.com/kata/525caa5c1bf619d28c000335/solutions/python)*."
   ]
  }
 ],
 "metadata": {
  "kernelspec": {
   "display_name": "base",
   "language": "python",
   "name": "python3"
  },
  "language_info": {
   "codemirror_mode": {
    "name": "ipython",
    "version": 3
   },
   "file_extension": ".py",
   "mimetype": "text/x-python",
   "name": "python",
   "nbconvert_exporter": "python",
   "pygments_lexer": "ipython3",
   "version": "3.10.9"
  },
  "orig_nbformat": 4
 },
 "nbformat": 4,
 "nbformat_minor": 2
}
