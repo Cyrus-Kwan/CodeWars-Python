{
 "cells": [
  {
   "cell_type": "markdown",
   "metadata": {},
   "source": [
    "# Find the Unique Number\n",
    "There is an array with some numbers. All numbers are equal except for one. Try to find it!\n",
    "\n",
    "> ``` python\n",
    "> find_uniq([ 1, 1, 1, 2, 1, 1 ]) == 2\n",
    "> find_uniq([ 0, 0, 0.55, 0, 0 ]) == 0.55\n",
    "> ```\n",
    "\n",
    "It's guaranteed that array contains at least 3 numbers.\n",
    "\n",
    "The tests contain some very huge arrays. so think about performance.\n",
    "\n",
    "This is the first kata in series:\n",
    "1. Find the unique number (this kata)\n",
    "2. Find the unique string\n",
    "3. Find the unique"
   ]
  },
  {
   "cell_type": "code",
   "execution_count": 29,
   "metadata": {},
   "outputs": [],
   "source": [
    "# First solution\n",
    "def find_uniq(arr):\n",
    "    for val in arr:\n",
    "        if arr.count(val) == 1:\n",
    "            return val"
   ]
  },
  {
   "cell_type": "code",
   "execution_count": 53,
   "metadata": {},
   "outputs": [],
   "source": [
    "# Second solution\n",
    "def find_uniq(arr):\n",
    "    unique = set(arr)\n",
    "    for val in unique:\n",
    "        if arr.count(val) == 1:\n",
    "            return val"
   ]
  },
  {
   "cell_type": "code",
   "execution_count": 135,
   "metadata": {},
   "outputs": [
    {
     "name": "stdout",
     "output_type": "stream",
     "text": [
      "2 2\n",
      "0.55 0.55\n",
      "10 10\n"
     ]
    }
   ],
   "source": [
    "print(find_uniq([ 1, 1, 1, 2, 1, 1 ]), 2)\n",
    "print(find_uniq([ 0, 0, 0.55, 0, 0 ]), 0.55)\n",
    "print(find_uniq([ 3, 10, 3, 3, 3 ]), 10)"
   ]
  },
  {
   "cell_type": "markdown",
   "metadata": {},
   "source": [
    "### Solutions\n",
    "View solutions from others at CodeWars: *[Find the Unique Number](https://www.codewars.com/kata/585d7d5adb20cf33cb000235/solutions/python)*."
   ]
  }
 ],
 "metadata": {
  "kernelspec": {
   "display_name": "base",
   "language": "python",
   "name": "python3"
  },
  "language_info": {
   "codemirror_mode": {
    "name": "ipython",
    "version": 3
   },
   "file_extension": ".py",
   "mimetype": "text/x-python",
   "name": "python",
   "nbconvert_exporter": "python",
   "pygments_lexer": "ipython3",
   "version": "3.10.9"
  },
  "orig_nbformat": 4
 },
 "nbformat": 4,
 "nbformat_minor": 2
}
