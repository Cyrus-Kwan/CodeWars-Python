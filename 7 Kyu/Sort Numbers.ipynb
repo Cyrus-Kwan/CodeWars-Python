{
 "cells": [
  {
   "cell_type": "markdown",
   "metadata": {},
   "source": [
    "# Sort Numbers\n",
    "Finish the solution so that it sorts the passed in array of numbers. If the function passes in an empty array or null/nil value then it should return an empty array.\n",
    "\n",
    "**Example**\n",
    "> ``` python\n",
    "> solution([1,2,3,10,5]) # should return [1,2,3,5,10]\n",
    "> solution(None) # should return []\n",
    "> ```"
   ]
  },
  {
   "cell_type": "code",
   "execution_count": 1,
   "metadata": {},
   "outputs": [],
   "source": [
    "def solution(nums):\n",
    "    return sorted(nums) if nums else []"
   ]
  },
  {
   "cell_type": "code",
   "execution_count": 2,
   "metadata": {},
   "outputs": [
    {
     "name": "stdout",
     "output_type": "stream",
     "text": [
      "[1, 2, 3, 5, 10] [1, 2, 3, 5, 10]\n",
      "[] []\n",
      "[] []\n",
      "[2, 10, 20] [2, 10, 20]\n",
      "[2, 10, 20] [2, 10, 20]\n"
     ]
    }
   ],
   "source": [
    "print(solution([1,2,3,10,5]), [1,2,3,5,10])\n",
    "print(solution(None), [])\n",
    "print(solution([]), [])\n",
    "print(solution([20,2,10]), [2,10,20])\n",
    "print(solution([2,20,10]), [2,10,20])"
   ]
  },
  {
   "cell_type": "markdown",
   "metadata": {},
   "source": [
    "### Solutions\n",
    "View solutions from others at CodeWars: *[Sort Numbers](https://www.codewars.com/kata/5174a4c0f2769dd8b1000003/solutions/python)*."
   ]
  }
 ],
 "metadata": {
  "kernelspec": {
   "display_name": "base",
   "language": "python",
   "name": "python3"
  },
  "language_info": {
   "codemirror_mode": {
    "name": "ipython",
    "version": 3
   },
   "file_extension": ".py",
   "mimetype": "text/x-python",
   "name": "python",
   "nbconvert_exporter": "python",
   "pygments_lexer": "ipython3",
   "version": "3.10.9"
  },
  "orig_nbformat": 4
 },
 "nbformat": 4,
 "nbformat_minor": 2
}
