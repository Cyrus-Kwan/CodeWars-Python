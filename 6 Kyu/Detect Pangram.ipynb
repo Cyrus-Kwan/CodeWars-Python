{
 "cells": [
  {
   "attachments": {},
   "cell_type": "markdown",
   "metadata": {},
   "source": [
    "# Detect Pangram\n",
    "A pangram is a sentence that contains every single letter of the alphabet at least once. For example, the sentence \"The quick brown fox jumps over the lazy dog\" is a panagram, because it uses the letters A-Z at least once (case is irrelevant).\n",
    "\n",
    "Given a string, detect whether or not it is a pangram. Return True if it is, Flase if not. Ignore numbers and punctuation"
   ]
  },
  {
   "cell_type": "code",
   "execution_count": 4,
   "metadata": {},
   "outputs": [],
   "source": [
    "def is_pangram(string):\n",
    "    alphabet = \"abcdefghijklmnopqrstuvwxyz\"\n",
    "    lower_case = string.lower()\n",
    "\n",
    "    for letter in alphabet:\n",
    "        if not (letter in lower_case):\n",
    "            return False\n",
    "\n",
    "    return True"
   ]
  },
  {
   "cell_type": "code",
   "execution_count": 6,
   "metadata": {},
   "outputs": [
    {
     "name": "stdout",
     "output_type": "stream",
     "text": [
      "True\n",
      "False\n",
      "True\n",
      "True\n",
      "True\n",
      "True\n",
      "False\n",
      "False\n",
      "False\n"
     ]
    }
   ],
   "source": [
    "print(is_pangram(\"The quick, brown fox jumps over the lazy dog!\"))\n",
    "print(is_pangram(\"1bcdefghijklmnopqrstuvwxyz\"))\n",
    "print(is_pangram(\"Cwm fjord bank glyphs vext quiz\"))\n",
    "print(is_pangram(\"Pack my box with five dozen liquor jugs.\"))\n",
    "print(is_pangram(\"How quickly daft jumping zebras vex.\"))\n",
    "print(is_pangram(\"ABCD45EFGH,IJK,LMNOPQR56STUVW3XYZ\"))\n",
    "print(is_pangram(\"This isn't a pangram!\"))\n",
    "print(is_pangram(\"abcdefghijklm opqrstuvwxyz\"))\n",
    "print(is_pangram(\"Aacdefghijklmnopqrstuvwxyz\"))"
   ]
  },
  {
   "attachments": {},
   "cell_type": "markdown",
   "metadata": {},
   "source": [
    "### Solutions\n",
    "View solutions from others at CodeWars: *[Detect Pangram](https://www.codewars.com/kata/545cedaa9943f7fe7b000048/solutions/python)*."
   ]
  }
 ],
 "metadata": {
  "kernelspec": {
   "display_name": "base",
   "language": "python",
   "name": "python3"
  },
  "language_info": {
   "codemirror_mode": {
    "name": "ipython",
    "version": 3
   },
   "file_extension": ".py",
   "mimetype": "text/x-python",
   "name": "python",
   "nbconvert_exporter": "python",
   "pygments_lexer": "ipython3",
   "version": "3.10.9"
  },
  "orig_nbformat": 4
 },
 "nbformat": 4,
 "nbformat_minor": 2
}
