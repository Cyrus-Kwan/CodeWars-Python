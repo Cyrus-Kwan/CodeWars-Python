{
 "cells": [
  {
   "cell_type": "markdown",
   "metadata": {},
   "source": [
    "# Sum of odd numbers\n",
    "\n",
    "Given the triangle of consecutive odd numbers:\n",
    "> ```\n",
    ">              1\n",
    ">           3     5\n",
    ">        7     9    11\n",
    ">    13    15    17    19\n",
    "> 21    23    25    27    29\n",
    "> ...\n",
    "> ```\n",
    "\n",
    "Calculate the sum of the numbers in the nth row of this triangle (starting at index 1) e.g.\n",
    "> ```\n",
    "> 1 -->  1\n",
    "> 2 --> 3 + 5 = 8\n",
    "> ```"
   ]
  },
  {
   "cell_type": "code",
   "execution_count": 5,
   "metadata": {},
   "outputs": [],
   "source": [
    "def row_sum_odd_numbers(n):\n",
    "    return n**3"
   ]
  },
  {
   "cell_type": "code",
   "execution_count": 7,
   "metadata": {},
   "outputs": [
    {
     "name": "stdout",
     "output_type": "stream",
     "text": [
      "1 1\n",
      "8 8\n",
      "2197 2197\n",
      "6859 6859\n",
      "68921 68921\n"
     ]
    }
   ],
   "source": [
    "print(row_sum_odd_numbers(1), 1)\n",
    "print(row_sum_odd_numbers(2), 8)\n",
    "print(row_sum_odd_numbers(13), 2197)\n",
    "print(row_sum_odd_numbers(19), 6859)\n",
    "print(row_sum_odd_numbers(41), 68921)"
   ]
  },
  {
   "cell_type": "markdown",
   "metadata": {},
   "source": [
    "### Solutions\n",
    "View solutions from others at CodeWars: *[Sum of odd numbers](https://www.codewars.com/kata/55fd2d567d94ac3bc9000064/solutions/python)*."
   ]
  }
 ],
 "metadata": {
  "kernelspec": {
   "display_name": "base",
   "language": "python",
   "name": "python3"
  },
  "language_info": {
   "codemirror_mode": {
    "name": "ipython",
    "version": 3
   },
   "file_extension": ".py",
   "mimetype": "text/x-python",
   "name": "python",
   "nbconvert_exporter": "python",
   "pygments_lexer": "ipython3",
   "version": "3.10.9"
  },
  "orig_nbformat": 4
 },
 "nbformat": 4,
 "nbformat_minor": 2
}
