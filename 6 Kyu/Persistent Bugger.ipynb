{
 "cells": [
  {
   "cell_type": "markdown",
   "metadata": {},
   "source": [
    "# Persistent Bugger\n",
    "\n",
    "Write a function, `persistence`, that takes in a positive parameter `num` and returns its multiplicative persistence, which is the number of times you must multiply the digits in `num` until you reach a single digit.\n",
    "\n",
    "**Example**\n",
    "\n",
    "> ```\n",
    "> 39 --> 3 (because 3*9 = 27, 2*7 = 14, 1*4 = 4 and 4 has only one digit)\n",
    "> 999 --> 4 (because 9*9*9 = 729, 7*2*9 = 126, 1*2*6 = 12, and finally 1*2 = 2)\n",
    "> 4 --> 0 (because 4 is already a one-digit number)\n",
    "> ```"
   ]
  },
  {
   "cell_type": "code",
   "execution_count": 13,
   "metadata": {},
   "outputs": [],
   "source": [
    "def persistence(n):\n",
    "    if len(str(n)) == 1:\n",
    "        return 0\n",
    "        \n",
    "    prod_sum = 1\n",
    "    while n:\n",
    "        prod_sum *= n % 10\n",
    "        n = n//10\n",
    "    \n",
    "    if len(str(prod_sum)) > 1:\n",
    "        return persistence(prod_sum) + 1\n",
    "    else:\n",
    "        return 1"
   ]
  },
  {
   "cell_type": "code",
   "execution_count": 46,
   "metadata": {},
   "outputs": [],
   "source": [
    "def persistence(n):\n",
    "    if n < 10:\n",
    "        return 0\n",
    "    \n",
    "    prod_sum = 1\n",
    "    while n:\n",
    "        prod_sum *= n % 10\n",
    "        n = n//10\n",
    "    \n",
    "    return persistence(prod_sum) + 1"
   ]
  },
  {
   "cell_type": "code",
   "execution_count": 47,
   "metadata": {},
   "outputs": [
    {
     "name": "stdout",
     "output_type": "stream",
     "text": [
      "3 3\n",
      "0 0\n",
      "2 2\n",
      "4 4\n"
     ]
    }
   ],
   "source": [
    "print(persistence(39), 3)\n",
    "print(persistence(4), 0)\n",
    "print(persistence(25), 2)\n",
    "print(persistence(999), 4)"
   ]
  },
  {
   "cell_type": "markdown",
   "metadata": {},
   "source": [
    "### Solutions\n",
    "View solutions from others at CodeWars: *[Persistent Bugger](https://www.codewars.com/kata/55bf01e5a717a0d57e0000ec/solutions/python)*."
   ]
  }
 ],
 "metadata": {
  "kernelspec": {
   "display_name": "base",
   "language": "python",
   "name": "python3"
  },
  "language_info": {
   "codemirror_mode": {
    "name": "ipython",
    "version": 3
   },
   "file_extension": ".py",
   "mimetype": "text/x-python",
   "name": "python",
   "nbconvert_exporter": "python",
   "pygments_lexer": "ipython3",
   "version": "3.10.9"
  },
  "orig_nbformat": 4
 },
 "nbformat": 4,
 "nbformat_minor": 2
}
