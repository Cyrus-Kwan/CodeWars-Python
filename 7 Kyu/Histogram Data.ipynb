{
 "cells": [
  {
   "attachments": {},
   "cell_type": "markdown",
   "metadata": {},
   "source": [
    "# Histogram Data\n",
    "You will be given an array of non-negative integers and positive integer bin width.\n",
    "\n",
    "Your task is to create the HIstogram method that will return histogram data corresponding to the input array. The histogram data is an array that stores under index i the count of numbers that belong to bin i. The rist bin always starts with zero.\n",
    "\n",
    "On empty input you should return empty output.\n",
    "\n",
    "Examples:\n",
    "- For input data [1, 1 , 0, 1, 3, 2, 6] and binWidth = 1 the result will be [1, 3, 1, 1, 0, 0, 1] as the data contains single element \"0\". 3 elements \"1\" etc.\n",
    "- For the same data and binWidth = 2 the result will be [4, 2, 0, 1]\n",
    "For input data [7] amd binWidth = 1 the result will be [0, 0, 0, 0, 0, 0, 0, 1]"
   ]
  },
  {
   "cell_type": "code",
   "execution_count": 173,
   "metadata": {},
   "outputs": [],
   "source": [
    "# First solution\n",
    "\n",
    "def histogram(values, bin_width):\n",
    "    if (not values):\n",
    "        return values\n",
    "\n",
    "    hist_length = max(values) + 1\n",
    "    hist_full = [values.count(i) for i in range(hist_length)]\n",
    "    hist_sliced = []\n",
    "\n",
    "    for i in range(0, len(hist_full), bin_width):\n",
    "        segment_sum = sum(hist_full[i:i+bin_width])\n",
    "        hist_sliced.append(segment_sum)\n",
    "    return hist_sliced\n"
   ]
  },
  {
   "cell_type": "code",
   "execution_count": 174,
   "metadata": {},
   "outputs": [
    {
     "name": "stdout",
     "output_type": "stream",
     "text": [
      "[1, 3, 1, 1, 0, 0, 1]\n",
      "[4, 2, 0, 1]\n",
      "[]\n",
      "[0, 0, 0, 0, 0, 0, 0, 0, 1]\n"
     ]
    }
   ],
   "source": [
    "print(histogram([1, 1, 0, 1, 3, 2, 6], 1))\n",
    "print(histogram([1, 1, 0, 1, 3, 2, 6], 2))\n",
    "print(histogram([], 1))\n",
    "print(histogram([8], 1))"
   ]
  },
  {
   "cell_type": "code",
   "execution_count": 180,
   "metadata": {},
   "outputs": [],
   "source": [
    "# Second solution from: https://www.codewars.com/kata/5704bf9b38428f1446000a9d/solutions\n",
    "\n",
    "def histogram2(values, bin_width):\n",
    "    hist = [value // bin_width for value in values]                 # Transforms the values in the initial array to avoid slicing and summing multiple arrays\n",
    "    hist_length = max(hist, default=-1) + 1\n",
    "    final = [hist.count(index) for index in range(hist_length)]\n",
    "    return hist\n"
   ]
  },
  {
   "cell_type": "code",
   "execution_count": 181,
   "metadata": {},
   "outputs": [
    {
     "name": "stdout",
     "output_type": "stream",
     "text": [
      "[1, 1, 0, 1, 3, 2, 6]\n",
      "[0, 0, 0, 0, 1, 1, 3]\n",
      "[]\n",
      "[8]\n"
     ]
    }
   ],
   "source": [
    "print(histogram2([1, 1, 0, 1, 3, 2, 6], 1))\n",
    "print(histogram2([1, 1, 0, 1, 3, 2, 6], 2))\n",
    "print(histogram2([], 1))\n",
    "print(histogram2([8], 1))"
   ]
  },
  {
   "attachments": {},
   "cell_type": "markdown",
   "metadata": {},
   "source": [
    "### Solutions\n",
    "View solutions from others at CodeWars: *[Histogram Data](https://www.codewars.com/kata/5704bf9b38428f1446000a9d/solutions)*."
   ]
  }
 ],
 "metadata": {
  "kernelspec": {
   "display_name": "base",
   "language": "python",
   "name": "python3"
  },
  "language_info": {
   "codemirror_mode": {
    "name": "ipython",
    "version": 3
   },
   "file_extension": ".py",
   "mimetype": "text/x-python",
   "name": "python",
   "nbconvert_exporter": "python",
   "pygments_lexer": "ipython3",
   "version": "3.10.9"
  },
  "orig_nbformat": 4
 },
 "nbformat": 4,
 "nbformat_minor": 2
}
