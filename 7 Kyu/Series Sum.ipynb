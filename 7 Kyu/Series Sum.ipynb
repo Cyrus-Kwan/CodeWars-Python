{
 "cells": [
  {
   "cell_type": "markdown",
   "metadata": {},
   "source": [
    "# Sum of the first nth term of Series\n",
    "\n",
    "Your task is to write a function which returns the sum of following series upto nth term (parameter).\n",
    "> ```\n",
    "> Series: 1 + 1/4 + 1/7 + 1/10 + 1/13 + 1/16 +...\n",
    "> ```\n",
    "\n",
    "**Rules**\n",
    "- You need to round the answer to 2 decimal places and return it as a string.\n",
    "- If the given value is 0 then it should return 0.00\n",
    "- You will only be given natural numbers as arguments.\n",
    "\n",
    "**Examples: (Input --> Output)**\n",
    "> ```\n",
    "> 1 --> 1 --> \"1.00\"\n",
    "> 2 --> 1 + 1/4 --> \"1.25\"\n",
    "> 5 --> 1 + 1/4 + 1/7 + 1/10 + 1/13 --> \"1.57\"\n",
    "> ```"
   ]
  },
  {
   "cell_type": "code",
   "execution_count": 23,
   "metadata": {},
   "outputs": [],
   "source": [
    "def series_sum(n):\n",
    "    result = 0\n",
    "    for i in range(n):\n",
    "        result += 1/(1+(3*i))\n",
    "    return \"{:.2f}\".format(result)"
   ]
  },
  {
   "cell_type": "code",
   "execution_count": 31,
   "metadata": {},
   "outputs": [],
   "source": [
    "def series_sum(n):\n",
    "    return \"{:.2f}\".format(sum(1/(1+(3*i)) for i in range(n)))"
   ]
  },
  {
   "cell_type": "code",
   "execution_count": 32,
   "metadata": {},
   "outputs": [
    {
     "name": "stdout",
     "output_type": "stream",
     "text": [
      "1.00 1.00\n",
      "1.25 1.25\n",
      "1.39 1.39\n"
     ]
    }
   ],
   "source": [
    "print(series_sum(1), \"1.00\")\n",
    "print(series_sum(2), \"1.25\")\n",
    "print(series_sum(3), \"1.39\")"
   ]
  },
  {
   "cell_type": "markdown",
   "metadata": {},
   "source": [
    "### Solutions\n",
    "View solutions from others at CodeWars: *[Sum of the first nth term of Series](https://www.codewars.com/kata/555eded1ad94b00403000071/solutions/python)*."
   ]
  }
 ],
 "metadata": {
  "kernelspec": {
   "display_name": "base",
   "language": "python",
   "name": "python3"
  },
  "language_info": {
   "codemirror_mode": {
    "name": "ipython",
    "version": 3
   },
   "file_extension": ".py",
   "mimetype": "text/x-python",
   "name": "python",
   "nbconvert_exporter": "python",
   "pygments_lexer": "ipython3",
   "version": "3.10.9"
  },
  "orig_nbformat": 4
 },
 "nbformat": 4,
 "nbformat_minor": 2
}
