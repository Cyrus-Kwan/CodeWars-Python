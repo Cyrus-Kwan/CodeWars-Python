{
 "cells": [
  {
   "cell_type": "markdown",
   "metadata": {},
   "source": [
    "# Complementary DNA\n",
    "\n",
    "Deoxyribonucleic acid (DNA) is a chemical found in the nucleus of cells and carries the \"instructions\" for the development and functioning of living organisms.\n",
    "\n",
    "If you wan't to know more: http://en.wikipedia.org/wiki/DNA\n",
    "\n",
    "In DNA strings, symbols \"A\" and \"T\" are complements of each other, as \"C\" and \"G\". Your function receives one side of the DNA (string, except for Haskell); you need to return the other complementary side. DNA strand is never empty or there is no DNA at all (again, except in Haskell).\n",
    "\n",
    "More similar exercise are found here: http://rosalind.info/problems/list-view/\n",
    "\n",
    "Example: (**Input --> output**)\n",
    "\n",
    "> ```\n",
    "> \"ATTGC\" --> \"TAACG\"\n",
    "> \"GTAT\" --> \"CATA\"\n",
    "> ```"
   ]
  },
  {
   "cell_type": "code",
   "execution_count": 7,
   "metadata": {},
   "outputs": [],
   "source": [
    "# First solution\n",
    "def DNA_strand(dna):\n",
    "    complementary = {'A':'T', 'C':'G', 'T':'A', 'G':'C'}\n",
    "    return ''.join(complementary[symbol] for symbol in dna)"
   ]
  },
  {
   "cell_type": "code",
   "execution_count": 21,
   "metadata": {},
   "outputs": [],
   "source": [
    "# Second solution: translate() method only accepts unicode mappings\n",
    "\n",
    "def DNA_strand(dna):\n",
    "    return dna.translate(str.maketrans('ATCG', 'TAGC'))"
   ]
  },
  {
   "cell_type": "code",
   "execution_count": 22,
   "metadata": {},
   "outputs": [
    {
     "name": "stdout",
     "output_type": "stream",
     "text": [
      "TTTT TTTT String AAAA is\n",
      "TAACG TAACG String ATTGC is\n",
      "CATA CATA String GTAT is\n"
     ]
    }
   ],
   "source": [
    "print(DNA_strand(\"AAAA\"),\"TTTT\",\"String AAAA is\")\n",
    "print(DNA_strand(\"ATTGC\"),\"TAACG\",\"String ATTGC is\")\n",
    "print(DNA_strand(\"GTAT\"),\"CATA\",\"String GTAT is\")"
   ]
  },
  {
   "cell_type": "markdown",
   "metadata": {},
   "source": [
    "### Solutions\n",
    "View solutions from others at CodeWars: *[Complementary DNA](https://www.codewars.com/kata/554e4a2f232cdd87d9000038/solutions/python)*."
   ]
  }
 ],
 "metadata": {
  "kernelspec": {
   "display_name": "base",
   "language": "python",
   "name": "python3"
  },
  "language_info": {
   "codemirror_mode": {
    "name": "ipython",
    "version": 3
   },
   "file_extension": ".py",
   "mimetype": "text/x-python",
   "name": "python",
   "nbconvert_exporter": "python",
   "pygments_lexer": "ipython3",
   "version": "3.10.9"
  },
  "orig_nbformat": 4
 },
 "nbformat": 4,
 "nbformat_minor": 2
}
