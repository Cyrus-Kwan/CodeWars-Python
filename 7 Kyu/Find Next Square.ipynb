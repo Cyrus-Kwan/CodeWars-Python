{
 "cells": [
  {
   "attachments": {},
   "cell_type": "markdown",
   "metadata": {},
   "source": [
    "# Find the next perfect square!\n",
    "You might know some pretty large perfect squares. But what about the NEXT one?\n",
    "\n",
    "Complete the `find_next_square` method that finds the next integral perfect square after the one passed as a parameter. Recall that an integral perfect square is an integer n such that sqrt(n) is also an integer.\n",
    "\n",
    "If the parameter is itself not a perfect square then `-1` should be returned. You may assume the parameter is non-negative.\n",
    "\n",
    "**Examples: (Input -> Output)**\n",
    "> ```\n",
    "> 121 --> 144\n",
    "> 625 --> 676\n",
    "> 114 --> -1 since 114 is not a perfect square\n",
    "> ```"
   ]
  },
  {
   "cell_type": "code",
   "execution_count": 13,
   "metadata": {},
   "outputs": [],
   "source": [
    "# First solution\n",
    "\n",
    "def find_next_square(sq):\n",
    "    square_root = sq**(1/2)\n",
    "    return int(square_root + 1)**2 if square_root.is_integer() else -1"
   ]
  },
  {
   "cell_type": "code",
   "execution_count": 11,
   "metadata": {},
   "outputs": [],
   "source": [
    "# Second solution: interesting use of modulo to determine if a value is an integer\n",
    "\n",
    "def find_next_square(sq):\n",
    "    square_root = sq**(1/2)\n",
    "    return -1 if square_root % 1 else (square_root + 1)**2"
   ]
  },
  {
   "cell_type": "code",
   "execution_count": 16,
   "metadata": {},
   "outputs": [
    {
     "name": "stdout",
     "output_type": "stream",
     "text": [
      "144\n",
      "676\n",
      "320356\n",
      "15241630849\n",
      "-1\n",
      "-1\n"
     ]
    }
   ],
   "source": [
    "print(find_next_square(121))\n",
    "print(find_next_square(625))\n",
    "print(find_next_square(319225))\n",
    "print(find_next_square(15241383936))\n",
    "print(find_next_square(155))\n",
    "print(find_next_square(342786627))"
   ]
  },
  {
   "attachments": {},
   "cell_type": "markdown",
   "metadata": {},
   "source": [
    "### Solutions\n",
    "View solutions from others at CodeWars: *[Find the next square!](https://www.codewars.com/kata/56269eb78ad2e4ced1000013/solutions/python)*."
   ]
  }
 ],
 "metadata": {
  "kernelspec": {
   "display_name": "base",
   "language": "python",
   "name": "python3"
  },
  "language_info": {
   "codemirror_mode": {
    "name": "ipython",
    "version": 3
   },
   "file_extension": ".py",
   "mimetype": "text/x-python",
   "name": "python",
   "nbconvert_exporter": "python",
   "pygments_lexer": "ipython3",
   "version": "3.10.9"
  },
  "orig_nbformat": 4
 },
 "nbformat": 4,
 "nbformat_minor": 2
}
