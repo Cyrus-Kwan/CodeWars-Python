{
 "cells": [
  {
   "attachments": {},
   "cell_type": "markdown",
   "metadata": {},
   "source": [
    "# Nesting Structure Comparison\n",
    "Complete the function/method (depending on the language) to return `true`/'`True` when its argument is an array that has the same nesting structures and same corresponding length of nested arrays as the first array.\n",
    "\n",
    "For example:\n",
    "> ``` python\n",
    "> # should return True\n",
    "> same_structure_as([ 1, 1, 1 ], [ 2, 2, 2 ] )\n",
    "> same_structure_as([ 1, [ 1, 1 ] ], [ 2, [ 2, 2 ] ] )\n",
    "> \n",
    "> # should return False \n",
    "> same_structure_as([ 1, [ 1, 1 ] ], [ [ 2, 2 ], 2 ] )\n",
    "> same_structure_as([ 1, [ 1, 1 ] ], [ [ 2 ], 2 ] )\n",
    "> \n",
    "> # should return True\n",
    "> same_structure_as([ [ [ ], [ ] ] ], [ [ [ ], [ ] ] ] )\n",
    "> \n",
    "> # should return False\n",
    "> same_structure_as([ [ [ ], [ ] ] ], [ [ 1, 1 ] ] )\n",
    "> ```"
   ]
  },
  {
   "cell_type": "code",
   "execution_count": 56,
   "metadata": {},
   "outputs": [],
   "source": [
    "# First solution\n",
    "\n",
    "def structure(array):\n",
    "    arr_struct = []\n",
    "    for value in array:\n",
    "        if type(value) == list:\n",
    "            arr_struct.append(structure(value))\n",
    "        else:\n",
    "            arr_struct.append(0)\n",
    "    return arr_struct\n",
    "\n",
    "def same_structure_as(original, other):\n",
    "    if type(original) != type(other):\n",
    "        return False\n",
    "    return structure(original) == structure(other)"
   ]
  },
  {
   "cell_type": "code",
   "execution_count": 75,
   "metadata": {},
   "outputs": [],
   "source": [
    "# Second solution: similar to first but accounts for more iterator types\n",
    "\n",
    "def structure(array):\n",
    "    arr_struct = []\n",
    "    for value in array:\n",
    "        if isinstance(value, (list, tuple)):\n",
    "            arr_struct.append(structure(value))\n",
    "        else:\n",
    "            arr_struct.append(None)\n",
    "    return arr_struct\n",
    "\n",
    "def same_structure_as(original, other):\n",
    "    if type(original) != type(other):\n",
    "        return False\n",
    "    return structure(original) == structure(other)"
   ]
  },
  {
   "cell_type": "code",
   "execution_count": 76,
   "metadata": {},
   "outputs": [
    {
     "name": "stdout",
     "output_type": "stream",
     "text": [
      "True\n",
      "True\n",
      "True\n",
      "True\n",
      "False\n",
      "False\n",
      "True\n"
     ]
    }
   ],
   "source": [
    "print(same_structure_as([1,1,1],[2,2,2]))           # Expected: True\n",
    "print(same_structure_as([1,[1,1]],[2,[2,2]]))       # Expected: True\n",
    "print(same_structure_as([[[],[]]],[[[],[]]]))       # Expected: True\n",
    "print(same_structure_as([1,[[[1]]]],[2,[[[2]]]]))   # Expected: True\n",
    "print(same_structure_as([],1))                      # Expected: False\n",
    "print(same_structure_as([], {}))                    # Expected: False\n",
    "print(same_structure_as([1,'[',']'],['[',']',1]))   # Expected: True"
   ]
  },
  {
   "attachments": {},
   "cell_type": "markdown",
   "metadata": {},
   "source": [
    "### Solutions\n",
    "View solutions from others at CodeWars: *[Nesting Structure Comparison](https://www.codewars.com/kata/520446778469526ec0000001/solutions/python)*."
   ]
  }
 ],
 "metadata": {
  "kernelspec": {
   "display_name": "base",
   "language": "python",
   "name": "python3"
  },
  "language_info": {
   "codemirror_mode": {
    "name": "ipython",
    "version": 3
   },
   "file_extension": ".py",
   "mimetype": "text/x-python",
   "name": "python",
   "nbconvert_exporter": "python",
   "pygments_lexer": "ipython3",
   "version": "3.10.9"
  },
  "orig_nbformat": 4
 },
 "nbformat": 4,
 "nbformat_minor": 2
}
