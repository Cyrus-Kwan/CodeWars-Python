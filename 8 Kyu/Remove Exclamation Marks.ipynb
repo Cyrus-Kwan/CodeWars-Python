{
 "cells": [
  {
   "cell_type": "markdown",
   "metadata": {},
   "source": [
    "# Remove Exclamation Marks\n",
    "\n",
    "Write function remove_exclamation_marks which removes all exclamation marks from a given string"
   ]
  },
  {
   "cell_type": "code",
   "execution_count": 1,
   "metadata": {},
   "outputs": [],
   "source": [
    "def remove_exclamation_marks(s):\n",
    "    return s.replace('!', '')"
   ]
  },
  {
   "cell_type": "code",
   "execution_count": 2,
   "metadata": {},
   "outputs": [
    {
     "name": "stdout",
     "output_type": "stream",
     "text": [
      "Hello World Hello World\n",
      "Hello World Hello World\n",
      "Hi Hello Hi Hello\n",
      " \n",
      "Oh, no Oh, no\n"
     ]
    }
   ],
   "source": [
    "print(remove_exclamation_marks(\"Hello World!\"), \"Hello World\")\n",
    "print(remove_exclamation_marks(\"Hello World!!!\"), \"Hello World\")\n",
    "print(remove_exclamation_marks(\"Hi! Hello!\"), \"Hi Hello\")\n",
    "print(remove_exclamation_marks(\"\"), \"\")\n",
    "print(remove_exclamation_marks(\"Oh, no!!!\"), \"Oh, no\")"
   ]
  },
  {
   "cell_type": "markdown",
   "metadata": {},
   "source": [
    "### Solutions\n",
    "View solutions from others at CodeWars: *[Remove Exclamation Marks](https://www.codewars.com/kata/57a0885cbb9944e24c00008e/solutions/python)*."
   ]
  }
 ],
 "metadata": {
  "kernelspec": {
   "display_name": "base",
   "language": "python",
   "name": "python3"
  },
  "language_info": {
   "codemirror_mode": {
    "name": "ipython",
    "version": 3
   },
   "file_extension": ".py",
   "mimetype": "text/x-python",
   "name": "python",
   "nbconvert_exporter": "python",
   "pygments_lexer": "ipython3",
   "version": "3.10.9"
  },
  "orig_nbformat": 4
 },
 "nbformat": 4,
 "nbformat_minor": 2
}
