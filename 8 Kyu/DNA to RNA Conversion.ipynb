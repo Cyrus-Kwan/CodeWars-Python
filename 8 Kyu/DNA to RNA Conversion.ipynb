{
 "cells": [
  {
   "attachments": {},
   "cell_type": "markdown",
   "metadata": {},
   "source": [
    "# DNA to RNA Conversion\n",
    "Deoxyribonucleric acid, DNA is the primary information storage molecule in biological systems. It is composed of four nucleic acid bases Guanine ('G'), Cytosine ('C'), Adenine ('A'), and Thymine ('T').\n",
    "\n",
    "Ribonucleic acid, RNA, is the primary messenger molecule in cells, RNA differs slightly from DNA its chemical structure contains no Thymine. In RNA Thymine is replaced by another nucleic acid Uracil ('U').\n",
    "\n",
    "Create a function which translates a given DNA string to RNA.\n",
    "\n",
    "For example:\n",
    "> \"GCAT\" => \"GCAU\"\n",
    "\n",
    "The input string can be of arbitrary length - in particular, it may be empty. All input is guaranteed to be valid, i.e. each input string will only ever consist of `'G'`. `'C'`, `'A'` and/or `'T'`."
   ]
  },
  {
   "cell_type": "code",
   "execution_count": 50,
   "metadata": {},
   "outputs": [],
   "source": [
    "def dna_to_rna(dna):\n",
    "    if ('G' not in dna) and ('C' not in dna) and ('A' not in dna) and ('T' not in dna):\n",
    "        return\n",
    "    return dna.replace('T', 'U')\n",
    "        "
   ]
  },
  {
   "attachments": {},
   "cell_type": "markdown",
   "metadata": {},
   "source": [
    "# Solutions\n",
    "View solutions from others at CodeWars: *[DNA to RNA Conversion](https://www.codewars.com/kata/5556282156230d0e5e000089/solutions/python?filter=all&sort=best_practice&invalids=false)*"
   ]
  }
 ],
 "metadata": {
  "kernelspec": {
   "display_name": "base",
   "language": "python",
   "name": "python3"
  },
  "language_info": {
   "codemirror_mode": {
    "name": "ipython",
    "version": 3
   },
   "file_extension": ".py",
   "mimetype": "text/x-python",
   "name": "python",
   "nbconvert_exporter": "python",
   "pygments_lexer": "ipython3",
   "version": "3.10.9"
  },
  "orig_nbformat": 4
 },
 "nbformat": 4,
 "nbformat_minor": 2
}
