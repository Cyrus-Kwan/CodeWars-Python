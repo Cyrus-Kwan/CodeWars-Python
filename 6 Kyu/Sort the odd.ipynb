{
 "cells": [
  {
   "cell_type": "markdown",
   "metadata": {},
   "source": [
    "# Sort the Odd\n",
    "\n",
    "You will be given an array of numbers. You have to sort the odd numbers in ascending order while leaving the even numbers at their original positions.\n",
    "\n",
    "**Examples**\n",
    "> ```\n",
    "> [7, 1]  =>  [1, 7]\n",
    "> [5, 8, 6, 3, 4]  =>  [3, 8, 6, 5, 4]\n",
    "> [9, 8, 7, 6, 5, 4, 3, 2, 1, 0]  =>  [1, 8, 3, 6, 5, 4, 7, 2, 9, 0]\n",
    "> ```"
   ]
  },
  {
   "cell_type": "code",
   "execution_count": 75,
   "metadata": {},
   "outputs": [],
   "source": [
    "# First solution\n",
    "def sort_array(source_array):\n",
    "    odds = []\n",
    "    for index, value in enumerate(source_array):\n",
    "        if value % 2:\n",
    "            odds.append(value)\n",
    "            source_array[index] = None\n",
    "\n",
    "    odds = sorted(odds)\n",
    "\n",
    "    for index, value in enumerate(source_array):\n",
    "        if value == None:\n",
    "            source_array[index] = odds.pop(0)\n",
    "\n",
    "    return source_array"
   ]
  },
  {
   "cell_type": "code",
   "execution_count": 79,
   "metadata": {},
   "outputs": [],
   "source": [
    "# Seconds solution: reduced\n",
    "def sort_array(source_array):\n",
    "    odds = sorted(val for val in source_array if val % 2)\n",
    "    return [val if val % 2 == 0 else odds.pop(0) for val in source_array]"
   ]
  },
  {
   "cell_type": "code",
   "execution_count": 80,
   "metadata": {},
   "outputs": [
    {
     "name": "stdout",
     "output_type": "stream",
     "text": [
      "[1, 3, 2, 8, 5, 4] [1, 3, 2, 8, 5, 4]\n",
      "[1, 3, 5, 8, 0] [1, 3, 5, 8, 0]\n",
      "[] []\n"
     ]
    }
   ],
   "source": [
    "print(sort_array([5, 3, 2, 8, 1, 4]), [1, 3, 2, 8, 5, 4])\n",
    "print(sort_array([5, 3, 1, 8, 0]), [1, 3, 5, 8, 0])\n",
    "print(sort_array([]),[])"
   ]
  },
  {
   "cell_type": "markdown",
   "metadata": {},
   "source": [
    "### Solutions\n",
    "View solutions from others at CodeWars: *[Sort the Odds](https://www.codewars.com/kata/578aa45ee9fd15ff4600090d/solutions/python)*."
   ]
  }
 ],
 "metadata": {
  "kernelspec": {
   "display_name": "base",
   "language": "python",
   "name": "python3"
  },
  "language_info": {
   "codemirror_mode": {
    "name": "ipython",
    "version": 3
   },
   "file_extension": ".py",
   "mimetype": "text/x-python",
   "name": "python",
   "nbconvert_exporter": "python",
   "pygments_lexer": "ipython3",
   "version": "3.10.9"
  },
  "orig_nbformat": 4
 },
 "nbformat": 4,
 "nbformat_minor": 2
}
