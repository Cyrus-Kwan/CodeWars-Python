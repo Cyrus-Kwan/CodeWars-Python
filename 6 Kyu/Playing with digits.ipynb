{
 "cells": [
  {
   "cell_type": "markdown",
   "metadata": {},
   "source": [
    "# Playing with Digits\n",
    "\n",
    "Some numbers have funny properties. For example:\n",
    "> \"89 --> 8¹ + 9² = 89 * 1\"\n",
    "\n",
    "> \"695 --> 6² + 9³ + 5⁴= 1390 = 695 * 2\"\n",
    "\n",
    "> \"46288 --> 4³ + 6⁴+ 2⁵ + 8⁶ + 8⁷ = 2360688 = 46288 * 51\"\n",
    "\n",
    "Given a postive integer n written as abcd... (a, b, c, d... being digits) and a positive integer p\n",
    "- We want to find a positive integer k, if it exists, such that the sum of the digits of n taken to the successive powers of p is equal to k*n.\n",
    "\n",
    "In other words:\n",
    "> \"Is there an integer k such as: (a ^ p + b ^ (p + 1) + c ^ (p + 2) + d ^ (p + 3) + ...) = n * k\"\n",
    "\n",
    "If it is the case we will return k, if not return -1.\n",
    "\n",
    "**Note:** n and p will always be given as strictly positive integers.\n",
    "\n",
    "> ``` python\n",
    "> dig_pow(89, 1) should return 1 since 8¹ + 9² = 89 = 89 * 1\n",
    "> dig_pow(92, 1) should return -1 since there is no k such as 9¹ + 2² equals 92 * k\n",
    "> dig_pow(695, 2) should return 2 since 6² + 9³ + 5⁴= 1390 = 695 * 2\n",
    "> dig_pow(46288, 3) should return 51 since 4³ + 6⁴+ 2⁵ + 8⁶ + 8⁷ = 2360688 = 46288 * 51\n",
    "> ```"
   ]
  },
  {
   "cell_type": "code",
   "execution_count": 29,
   "metadata": {},
   "outputs": [],
   "source": [
    "# First solution\n",
    "def dig_pow(n, p):\n",
    "    n_string = str(n)\n",
    "    prod_sum = 0\n",
    "\n",
    "    for index, digit in enumerate(n_string):\n",
    "        prod_sum += int(digit)**(p + (1 * index))\n",
    "    \n",
    "    for i in range(prod_sum):\n",
    "        if prod_sum == n * i:\n",
    "            return i\n",
    "    return -1"
   ]
  },
  {
   "cell_type": "code",
   "execution_count": 30,
   "metadata": {},
   "outputs": [],
   "source": [
    "# Second solution : Removed second loop because I'm dumb\n",
    "def dig_pow(n, p):\n",
    "    n_string = str(n)\n",
    "    prod_sum = 0\n",
    "\n",
    "    for index, digit in enumerate(n_string):\n",
    "        prod_sum += int(digit)**(p + (1 * index))\n",
    "    \n",
    "    if prod_sum % n == 0:\n",
    "        return prod_sum // n\n",
    "    return -1"
   ]
  },
  {
   "cell_type": "code",
   "execution_count": 36,
   "metadata": {},
   "outputs": [],
   "source": [
    "# Third solution: Reduced\n",
    "def dig_pow(n, p):\n",
    "    prod_sum = 0\n",
    "    for index, digit in enumerate(str(n)):\n",
    "        prod_sum += int(digit)**(p + (1 * index))\n",
    "    return prod_sum // n if prod_sum % n == 0 else -1"
   ]
  },
  {
   "cell_type": "code",
   "execution_count": 37,
   "metadata": {},
   "outputs": [
    {
     "name": "stdout",
     "output_type": "stream",
     "text": [
      "1\n",
      "-1\n",
      "51\n",
      "25\n",
      "9\n",
      "64\n"
     ]
    }
   ],
   "source": [
    "print(dig_pow(89, 1))\n",
    "print(dig_pow(92, 1))\n",
    "print(dig_pow(46288, 3))\n",
    "print(dig_pow(41, 5))\n",
    "print(dig_pow(114, 3))\n",
    "print(dig_pow(8, 3))"
   ]
  },
  {
   "cell_type": "markdown",
   "metadata": {},
   "source": [
    "### Solutions\n",
    "View solutions from others at CodeWars: *[Playing with Digits](https://www.codewars.com/kata/5552101f47fc5178b1000050/solutions/python)*."
   ]
  }
 ],
 "metadata": {
  "kernelspec": {
   "display_name": "base",
   "language": "python",
   "name": "python3"
  },
  "language_info": {
   "codemirror_mode": {
    "name": "ipython",
    "version": 3
   },
   "file_extension": ".py",
   "mimetype": "text/x-python",
   "name": "python",
   "nbconvert_exporter": "python",
   "pygments_lexer": "ipython3",
   "version": "3.10.9"
  },
  "orig_nbformat": 4
 },
 "nbformat": 4,
 "nbformat_minor": 2
}
