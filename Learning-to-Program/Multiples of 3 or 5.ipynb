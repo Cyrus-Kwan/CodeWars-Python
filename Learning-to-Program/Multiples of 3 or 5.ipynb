{
 "cells": [
  {
   "attachments": {},
   "cell_type": "markdown",
   "metadata": {},
   "source": [
    "# Multiples of 3 or 5\n",
    "If we list all the natural numbers below 10 that are multiples of 3 or 5, we get 3, 5, 6, and 9. The sum of these multiples is 23.\n",
    "\n",
    "Finish the solution so that it returns the sum of all the multiples of 3 or 5 **below** the number passed in.\n",
    "Additionally, if the number is negative, return 0 (for languages that do not have them).\n",
    "\n",
    "**Note:** If the number is a multiple of **both** 3 and 5, only count it *once*.\n",
    "\n",
    "**Courtesy of projecteuler.net** (*[Problem 1](https://projecteuler.net/problem=1)*)"
   ]
  },
  {
   "cell_type": "code",
   "execution_count": 9,
   "metadata": {},
   "outputs": [],
   "source": [
    "def solution(number):\n",
    "    sum = 0\n",
    "    if (number <= 0):\n",
    "        return sum\n",
    "    for integer in range(number):\n",
    "        if (integer % 3 == 0) or (integer % 5 == 0):\n",
    "            sum += integer\n",
    "    return sum"
   ]
  },
  {
   "cell_type": "code",
   "execution_count": 10,
   "metadata": {},
   "outputs": [
    {
     "name": "stdout",
     "output_type": "stream",
     "text": [
      "Your solution produced: 3   The correct answer is: 3\n",
      "Your solution produced: 60  The correct answer is: 60\n",
      "Your solution produced: 0   The correct answer is: 0\n",
      "Your solution produced: 3   The correct answer is: 3\n",
      "Your solution produced: 45   The correct answer is: 45\n",
      "Your solution produced: 0   The correct answer is: 0\n",
      "Your solution produced: 0   The correct answer is: 0\n",
      "Your solution produced: 23   The correct answer is: 23\n",
      "Your solution produced: 78   The correct answer is: 78\n",
      "Your solution produced: 9168   The correct answer is: 9168\n",
      "Your solution produced: 0   The correct answer is: 9168\n"
     ]
    }
   ],
   "source": [
    "print(f\"Your solution produced: {solution(4)}   The correct answer is: 3\")\n",
    "print(f\"Your solution produced: {solution(16)}  The correct answer is: 60\")\n",
    "print(f\"Your solution produced: {solution(3)}   The correct answer is: 0\")\n",
    "print(f\"Your solution produced: {solution(5)}   The correct answer is: 3\")\n",
    "print(f\"Your solution produced: {solution(15)}   The correct answer is: 45\")\n",
    "print(f\"Your solution produced: {solution(0)}   The correct answer is: 0\")\n",
    "print(f\"Your solution produced: {solution(-1)}   The correct answer is: 0\")\n",
    "print(f\"Your solution produced: {solution(10)}   The correct answer is: 23\")\n",
    "print(f\"Your solution produced: {solution(20)}   The correct answer is: 78\")\n",
    "print(f\"Your solution produced: {solution(200)}   The correct answer is: 9168\")"
   ]
  },
  {
   "attachments": {},
   "cell_type": "markdown",
   "metadata": {},
   "source": [
    "### Solutions\n",
    "View solutions from others at CodeWars: *[Multiples of 3 or 5](https://www.codewars.com/kata/514b92a657cdc65150000006/solutions/python)*."
   ]
  }
 ],
 "metadata": {
  "kernelspec": {
   "display_name": "base",
   "language": "python",
   "name": "python3"
  },
  "language_info": {
   "codemirror_mode": {
    "name": "ipython",
    "version": 3
   },
   "file_extension": ".py",
   "mimetype": "text/x-python",
   "name": "python",
   "nbconvert_exporter": "python",
   "pygments_lexer": "ipython3",
   "version": "3.10.9"
  },
  "orig_nbformat": 4
 },
 "nbformat": 4,
 "nbformat_minor": 2
}
