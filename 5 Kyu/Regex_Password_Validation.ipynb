{
 "cells": [
  {
   "attachments": {},
   "cell_type": "markdown",
   "metadata": {},
   "source": [
    "# Regex Password Validation\n",
    "You need to write regex that will validate a password to make sure it meets the following criteria:\n",
    "- At least six characters long\n",
    "- Contains a lowercase letter\n",
    "- Contains an uppercase letter\n",
    "- Contains a digit\n",
    "- Only contains alphanumeric characters (note that `'_'` is not alphanumeric)"
   ]
  },
  {
   "cell_type": "code",
   "execution_count": 89,
   "metadata": {},
   "outputs": [],
   "source": [
    "# Reference - https://docs.python.org/3/howto/regex.html#regex-howto\n",
    "#           - https://docs.python.org/3/library/re.html\n",
    "\n",
    "import re\n",
    "\n",
    "regex = re.compile(\"^(?=[a-zA-Z0-9]*[a-z])(?=[a-zA-Z0-9]*[A-Z])(?=[a-zA-Z0-9]*[0-9])[a-zA-Z-0-9]{6,}$\")\n"
   ]
  },
  {
   "cell_type": "code",
   "execution_count": 86,
   "metadata": {},
   "outputs": [
    {
     "name": "stdout",
     "output_type": "stream",
     "text": [
      "True\n",
      "True\n",
      "True\n",
      "True\n",
      "True\n"
     ]
    }
   ],
   "source": [
    "test = regex.search('aaaaaaA')      # Expected: False\n",
    "print(bool(test))\n",
    "\n",
    "test = regex.search('abcdefg')      # Expected: False\n",
    "print(bool(test))\n",
    "\n",
    "test = regex.search('ABCDEFG')      # Expected: False\n",
    "print(bool(test))\n",
    "\n",
    "test = regex.search('0123456')      # Expected: False\n",
    "print(bool(test))\n",
    "\n",
    "test = regex.search('a123ABC')      # Expected: True\n",
    "print(bool(test))"
   ]
  },
  {
   "cell_type": "code",
   "execution_count": 91,
   "metadata": {},
   "outputs": [
    {
     "name": "stdout",
     "output_type": "stream",
     "text": [
      "True\n",
      "False\n",
      "False\n",
      "False\n",
      "True\n"
     ]
    }
   ],
   "source": [
    "from re import search\n",
    "\n",
    "print(bool(search(regex, 'fjd3IR9')))\n",
    "print(bool(search(regex, 'ghdfj32')))\n",
    "print(bool(search(regex, 'DSJKHD23')))\n",
    "print(bool(search(regex, 'dsF43')))\n",
    "print(bool(search(regex, '4fdg5Fj3')))\n"
   ]
  },
  {
   "cell_type": "code",
   "execution_count": 97,
   "metadata": {},
   "outputs": [],
   "source": [
    "# Solution\n",
    "import re\n",
    "\n",
    "regex = re.compile(\"(?=.*[a-z])(?=.*[A-Z])(?=.*[0-9])^[^\\W_]{6,}$\")"
   ]
  },
  {
   "cell_type": "code",
   "execution_count": 98,
   "metadata": {},
   "outputs": [
    {
     "name": "stdout",
     "output_type": "stream",
     "text": [
      "False\n",
      "False\n",
      "False\n",
      "False\n",
      "True\n"
     ]
    }
   ],
   "source": [
    "test = regex.search('aaaaaaA')      # Expected: False\n",
    "print(bool(test))\n",
    "\n",
    "test = regex.search('abcdefg')      # Expected: False\n",
    "print(bool(test))\n",
    "\n",
    "test = regex.search('ABCDEFG')      # Expected: False\n",
    "print(bool(test))\n",
    "\n",
    "test = regex.search('0123456')      # Expected: False\n",
    "print(bool(test))\n",
    "\n",
    "test = regex.search('a123ABC')      # Expected: True\n",
    "print(bool(test))"
   ]
  },
  {
   "attachments": {},
   "cell_type": "markdown",
   "metadata": {},
   "source": [
    "### Solutions\n",
    "View solutions from others at CodeWars: *[Regex Password Validation](https://www.codewars.com/kata/52e1476c8147a7547a000811/train/python)*."
   ]
  }
 ],
 "metadata": {
  "kernelspec": {
   "display_name": "base",
   "language": "python",
   "name": "python3"
  },
  "language_info": {
   "codemirror_mode": {
    "name": "ipython",
    "version": 3
   },
   "file_extension": ".py",
   "mimetype": "text/x-python",
   "name": "python",
   "nbconvert_exporter": "python",
   "pygments_lexer": "ipython3",
   "version": "3.10.9"
  },
  "orig_nbformat": 4
 },
 "nbformat": 4,
 "nbformat_minor": 2
}
