{
 "cells": [
  {
   "attachments": {},
   "cell_type": "markdown",
   "metadata": {},
   "source": [
    "# RGB to Hex Conversion\n",
    "\n",
    "The rgb function is incomplete. Complete it so that passing in RGB decimal values will result in a hexadecimal representation being returned. Valid decimal values for RGB are 0 - 255. Any values that fall out of that range must be rounded to the closest valid value.\n",
    "\n",
    "Note: Your answer should always be 6 characters long, the shorthand with 3 will not work here.\n",
    "\n",
    "The following are examples of expected output values:\n",
    "> rgb(255, 255, 255) # returns FFFFFF\n",
    "\n",
    "> rgb(255, 255, 300) # returns FFFFFF\n",
    "\n",
    "> rgb(0, 0 , 0)      # returns 000000\n",
    "\n",
    "> rgb(148, 0, 211)   # returns 9400D3"
   ]
  },
  {
   "cell_type": "code",
   "execution_count": 14,
   "metadata": {},
   "outputs": [],
   "source": [
    "def rgb(r, g, b):\n",
    "    hex_digits = \"0123456789ABCDEF\"\n",
    "\n",
    "    hex_rgb = \"\"\n",
    "\n",
    "    for color in [r, g , b]:\n",
    "        if (color > 255):       # Safeguard for out of bounds values\n",
    "            color = 255\n",
    "        elif (color < 0):\n",
    "            color = 0\n",
    "        hex_rgb += hex_digits[int(color/16)]\n",
    "        hex_rgb += hex_digits[color % 16]\n",
    "\n",
    "    return hex_rgb"
   ]
  },
  {
   "cell_type": "code",
   "execution_count": 15,
   "metadata": {},
   "outputs": [
    {
     "name": "stdout",
     "output_type": "stream",
     "text": [
      "000000\n",
      "010203\n",
      "FFFFFF\n",
      "FEFDFC\n",
      "00FF7D\n"
     ]
    }
   ],
   "source": [
    "print(rgb(0, 0, 0))\n",
    "print(rgb(1, 2, 3))\n",
    "print(rgb(255, 255, 255))\n",
    "print(rgb(254, 253, 252))\n",
    "print(rgb(-20, 275, 125))"
   ]
  },
  {
   "attachments": {},
   "cell_type": "markdown",
   "metadata": {},
   "source": [
    "### Solutions\n",
    "View solutions from others at CodeWars: *[RGB to Hex Conversion](https://www.codewars.com/kata/513e08acc600c94f01000001/solutions/python)*."
   ]
  }
 ],
 "metadata": {
  "kernelspec": {
   "display_name": "base",
   "language": "python",
   "name": "python3"
  },
  "language_info": {
   "codemirror_mode": {
    "name": "ipython",
    "version": 3
   },
   "file_extension": ".py",
   "mimetype": "text/x-python",
   "name": "python",
   "nbconvert_exporter": "python",
   "pygments_lexer": "ipython3",
   "version": "3.10.9"
  },
  "orig_nbformat": 4
 },
 "nbformat": 4,
 "nbformat_minor": 2
}
