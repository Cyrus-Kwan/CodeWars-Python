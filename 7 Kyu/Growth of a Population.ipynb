{
 "cells": [
  {
   "cell_type": "markdown",
   "metadata": {},
   "source": [
    "# Growth of a Population\n",
    "\n",
    "In a small town the population is `p0 = 1000` at the beginning of a year. The population regularly increases by `2 percent` per year and moreover `50` new inhabitants per year come to live in the town.\n",
    "\n",
    "How many years does the town need to see its population greater or equal to `p = 1200` inhabitants?\n",
    "\n",
    "> ```\n",
    "> At the end of the first year there will be: \n",
    "> 1000 + 1000 * 0.02 + 50 => 1070 inhabitants\n",
    "> \n",
    "> At the end of the 2nd year there will be: \n",
    "> 1070 + 1070 * 0.02 + 50 => 1141 inhabitants (** number of inhabitants is an integer **)\n",
    "> \n",
    "> At the end of the 3rd year there will be:\n",
    "> 1141 + 1141 * 0.02 + 50 => 1213\n",
    "> \n",
    "> It will need 3 entire years.\n",
    "> ```\n",
    "\n",
    "More generally given parameters:\n",
    "\n",
    "`p0, percent, aug (inhabitants coming or leaving each year), p (population equal or surpass)`\n",
    "\n",
    "the function `nb_year` should return `n` number of entire years needed to get a population greater or equal to `p`.\n",
    "\n",
    "aug is an integer, percent of null floating number, p0 and p are positive integers (>0)\n",
    "\n",
    "> ```\n",
    "> Examples:\n",
    "> nb_year(1500, 5, 100, 5000) -> 15\n",
    "> nb_year(1500000, 2.5, 10000, 2000000) -> 10\n",
    "> ```\n",
    "\n",
    "**Note:**\n",
    "\n",
    "Don't forget to convert the percent parameter as a percentage in the body of your function: if the parameter percent is 2 you have to convert it to 0.02."
   ]
  },
  {
   "cell_type": "code",
   "execution_count": 13,
   "metadata": {},
   "outputs": [],
   "source": [
    "def nb_year(p0, percent, aug, p):\n",
    "    years = 0\n",
    "    while p0 < p:\n",
    "        p0 = int(p0 * (1 + (percent/100)) + aug)\n",
    "        years += 1\n",
    "\n",
    "    return years"
   ]
  },
  {
   "cell_type": "code",
   "execution_count": 14,
   "metadata": {},
   "outputs": [
    {
     "name": "stdout",
     "output_type": "stream",
     "text": [
      "15 15\n",
      "10 10\n",
      "94 94\n",
      "4\n"
     ]
    }
   ],
   "source": [
    "print(nb_year(1500, 5, 100, 5000), 15)\n",
    "print(nb_year(1500000, 2.5, 10000, 2000000), 10)\n",
    "print(nb_year(1500000, 0.25, 1000, 2000000), 94)\n",
    "\n",
    "print(nb_year(1000, 2.0, 50, 1214))"
   ]
  },
  {
   "cell_type": "markdown",
   "metadata": {},
   "source": [
    "### Solutions\n",
    "View solutions from others at CodeWars: *[Growth of a Population](https://www.codewars.com/kata/563b662a59afc2b5120000c6/solutions/python)*."
   ]
  }
 ],
 "metadata": {
  "kernelspec": {
   "display_name": "base",
   "language": "python",
   "name": "python3"
  },
  "language_info": {
   "codemirror_mode": {
    "name": "ipython",
    "version": 3
   },
   "file_extension": ".py",
   "mimetype": "text/x-python",
   "name": "python",
   "nbconvert_exporter": "python",
   "pygments_lexer": "ipython3",
   "version": "3.10.9"
  },
  "orig_nbformat": 4
 },
 "nbformat": 4,
 "nbformat_minor": 2
}
