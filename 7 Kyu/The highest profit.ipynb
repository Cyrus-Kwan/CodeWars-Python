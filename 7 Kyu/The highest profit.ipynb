{
 "cells": [
  {
   "cell_type": "markdown",
   "metadata": {},
   "source": [
    "# The highest profit wins!\n",
    "\n",
    "Write a function that returns both the minim and maximum number of the given list/array\n",
    "\n",
    "**Example**\n",
    "> ```\n",
    "> [1,2,3,4,5] --> [1,5]\n",
    "> [2334454,5] --> [5,2334454]\n",
    "> [1]         --> [1,1]\n",
    "> ```"
   ]
  },
  {
   "cell_type": "code",
   "execution_count": 1,
   "metadata": {},
   "outputs": [],
   "source": [
    "def min_max(lst):\n",
    "    return [min(lst), max(lst)]"
   ]
  },
  {
   "cell_type": "code",
   "execution_count": 2,
   "metadata": {},
   "outputs": [
    {
     "name": "stdout",
     "output_type": "stream",
     "text": [
      "[1, 5] [1, 5]\n",
      "[5, 2334454] [5, 2334454]\n"
     ]
    }
   ],
   "source": [
    "print(min_max([1,2,3,4,5]), [1, 5])\n",
    "print(min_max([2334454,5]), [5, 2334454])"
   ]
  },
  {
   "cell_type": "markdown",
   "metadata": {},
   "source": [
    "### Solutions\n",
    "View solutions from others at CodeWars: *[The highest profit wins!](https://www.codewars.com/kata/559590633066759614000063/solutions/python)*."
   ]
  }
 ],
 "metadata": {
  "kernelspec": {
   "display_name": "base",
   "language": "python",
   "name": "python3"
  },
  "language_info": {
   "codemirror_mode": {
    "name": "ipython",
    "version": 3
   },
   "file_extension": ".py",
   "mimetype": "text/x-python",
   "name": "python",
   "nbconvert_exporter": "python",
   "pygments_lexer": "ipython3",
   "version": "3.10.9"
  },
  "orig_nbformat": 4
 },
 "nbformat": 4,
 "nbformat_minor": 2
}
