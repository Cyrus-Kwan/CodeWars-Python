{
 "cells": [
  {
   "cell_type": "markdown",
   "metadata": {},
   "source": [
    "# List Filtering\n",
    "\n",
    "In this kata you will create a function that takes a list of non-negative integers and strings and returns a new list with the strings filtered out.\n",
    "\n",
    "**Example**\n",
    "> ```\n",
    "> filter_list([1,2,'a','b']) == [1,2]\n",
    "> filter_list([1,'a','b',0,15]) == [1,0,15]\n",
    "> filter_list([1,2,'aasf','1','123',123]) == [1,2,123]\n",
    "> ```"
   ]
  },
  {
   "cell_type": "code",
   "execution_count": 1,
   "metadata": {},
   "outputs": [],
   "source": [
    "# First solution: returns list of integers\n",
    "def filter_list(l):\n",
    "    return [integer for integer in l if type(integer) == int]"
   ]
  },
  {
   "cell_type": "code",
   "execution_count": 3,
   "metadata": {},
   "outputs": [],
   "source": [
    "# Second solution: returns list with strings filtered out\n",
    "def filter_list(l):\n",
    "    return [value for value in l if not isinstance(value, str)]"
   ]
  },
  {
   "cell_type": "code",
   "execution_count": 4,
   "metadata": {},
   "outputs": [
    {
     "name": "stdout",
     "output_type": "stream",
     "text": [
      "[1, 2] [1, 2] For input [1, 2, \"a\", \"b\"]\n",
      "[1, 0, 15] [1, 0, 15] Fot input [1, \"a\", \"b\", 0, 15]\n",
      "[1, 2, 123] [1, 2, 123] For input [1, 2, \"aasf\", \"1\", \"123\", 123]\n"
     ]
    }
   ],
   "source": [
    "print(filter_list([1, 2, 'a', 'b']), [1, 2], 'For input [1, 2, \"a\", \"b\"]')\n",
    "print(filter_list([1, 'a', 'b', 0, 15]), [1, 0, 15], 'Fot input [1, \"a\", \"b\", 0, 15]')\n",
    "print(filter_list([1, 2, 'aasf', '1', '123', 123]), [1, 2, 123], 'For input [1, 2, \"aasf\", \"1\", \"123\", 123]')"
   ]
  },
  {
   "cell_type": "markdown",
   "metadata": {},
   "source": [
    "### Solutions\n",
    "View solutions from others at CodeWars: *[List Filtering](https://www.codewars.com/kata/53dbd5315a3c69eed20002dd/solutions/python)*."
   ]
  }
 ],
 "metadata": {
  "kernelspec": {
   "display_name": "base",
   "language": "python",
   "name": "python3"
  },
  "language_info": {
   "codemirror_mode": {
    "name": "ipython",
    "version": 3
   },
   "file_extension": ".py",
   "mimetype": "text/x-python",
   "name": "python",
   "nbconvert_exporter": "python",
   "pygments_lexer": "ipython3",
   "version": "3.10.9"
  },
  "orig_nbformat": 4
 },
 "nbformat": 4,
 "nbformat_minor": 2
}
