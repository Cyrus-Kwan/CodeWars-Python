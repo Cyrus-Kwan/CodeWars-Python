{
 "cells": [
  {
   "cell_type": "markdown",
   "metadata": {},
   "source": [
    "# Array.diff\n",
    "\n",
    "Your goal in this kata is to implement a difference function, which subtracts one list from another and returns the result.\n",
    "\n",
    "It should remove all values from list `a`, which are present in list `b` keeping their order.\n",
    "> ``` python\n",
    "> array_diff([1, 2], [1]) == [2]\n",
    "> ```\n",
    "\n",
    "If a value is present in `b`, all of its occurences must be removed from the other:\n",
    "> ``` python\n",
    "> array_diff([1,2,2,2,3], [2]) == [1, 3]\n",
    "> ```"
   ]
  },
  {
   "cell_type": "code",
   "execution_count": 41,
   "metadata": {},
   "outputs": [],
   "source": [
    "def array_diff(a, b):\n",
    "    values = set(b)\n",
    "    return list(filter(lambda x: x if x not in values else None, a))\n",
    "    "
   ]
  },
  {
   "cell_type": "code",
   "execution_count": 43,
   "metadata": {},
   "outputs": [],
   "source": [
    "def array_diff(a, b):\n",
    "    difference = []\n",
    "    for value in a:\n",
    "        if value not in b:\n",
    "            difference.append(value)\n",
    "\n",
    "    return difference"
   ]
  },
  {
   "cell_type": "code",
   "execution_count": 46,
   "metadata": {},
   "outputs": [
    {
     "name": "stdout",
     "output_type": "stream",
     "text": [
      "[None, 2] [2] a was [1,2], b was [1], expected [2]\n",
      "[None, 2, 2] [2, 2] a was [1,2,2], b was [1], expected [2,2]\n",
      "[1, None, None] [1] a was [1,2,2], b was [2], expected [1]\n",
      "[1, 2, 2] [1, 2, 2] a was [1,2,2], b was [], expected [1,2,2]\n",
      "[] [] a was [], b was [1,2], expected []\n",
      "[None, None, 3] [3] a was [1,2,3], b was [1, 2], expected [3]\n"
     ]
    }
   ],
   "source": [
    "print(array_diff([1,2], [1]), [2], \"a was [1,2], b was [1], expected [2]\")\n",
    "print(array_diff([1,2,2], [1]), [2,2], \"a was [1,2,2], b was [1], expected [2,2]\")\n",
    "print(array_diff([1,2,2], [2]), [1], \"a was [1,2,2], b was [2], expected [1]\")\n",
    "print(array_diff([1,2,2], []), [1,2,2], \"a was [1,2,2], b was [], expected [1,2,2]\")\n",
    "print(array_diff([], [1,2]), [], \"a was [], b was [1,2], expected []\")\n",
    "print(array_diff([1,2,3], [1, 2]), [3], \"a was [1,2,3], b was [1, 2], expected [3]\")"
   ]
  },
  {
   "cell_type": "markdown",
   "metadata": {},
   "source": [
    "### Solutions\n",
    "View solutions from others at CodeWars: *[Array.diff](https://www.codewars.com/kata/523f5d21c841566fde000009/solutions/python)*."
   ]
  }
 ],
 "metadata": {
  "kernelspec": {
   "display_name": "base",
   "language": "python",
   "name": "python3"
  },
  "language_info": {
   "codemirror_mode": {
    "name": "ipython",
    "version": 3
   },
   "file_extension": ".py",
   "mimetype": "text/x-python",
   "name": "python",
   "nbconvert_exporter": "python",
   "pygments_lexer": "ipython3",
   "version": "3.10.9"
  },
  "orig_nbformat": 4
 },
 "nbformat": 4,
 "nbformat_minor": 2
}
