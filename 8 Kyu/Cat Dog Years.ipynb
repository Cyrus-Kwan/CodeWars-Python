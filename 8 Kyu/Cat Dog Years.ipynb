{
 "cells": [
  {
   "cell_type": "markdown",
   "metadata": {},
   "source": [
    "# Cat years, Dog years\n",
    "\n",
    "I have a cat and a dog.\n",
    "I got them at the same time as kitten/puppu. That was `humanYears` years ago.\n",
    "Return their respective ages now as [`humanYears`, `catYears`, `dogYears`]\n",
    "\n",
    "NOTES:\n",
    "- humanYears >=1\n",
    "- humanYears are whole numbers only\n",
    "\n",
    "**Cat Years**\n",
    "- `15` cat years for first year\n",
    "- `+9` cat years for second year\n",
    "- `+4` cat years for each year after that\n",
    "\n",
    "**Dog Years**\n",
    "- `15` dog years for first year\n",
    "- `+9` dog years for second year\n",
    "- `+5` dog years for each year after that\n",
    "\n",
    "**References**\n",
    "- http://www.catster.com/cats-101/calculate-cat-age-in-cat-years\n",
    "- http://www.slate.com/articles/news_and_politics/explainer/2009/05/a_dogs_life.html"
   ]
  },
  {
   "cell_type": "code",
   "execution_count": 16,
   "metadata": {},
   "outputs": [],
   "source": [
    "def cat_dog_years(human_years):\n",
    "    cat_years = 15\n",
    "    dog_years = 15\n",
    "    \n",
    "    if human_years >= 2:\n",
    "        cat_years += 9\n",
    "        dog_years += 9\n",
    "    if human_years > 2:\n",
    "        cat_years += 4*(human_years-2)\n",
    "        dog_years += 5*(human_years-2)\n",
    "        \n",
    "    return [human_years, cat_years, dog_years]"
   ]
  },
  {
   "cell_type": "code",
   "execution_count": 30,
   "metadata": {},
   "outputs": [],
   "source": [
    "def cat_dog_years(human_years):\n",
    "    if human_years >= 2:\n",
    "        cat_years, dog_years = 24 + 4*(human_years-2), 24 + 5*(human_years-2)\n",
    "    else:\n",
    "        cat_years, dog_years = 15, 15\n",
    "    \n",
    "    return [human_years, cat_years, dog_years]"
   ]
  },
  {
   "cell_type": "code",
   "execution_count": 31,
   "metadata": {},
   "outputs": [
    {
     "name": "stdout",
     "output_type": "stream",
     "text": [
      "[1, 15, 15] [1, 15, 15]\n",
      "[2, 24, 24] [2, 24, 24]\n",
      "[10, 56, 64] [10, 56, 64]\n"
     ]
    }
   ],
   "source": [
    "print(cat_dog_years(1), [1,15,15])\n",
    "print(cat_dog_years(2), [2,24,24])\n",
    "print(cat_dog_years(10), [10,56,64])"
   ]
  },
  {
   "cell_type": "markdown",
   "metadata": {},
   "source": [
    "### Solutions\n",
    "View solutions from others at CodeWars: *[Cat years, Dog years](https://www.codewars.com/kata/5a6663e9fd56cb5ab800008b/solutions/python)*."
   ]
  }
 ],
 "metadata": {
  "kernelspec": {
   "display_name": "base",
   "language": "python",
   "name": "python3"
  },
  "language_info": {
   "codemirror_mode": {
    "name": "ipython",
    "version": 3
   },
   "file_extension": ".py",
   "mimetype": "text/x-python",
   "name": "python",
   "nbconvert_exporter": "python",
   "pygments_lexer": "ipython3",
   "version": "3.10.9"
  },
  "orig_nbformat": 4
 },
 "nbformat": 4,
 "nbformat_minor": 2
}
