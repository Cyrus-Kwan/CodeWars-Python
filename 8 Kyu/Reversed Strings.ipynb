{
 "cells": [
  {
   "attachments": {},
   "cell_type": "markdown",
   "metadata": {},
   "source": [
    "# Reversed Strings\n",
    "Complete the solution so that it reverses the string passed into it.\n",
    "> 'world' => 'dlrow'\n",
    "\n",
    "> 'word' = 'drow'"
   ]
  },
  {
   "cell_type": "code",
   "execution_count": 36,
   "metadata": {},
   "outputs": [],
   "source": [
    "def solution(string):\n",
    "    reverse_string = ''\n",
    "\n",
    "    for index in range(len(string)):\n",
    "        reverse_index = -(index + 1)                    # The last character of a string can be indexed as such (eg. string[-1])\n",
    "        reverse_string += string[reverse_index]         # Hence the reversed index of a string can be found by subtracting 1 + the index\n",
    "\n",
    "    return reverse_string\n"
   ]
  },
  {
   "attachments": {},
   "cell_type": "markdown",
   "metadata": {},
   "source": [
    "### Solutions\n",
    "View solutions from others at CodeWars: *[Reversed Strings](https://www.codewars.com/kata/5168bb5dfe9a00b126000018/solutions/python)*."
   ]
  }
 ],
 "metadata": {
  "kernelspec": {
   "display_name": "base",
   "language": "python",
   "name": "python3"
  },
  "language_info": {
   "codemirror_mode": {
    "name": "ipython",
    "version": 3
   },
   "file_extension": ".py",
   "mimetype": "text/x-python",
   "name": "python",
   "nbconvert_exporter": "python",
   "pygments_lexer": "ipython3",
   "version": "3.10.9"
  },
  "orig_nbformat": 4
 },
 "nbformat": 4,
 "nbformat_minor": 2
}
