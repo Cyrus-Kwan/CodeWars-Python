{
 "cells": [
  {
   "attachments": {},
   "cell_type": "markdown",
   "metadata": {},
   "source": [
    "# The museum of incredible dull things\n",
    "The museum of incredible dull things wants to get rid of some exhibitions. Miriam, the interior architect, comes up with a plan to remove the most boring exhibitions. SHe gives them a rating, and then removes the one with the lowest rating.\n",
    "\n",
    "However, just as she finished rating all exhibitions, she's off to an important fair, so she asks you to write a program that tells her the ratings of the items after one removed the lowest one. Faire enough.\n",
    "\n",
    "### Task\n",
    "Given an array of integers, remove the smallest value. **Do not mutate the original array/list**. If there are multiple elements with the same value, remove the one with a lower index. If you get an empty array/list, return an empty array/list.\n",
    "\n",
    "Don't change the order of the elements that are left.\n",
    "\n",
    "**Examples**\n",
    "\n",
    "> ```\n",
    "> * Input: [1,2,3,4,5], output = [2,3,4,5]\n",
    "> * Input: [5,3,2,1,4], output = [5,3,2,4]\n",
    "> * Input: [2,2,1,2,1], output = [2,2,2,1]\n",
    "> ```"
   ]
  },
  {
   "cell_type": "code",
   "execution_count": 42,
   "metadata": {},
   "outputs": [],
   "source": [
    "def remove_smallest(numbers):\n",
    "    try:\n",
    "        new_arr = [number for number in numbers]\n",
    "        new_arr.remove(min(new_arr))\n",
    "        return new_arr\n",
    "    except:\n",
    "        return numbers"
   ]
  },
  {
   "cell_type": "code",
   "execution_count": 43,
   "metadata": {},
   "outputs": [
    {
     "name": "stdout",
     "output_type": "stream",
     "text": [
      "[2, 3, 4, 5]\n",
      "[5, 3, 2, 4]\n",
      "[2, 3, 1, 1]\n",
      "[2, 2, 2, 1]\n",
      "[]\n"
     ]
    }
   ],
   "source": [
    "print(remove_smallest([1, 2, 3, 4, 5]))\n",
    "print(remove_smallest([5, 3, 2, 1, 4]))\n",
    "print(remove_smallest([1, 2, 3, 1, 1]))\n",
    "print(remove_smallest([2, 2, 1, 2, 1]))\n",
    "print(remove_smallest([]))"
   ]
  },
  {
   "cell_type": "code",
   "execution_count": 52,
   "metadata": {},
   "outputs": [],
   "source": [
    "# Refactored\n",
    "\n",
    "def refactor(numbers):\n",
    "    try:\n",
    "        new_arr = numbers[:]\n",
    "        new_arr.remove(min(new_arr))\n",
    "        return new_arr\n",
    "    except ValueError:\n",
    "        return numbers"
   ]
  },
  {
   "cell_type": "code",
   "execution_count": 53,
   "metadata": {},
   "outputs": [
    {
     "name": "stdout",
     "output_type": "stream",
     "text": [
      "[2, 3, 4, 5]\n",
      "[5, 3, 2, 4]\n",
      "[2, 3, 1, 1]\n",
      "[2, 2, 2, 1]\n",
      "[]\n"
     ]
    }
   ],
   "source": [
    "print(refactor([1, 2, 3, 4, 5]))\n",
    "print(refactor([5, 3, 2, 1, 4]))\n",
    "print(refactor([1, 2, 3, 1, 1]))\n",
    "print(refactor([2, 2, 1, 2, 1]))\n",
    "print(refactor([]))"
   ]
  },
  {
   "attachments": {},
   "cell_type": "markdown",
   "metadata": {},
   "source": [
    "### Solutions\n",
    "View solutions from others at CodeWars: *[Remove the minimum](https://www.codewars.com/kata/563cf89eb4747c5fb100001b/solutions/python)*."
   ]
  }
 ],
 "metadata": {
  "kernelspec": {
   "display_name": "base",
   "language": "python",
   "name": "python3"
  },
  "language_info": {
   "codemirror_mode": {
    "name": "ipython",
    "version": 3
   },
   "file_extension": ".py",
   "mimetype": "text/x-python",
   "name": "python",
   "nbconvert_exporter": "python",
   "pygments_lexer": "ipython3",
   "version": "3.10.9"
  },
  "orig_nbformat": 4
 },
 "nbformat": 4,
 "nbformat_minor": 2
}
