{
 "cells": [
  {
   "cell_type": "markdown",
   "metadata": {},
   "source": [
    "# Your order, please\n",
    "\n",
    "Your task is to sort a given string. Each word in the string will contain a single number. This number is the position the word should have in the result.\n",
    "\n",
    "Note: Numbers can be from 1 to 9. So 1 will be the first word (not 0).\n",
    "\n",
    "If the input string is empty, return an empty string. The words in the input String will only contain valid consecutive numbers.\n",
    "\n",
    "**Examples**\n",
    "> ```\n",
    "> \"is2 Thi1s T4est 3a\"  -->  \"Thi1s is2 3a T4est\"\n",
    "> \"4of Fo1r pe6ople g3ood th5e the2\"  -->  \"Fo1r the2 g3ood 4of th5e pe6ople\"\n",
    "> \"\"  -->  \"\"\n",
    "> ```"
   ]
  },
  {
   "cell_type": "code",
   "execution_count": 98,
   "metadata": {},
   "outputs": [],
   "source": [
    "# First solution\n",
    "import re\n",
    "\n",
    "def order(sentence):\n",
    "    labelled_sentence = [list(entry) for entry in zip(sentence.split(' '), re.findall(r\"\\d\", sentence))]\n",
    "    ordered = sorted(labelled_sentence, key=lambda item: item[1], reverse=False)\n",
    "    return ' '.join([word[0] for word in ordered])"
   ]
  },
  {
   "cell_type": "code",
   "execution_count": 139,
   "metadata": {},
   "outputs": [],
   "source": [
    "# Second solution: refactored and removed loop\n",
    "def order(sentence):\n",
    "    ordered_words = sorted(zip(sentence.split(' '), re.findall(r\"\\d+\", sentence)), key=lambda word: int(word[1]))\n",
    "    return ' '.join([word[0] for word in ordered_words])"
   ]
  },
  {
   "cell_type": "code",
   "execution_count": 125,
   "metadata": {},
   "outputs": [],
   "source": [
    "# Third solution: https://www.codewars.com/kata/reviews/55c4624d0538cef0df00009c/groups/55c48715d2609d9b4b0000a6\n",
    "# NOTE: Does sorting twice it could be pretty inefficient for large test cases\n",
    "def order(sentence):\n",
    "    # sorts the characters in each individual word so the digits all get pushed to the front of the key\n",
    "    return ' '.join(sorted(sentence.split(' '), key=lambda char: sorted(char)))"
   ]
  },
  {
   "cell_type": "code",
   "execution_count": 141,
   "metadata": {},
   "outputs": [
    {
     "name": "stdout",
     "output_type": "stream",
     "text": [
      "Thi1s is2 3a T4est Thi1s is2 3a T4est\n",
      "Fo1r the2 g3ood 4of th5e pe6ople Fo1r the2 g3ood 4of th5e pe6ople\n",
      "wha1t sh2all 3we d4o w5ith a6 dru7nken s8ailor wha1t sh2all 3we d4o w5ith a6 dru7nken s8ailor\n",
      " \n",
      "1 2 3 4 5 6 7 8 9 1 2 3 4 5 6 7 8 9\n"
     ]
    }
   ],
   "source": [
    "print(order(\"is2 Thi1s T4est 3a\"), \"Thi1s is2 3a T4est\")\n",
    "print(order(\"4of Fo1r pe6ople g3ood th5e the2\"), \"Fo1r the2 g3ood 4of th5e pe6ople\")\n",
    "print(order(\"d4o dru7nken sh2all w5ith s8ailor wha1t 3we a6\"), \"wha1t sh2all 3we d4o w5ith a6 dru7nken s8ailor\")\n",
    "print(order(\"\"), \"\")\n",
    "print(order(\"3 6 4 2 8 7 5 1 9\"), \"1 2 3 4 5 6 7 8 9\")"
   ]
  },
  {
   "cell_type": "code",
   "execution_count": 97,
   "metadata": {},
   "outputs": [
    {
     "name": "stdout",
     "output_type": "stream",
     "text": [
      "This is a test\n",
      "Do not print this\n"
     ]
    }
   ],
   "source": [
    "# Learning lambda stuff :D\n",
    "\n",
    "test = [[\"Do\", \"This\"], [\"not\", \"is\"], [\"print\", \"a\"], [\"this\", \"test\"]]\n",
    "print(' '.join(map(lambda l: l[1], test)))\n",
    "print(' '.join(map(lambda l: l[0], test)))"
   ]
  },
  {
   "cell_type": "markdown",
   "metadata": {},
   "source": [
    "### Solutions\n",
    "View solutions from others at CodeWars: *[Your order, please](https://www.codewars.com/kata/55c45be3b2079eccff00010f/solutions/python)*."
   ]
  }
 ],
 "metadata": {
  "kernelspec": {
   "display_name": "base",
   "language": "python",
   "name": "python3"
  },
  "language_info": {
   "codemirror_mode": {
    "name": "ipython",
    "version": 3
   },
   "file_extension": ".py",
   "mimetype": "text/x-python",
   "name": "python",
   "nbconvert_exporter": "python",
   "pygments_lexer": "ipython3",
   "version": "3.10.9"
  },
  "orig_nbformat": 4
 },
 "nbformat": 4,
 "nbformat_minor": 2
}
