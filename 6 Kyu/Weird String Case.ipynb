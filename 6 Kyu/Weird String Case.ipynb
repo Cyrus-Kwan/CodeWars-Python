{
 "cells": [
  {
   "attachments": {},
   "cell_type": "markdown",
   "metadata": {},
   "source": [
    "# Weird String Case\n",
    "Write a function `to_weird_case` that accepts a string, and returns the same string with all even indexed characters in each word upper cased, and all odd indexed characters in each word lower cased. The indexing just explained is zero based, so the zero-ith index is even, therefore that character should be upper cased and you need to start over for each word.\n",
    "\n",
    "The passed in string will only consist of alphabetical characters and spaces (`' '`). Spaces will only be present if there are multiple words. Words will be separated by a single space (`' '`).\n",
    "\n",
    "##### Examples:\n",
    "> ``` Python\n",
    "> to_weird_case('String')               # => returns 'StRiNg'\n",
    "> to_weird_case('Weird string case')    # => returns 'WeIrD StRiNg CaSe'\n",
    "> ```"
   ]
  },
  {
   "cell_type": "code",
   "execution_count": 54,
   "metadata": {},
   "outputs": [],
   "source": [
    "def to_weird_case(words):\n",
    "    words_array = words.split(' ')\n",
    "    weird_array = []\n",
    "\n",
    "    for word in words_array:\n",
    "        weird_word = \"\"\n",
    "        for index in range(len(word)):\n",
    "            letter = word[index]\n",
    "            if (index % 2 == 0):\n",
    "                weird_word += letter.upper()\n",
    "            else:\n",
    "                weird_word += letter.lower()\n",
    "        weird_array.append(weird_word)\n",
    "\n",
    "    return ' '.join(weird_array)\n"
   ]
  },
  {
   "cell_type": "code",
   "execution_count": 55,
   "metadata": {},
   "outputs": [
    {
     "name": "stdout",
     "output_type": "stream",
     "text": [
      "ThIs\n",
      "Is\n",
      "ThIs Is A TeSt\n"
     ]
    }
   ],
   "source": [
    "print(to_weird_case('This'))\n",
    "print(to_weird_case('is'))\n",
    "print(to_weird_case(\"THIs iS a TEST\"))"
   ]
  },
  {
   "attachments": {},
   "cell_type": "markdown",
   "metadata": {},
   "source": [
    "### Solutions\n",
    "View solutions from others at CodeWars: *[WeIrD StRiNg CaSe](https://www.codewars.com/kata/52b757663a95b11b3d00062d/solutions/python)*."
   ]
  }
 ],
 "metadata": {
  "kernelspec": {
   "display_name": "base",
   "language": "python",
   "name": "python3"
  },
  "language_info": {
   "codemirror_mode": {
    "name": "ipython",
    "version": 3
   },
   "file_extension": ".py",
   "mimetype": "text/x-python",
   "name": "python",
   "nbconvert_exporter": "python",
   "pygments_lexer": "ipython3",
   "version": "3.10.9"
  },
  "orig_nbformat": 4
 },
 "nbformat": 4,
 "nbformat_minor": 2
}
