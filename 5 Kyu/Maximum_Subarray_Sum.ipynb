{
 "cells": [
  {
   "attachments": {},
   "cell_type": "markdown",
   "metadata": {},
   "source": [
    "# Maximum Subarray Sum\n",
    "\n",
    "The maximum sum subarray problem consists in finding the maximum sum of a contiguous subsequence in an array or list of integers:\n",
    "> ``` python\n",
    "> max_sequence([-2, 1, -3, 4, -1, 2, 1, -5, 4])\n",
    "> # should be 6: [4, -1, 2, 1]\n",
    "> ```\n",
    "\n",
    "Easy case is when the list is made up of only pisitive numbers and the maximum sum is the sum of the whole array. If the list is made up of only negative numbers, return 0 instead.\n",
    "\n",
    "Empty list is considered to have zero greatest sum. Note that the empty list or array is also a valid sublist/subarray."
   ]
  },
  {
   "cell_type": "code",
   "execution_count": 332,
   "metadata": {},
   "outputs": [],
   "source": [
    "# First solution: timed out\n",
    "\n",
    "def max_sequence(arr):\n",
    "    head = 0\n",
    "    max_sum = []\n",
    "    for i, value in enumerate(arr):\n",
    "        if value > 0 and sum(arr[head : i]) < 0:\n",
    "            head = i\n",
    "        if sum(arr[head : i+1]) > sum(max_sum):\n",
    "            max_sum = arr[head : i+1]\n",
    "    return sum(max_sum)"
   ]
  },
  {
   "cell_type": "code",
   "execution_count": 324,
   "metadata": {},
   "outputs": [],
   "source": [
    "# Second solution: Kadane's algorithm using lists\n",
    "\n",
    "def max_sequence(arr):\n",
    "    max_sub = []\n",
    "    sub_arr = []\n",
    "\n",
    "    for i in arr:\n",
    "        if sum(sub_arr, i) > 0:\n",
    "            sub_arr.append(i)\n",
    "        if sum(sub_arr) > sum(max_sub):\n",
    "            max_sub = sub_arr\n",
    "    return sum(max_sub)"
   ]
  },
  {
   "cell_type": "code",
   "execution_count": 334,
   "metadata": {},
   "outputs": [],
   "source": [
    "# Third solution: Implementation of Kadane's algorithm\n",
    "\n",
    "def max_sequence(arr):\n",
    "    max_sum = 0\n",
    "    this_sum = 0\n",
    "\n",
    "    for i in arr:\n",
    "        this_sum = max(0, this_sum + i)\n",
    "        max_sum = max(max_sum, this_sum)\n",
    "    return max_sum"
   ]
  },
  {
   "cell_type": "code",
   "execution_count": 335,
   "metadata": {},
   "outputs": [
    {
     "name": "stdout",
     "output_type": "stream",
     "text": [
      "155\n",
      "9\n",
      "16\n",
      "19\n"
     ]
    }
   ],
   "source": [
    "print(max_sequence([7, 4, 11, -11, 39, 36, 10, -6, 37, -10, -32, 44, -26, -34, 43, 43]))\n",
    "print(max_sequence([-20, -7, -8, -12, 9, -20, -4, -6, -5, -12, 4]))\n",
    "print(max_sequence([-17, 11, -7, -16, 7, -12, 8, 8, -11, -8, -9, -19]))\n",
    "print(max_sequence([-17, -11, -7, -16, -7, -12, -8, -8, -11, -8, -9, 19]))"
   ]
  },
  {
   "attachments": {},
   "cell_type": "markdown",
   "metadata": {},
   "source": [
    "### Solutions\n",
    "View solutions from others at CodeWars: *[Maximum Subarray Sum](https://www.codewars.com/kata/54521e9ec8e60bc4de000d6c/solutions/python)*."
   ]
  }
 ],
 "metadata": {
  "kernelspec": {
   "display_name": "base",
   "language": "python",
   "name": "python3"
  },
  "language_info": {
   "codemirror_mode": {
    "name": "ipython",
    "version": 3
   },
   "file_extension": ".py",
   "mimetype": "text/x-python",
   "name": "python",
   "nbconvert_exporter": "python",
   "pygments_lexer": "ipython3",
   "version": "3.10.9"
  },
  "orig_nbformat": 4
 },
 "nbformat": 4,
 "nbformat_minor": 2
}
