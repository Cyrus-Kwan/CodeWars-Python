{
 "cells": [
  {
   "cell_type": "markdown",
   "metadata": {},
   "source": [
    "# Find the stray number\n",
    "\n",
    "You are given an *odd-length* array of integers, in which all of them are the same, except for one single number.\n",
    "\n",
    "Complete the method which asccepts such an array, and returns that single different number.\n",
    "\n",
    "**The input array will always be valid!** (odd-length >= 3)\n",
    "\n",
    "**Examples**\n",
    "> ```\n",
    "> [1, 1, 2] ==> 2\n",
    "> [17, 17, 3, 17, 17, 17, 17] ==> 3\n",
    "> ```"
   ]
  },
  {
   "cell_type": "code",
   "execution_count": 2,
   "metadata": {},
   "outputs": [],
   "source": [
    "def stray(arr):\n",
    "    for num in set(arr):\n",
    "        if arr.count(num) == 1:\n",
    "            return num"
   ]
  },
  {
   "cell_type": "code",
   "execution_count": 23,
   "metadata": {},
   "outputs": [],
   "source": [
    "def stray(arr):\n",
    "    return list(filter(lambda num: arr.count(num) == 1, set(arr)))[0]"
   ]
  },
  {
   "cell_type": "code",
   "execution_count": 43,
   "metadata": {},
   "outputs": [],
   "source": [
    "# Here's something I didn't know was possible\n",
    "\n",
    "def stray(arr):\n",
    "    return min(arr, key=arr.count)"
   ]
  },
  {
   "cell_type": "code",
   "execution_count": 44,
   "metadata": {},
   "outputs": [
    {
     "name": "stdout",
     "output_type": "stream",
     "text": [
      "2 2\n",
      "3 3\n",
      "3 3\n"
     ]
    }
   ],
   "source": [
    "print(stray([1, 1, 1, 1, 1, 1, 2]), 2)\n",
    "print(stray([2, 3, 2, 2, 2]), 3)\n",
    "print(stray([3, 2, 2, 2, 2]), 3)"
   ]
  },
  {
   "cell_type": "markdown",
   "metadata": {},
   "source": [
    "### Solutions\n",
    "View solutions from others at CodeWars: *[Find the stray number](https://www.codewars.com/kata/57f609022f4d534f05000024/solutions/python)*."
   ]
  }
 ],
 "metadata": {
  "kernelspec": {
   "display_name": "base",
   "language": "python",
   "name": "python3"
  },
  "language_info": {
   "codemirror_mode": {
    "name": "ipython",
    "version": 3
   },
   "file_extension": ".py",
   "mimetype": "text/x-python",
   "name": "python",
   "nbconvert_exporter": "python",
   "pygments_lexer": "ipython3",
   "version": "3.10.9"
  },
  "orig_nbformat": 4
 },
 "nbformat": 4,
 "nbformat_minor": 2
}
