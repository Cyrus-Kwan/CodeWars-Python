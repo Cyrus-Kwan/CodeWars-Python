{
 "cells": [
  {
   "cell_type": "markdown",
   "metadata": {},
   "source": [
    "# Take a Ten Minute Walk\n",
    "\n",
    "You live in the city of Cartesia where all roads are laid out in a perfect grid. You arrived ten minutes too early to an appointment, so you decided to take the opportunity to go for a short walk. The city provides its citizens with a Walk Generating App on their phones -- everytime you press the button it sends you an array of one-letter strings representing directions to walk (eg. ['n', 's', 'w', 'e']). You always walk only a single block for each letter (direction) and you know it takes you one minute to traverse one city block.\n",
    "\n",
    "Create a function that will return **true** if the walk the app gives you will take you exactly ten minutes (you don't want to be early or late!) and will, of course, return you to your starting point.\n",
    "\n",
    "Return **false** otherwise.\n",
    "\n",
    "> **Note:** you will always receive a valid array containing a random assortment of direction letters ('n', 's', 'w', or 'e' only). It will never give you an empty array (that's not a walk, that's standing still!)."
   ]
  },
  {
   "cell_type": "code",
   "execution_count": 31,
   "metadata": {},
   "outputs": [],
   "source": [
    "# First solution\n",
    "\n",
    "def is_valid_walk(walk):\n",
    "    if len(walk) != 10:\n",
    "        return False\n",
    "    x_pos_map = {'e': 1, 'w': -1}\n",
    "    y_pos_map = {'n': 1, 's': -1}\n",
    "\n",
    "    x_position = 0\n",
    "    y_position = 0\n",
    "\n",
    "    for direction in walk:\n",
    "        if direction in x_pos_map:\n",
    "            x_position += x_pos_map[direction]\n",
    "        elif direction in y_pos_map:\n",
    "            y_position += y_pos_map[direction]\n",
    "\n",
    "    if x_position or y_position:\n",
    "        return False\n",
    "    else:\n",
    "        return True\n"
   ]
  },
  {
   "cell_type": "code",
   "execution_count": 33,
   "metadata": {},
   "outputs": [],
   "source": [
    "# Second solution: Only need to check if opposing directions match in length\n",
    "\n",
    "def is_valid_walk(walk):\n",
    "    if len(walk) != 10:\n",
    "        return False\n",
    "    \n",
    "    if walk.count('n') == walk.count('s') and walk.count('e') == walk.count('w'):\n",
    "        return True\n",
    "    else:\n",
    "        return False"
   ]
  },
  {
   "cell_type": "code",
   "execution_count": 52,
   "metadata": {},
   "outputs": [],
   "source": [
    "# Third solution: Reduces the need to iterate over the string multiple times like in solution two\n",
    "\n",
    "def is_valid_walk(walk):\n",
    "    if len(walk) != 10:\n",
    "        return False\n",
    "\n",
    "    pos_map = {'n': 0, 's': 0, 'e': 0, 'w': 0}\n",
    "\n",
    "    for direction in walk:\n",
    "        pos_map[direction] += 1\n",
    "    \n",
    "    if (pos_map['n'] == pos_map['s'] and \n",
    "        pos_map['e'] == pos_map['w']):\n",
    "        return True\n",
    "    else:\n",
    "        return False"
   ]
  },
  {
   "cell_type": "code",
   "execution_count": 53,
   "metadata": {},
   "outputs": [
    {
     "name": "stdout",
     "output_type": "stream",
     "text": [
      "True True should return True\n",
      "False False should return False\n",
      "False False should return False\n"
     ]
    }
   ],
   "source": [
    "print(is_valid_walk(['n','s','n','s','n','s','n','s','n','s']), True, 'should return True')\n",
    "print(is_valid_walk(['w','e','w','e','w','e','w','e','w','e','w','e']), False, 'should return False')\n",
    "print(is_valid_walk(['n','n','n','s','n','s','n','s','n','s']), False, 'should return False')"
   ]
  },
  {
   "cell_type": "markdown",
   "metadata": {},
   "source": [
    "### Solutions\n",
    "View solutions from others at CodeWars: *[Take a Ten Minute Walk](https://www.codewars.com/kata/54da539698b8a2ad76000228/solutions/python)*."
   ]
  }
 ],
 "metadata": {
  "kernelspec": {
   "display_name": "base",
   "language": "python",
   "name": "python3"
  },
  "language_info": {
   "codemirror_mode": {
    "name": "ipython",
    "version": 3
   },
   "file_extension": ".py",
   "mimetype": "text/x-python",
   "name": "python",
   "nbconvert_exporter": "python",
   "pygments_lexer": "ipython3",
   "version": "3.10.9"
  },
  "orig_nbformat": 4
 },
 "nbformat": 4,
 "nbformat_minor": 2
}
