{
 "cells": [
  {
   "cell_type": "markdown",
   "metadata": {},
   "source": [
    "# Mexican Wave\n",
    "\n",
    "Create a function that turns a string into a Mexican Wave. You will be passed a string and you must return that string in a way where an uppercase letter is a person standing up.\n",
    "1. The input string will always be lower case but maybe empty.\n",
    "2. If the character in the string is whitespace then pass over it as if it was an empty seat\n",
    "\n",
    "**Example**\n",
    "> ``` python\n",
    "> wave(\"hello\") => [\"Hello\", \"hEllo\", \"heLlo\", \"helLo\", \"hellO\"]\n",
    "> ```"
   ]
  },
  {
   "cell_type": "code",
   "execution_count": 7,
   "metadata": {},
   "outputs": [],
   "source": [
    "def wave(people):\n",
    "    result = []\n",
    "    for char_index, char in enumerate(people):\n",
    "        if char != ' ':\n",
    "            mutable = list(people)\n",
    "            mutable[char_index] = mutable[char_index].upper()\n",
    "            result.append(''.join(mutable))\n",
    "    return result"
   ]
  },
  {
   "cell_type": "code",
   "execution_count": 11,
   "metadata": {},
   "outputs": [
    {
     "name": "stdout",
     "output_type": "stream",
     "text": [
      "['Hello', 'hEllo', 'heLlo', 'helLo', 'hellO']\n",
      "['Codewars', 'cOdewars', 'coDewars', 'codEwars', 'codeWars', 'codewArs', 'codewaRs', 'codewarS']\n",
      "[]\n",
      "['Two words', 'tWo words', 'twO words', 'two words', 'two Words', 'two wOrds', 'two woRds', 'two worDs', 'two wordS']\n",
      "[' gap ', ' Gap ', ' gAp ', ' gaP ', ' gap ']\n",
      "['A       b    ', 'a       b    ', 'a       b    ', 'a       b    ', 'a       b    ', 'a       b    ', 'a       b    ', 'a       b    ', 'a       B    ', 'a       b    ', 'a       b    ', 'a       b    ', 'a       b    ']\n",
      "['This is a few words', 'tHis is a few words', 'thIs is a few words', 'thiS is a few words', 'this is a few words', 'this Is a few words', 'this iS a few words', 'this is a few words', 'this is A few words', 'this is a few words', 'this is a Few words', 'this is a fEw words', 'this is a feW words', 'this is a few words', 'this is a few Words', 'this is a few wOrds', 'this is a few woRds', 'this is a few worDs', 'this is a few wordS']\n"
     ]
    }
   ],
   "source": [
    "print(wave(\"hello\"))\n",
    "print(wave(\"codewars\"))\n",
    "print(wave(\"\"))\n",
    "print(wave(\"two words\"))\n",
    "print(wave(\" gap \"))\n",
    "print(wave(\"a       b    \"))\n",
    "print(wave(\"this is a few words\"))"
   ]
  },
  {
   "cell_type": "markdown",
   "metadata": {},
   "source": [
    "### Solutions\n",
    "View solutions from others at CodeWars: *[Mexican Wave](https://www.codewars.com/kata/58f5c63f1e26ecda7e000029/solutions/python)*."
   ]
  }
 ],
 "metadata": {
  "kernelspec": {
   "display_name": "base",
   "language": "python",
   "name": "python3"
  },
  "language_info": {
   "codemirror_mode": {
    "name": "ipython",
    "version": 3
   },
   "file_extension": ".py",
   "mimetype": "text/x-python",
   "name": "python",
   "nbconvert_exporter": "python",
   "pygments_lexer": "ipython3",
   "version": "3.10.9"
  },
  "orig_nbformat": 4
 },
 "nbformat": 4,
 "nbformat_minor": 2
}
