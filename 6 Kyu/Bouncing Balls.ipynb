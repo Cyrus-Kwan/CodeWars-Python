{
 "cells": [
  {
   "cell_type": "markdown",
   "metadata": {},
   "source": [
    "# Bouncing Balls\n",
    "\n",
    "A child is playing with a ball on the nth floor of a tall building. The height of this floor above ground level, `h`, is known.\n",
    "\n",
    "He drops the ball out of the window. The ball bounces (for example), to two-thirds of its height (a bounce of 0.66).\n",
    "\n",
    "His mother looks out of a window 1.5 meters from the ground.\n",
    "\n",
    "How many times will the mother see the ball pass in front of her window (including when it's falling and bouncing)?\n",
    "\n",
    "**Three conditions must be met for a valid experiment:**\n",
    "- Float parameter \"h\" in meters must be greater than 0\n",
    "- Float parameter \"bounce\" must be greater than 0 and less than 1\n",
    "- Float parameter \"window\" must be less than h\n",
    "\n",
    "**If all three conditions above are fulfilled, return a positive integer, otherwise return -1**\n",
    "\n",
    "**Note:**\n",
    "The ball can only be seen if the height of the rebounding ball is strictly greater than the window parameter\n",
    "\n",
    "**Examples:**\n",
    "> ```\n",
    "> - h = 3, bounce = 0.66, window = 1.5, result is 3\n",
    "> - h = 3, bounce = 1, window = 1.5, result is -1 \n",
    "> (Condition 2) not fulfilled.\n",
    "> ```"
   ]
  },
  {
   "cell_type": "code",
   "execution_count": 22,
   "metadata": {},
   "outputs": [],
   "source": [
    "def bouncing_ball(h, bounce, window):\n",
    "    if (window > h) or (h <= 0) or (bounce < 0) or (bounce > 1):\n",
    "        return -1\n",
    "    \n",
    "    ball_detected = 1\n",
    "    while h * bounce > window:\n",
    "        ball_detected += 2\n",
    "        h *= bounce\n",
    "    return ball_detected"
   ]
  },
  {
   "cell_type": "code",
   "execution_count": 47,
   "metadata": {},
   "outputs": [],
   "source": [
    "from math import log\n",
    "def bouncing_ball(h, bounce, window):\n",
    "    if (window > h) or (h <= 0) or (bounce <= 0) or (bounce >= 1):\n",
    "        return -1\n",
    "    \n",
    "    ceiling = int(-(log(window/h)//-log(bounce)))\n",
    "    return 2*(ceiling) - 1"
   ]
  },
  {
   "cell_type": "code",
   "execution_count": 48,
   "metadata": {},
   "outputs": [
    {
     "name": "stdout",
     "output_type": "stream",
     "text": [
      "1\n",
      "3\n",
      "15\n",
      "21\n",
      "-1\n"
     ]
    }
   ],
   "source": [
    "print(bouncing_ball(2, 0.5, 1))\n",
    "print(bouncing_ball(3, 0.66, 1.5))\n",
    "print(bouncing_ball(30, 0.66, 1.5))\n",
    "print(bouncing_ball(30, 0.75, 1.5))\n",
    "print(bouncing_ball(30, 0, 1.5))"
   ]
  },
  {
   "cell_type": "markdown",
   "metadata": {},
   "source": [
    "### Solutions\n",
    "View solutions from others at CodeWars: *[Bouncing Balls](https://www.codewars.com/kata/5544c7a5cb454edb3c000047/solutions/python)*."
   ]
  }
 ],
 "metadata": {
  "kernelspec": {
   "display_name": "base",
   "language": "python",
   "name": "python3"
  },
  "language_info": {
   "codemirror_mode": {
    "name": "ipython",
    "version": 3
   },
   "file_extension": ".py",
   "mimetype": "text/x-python",
   "name": "python",
   "nbconvert_exporter": "python",
   "pygments_lexer": "ipython3",
   "version": "3.10.9"
  },
  "orig_nbformat": 4
 },
 "nbformat": 4,
 "nbformat_minor": 2
}
