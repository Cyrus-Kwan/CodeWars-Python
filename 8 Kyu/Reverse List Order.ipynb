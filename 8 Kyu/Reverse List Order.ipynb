{
 "cells": [
  {
   "cell_type": "markdown",
   "metadata": {},
   "source": [
    "# Revers List Order\n",
    "In this kata you will create a function that takes in a list and returns a list with the reverse order.\n",
    "\n",
    "**Examples (Input -> Output)**\n",
    "> ```\n",
    "> [1, 2, 3, 4]  -> [4, 3, 2, 1]\n",
    "> [9, 2, 0, 7]  -> [7, 0, 2, 9]\n",
    "> ```"
   ]
  },
  {
   "cell_type": "code",
   "execution_count": 3,
   "metadata": {},
   "outputs": [],
   "source": [
    "def reverse_list(l):\n",
    "    return l[::-1]"
   ]
  },
  {
   "cell_type": "code",
   "execution_count": 4,
   "metadata": {},
   "outputs": [
    {
     "name": "stdout",
     "output_type": "stream",
     "text": [
      "[4, 3, 2, 1] [4, 3, 2, 1]\n",
      "[4, 5, 1, 3] [4, 5, 1, 3]\n",
      "[2, 9, 6, 3] [2, 9, 6, 3]\n",
      "[1] [1]\n"
     ]
    }
   ],
   "source": [
    " print(reverse_list([1,2,3,4]), [4,3,2,1])\n",
    " print(reverse_list([3,1,5,4]), [4,5,1,3])\n",
    " print(reverse_list([3,6,9,2]), [2,9,6,3])\n",
    " print(reverse_list([1]), [1])"
   ]
  }
 ],
 "metadata": {
  "kernelspec": {
   "display_name": "base",
   "language": "python",
   "name": "python3"
  },
  "language_info": {
   "codemirror_mode": {
    "name": "ipython",
    "version": 3
   },
   "file_extension": ".py",
   "mimetype": "text/x-python",
   "name": "python",
   "nbconvert_exporter": "python",
   "pygments_lexer": "ipython3",
   "version": "3.10.9"
  },
  "orig_nbformat": 4
 },
 "nbformat": 4,
 "nbformat_minor": 2
}
