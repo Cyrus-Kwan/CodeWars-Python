{
 "cells": [
  {
   "cell_type": "markdown",
   "metadata": {},
   "source": [
    "# Find the Smallest Integer in the Array\n",
    "\n",
    "Given an array of integers your solution should find the smallest integer.\n",
    "\n",
    "For example:\n",
    "- Given `[34, 15, 99, 2]` your solution will return `2`\n",
    "- Given `[34, -345, -1, 100]` your solution will return `-345`\n",
    "\n",
    "You can assume, for the purpose of this kata, that the supplied array will not be empty."
   ]
  },
  {
   "cell_type": "code",
   "execution_count": 1,
   "metadata": {},
   "outputs": [],
   "source": [
    "def find_smallest_int(arr):\n",
    "    return min(arr)"
   ]
  },
  {
   "cell_type": "code",
   "execution_count": 2,
   "metadata": {},
   "outputs": [
    {
     "name": "stdout",
     "output_type": "stream",
     "text": [
      "11 11\n",
      "-33 -33\n",
      "-18446744073709551615 -18446744073709551615\n"
     ]
    }
   ],
   "source": [
    "print(find_smallest_int([78, 56, 232, 12, 11, 43]), 11)\n",
    "print(find_smallest_int([78, 56, -2, 12, 8, -33]), -33)\n",
    "print(find_smallest_int([0, 1-2**64, 2**64]), 1-2**64)"
   ]
  },
  {
   "cell_type": "markdown",
   "metadata": {},
   "source": [
    "### Solutions\n",
    "View solutions from others at CodeWars: *[Find Smallest Int](https://www.codewars.com/kata/55a2d7ebe362935a210000b2/solutions/python)*."
   ]
  }
 ],
 "metadata": {
  "kernelspec": {
   "display_name": "base",
   "language": "python",
   "name": "python3"
  },
  "language_info": {
   "codemirror_mode": {
    "name": "ipython",
    "version": 3
   },
   "file_extension": ".py",
   "mimetype": "text/x-python",
   "name": "python",
   "nbconvert_exporter": "python",
   "pygments_lexer": "ipython3",
   "version": "3.10.9"
  },
  "orig_nbformat": 4
 },
 "nbformat": 4,
 "nbformat_minor": 2
}
