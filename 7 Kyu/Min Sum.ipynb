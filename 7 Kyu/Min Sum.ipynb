{
 "cells": [
  {
   "cell_type": "markdown",
   "metadata": {},
   "source": [
    "# Sum of two lowest positive Integers\n",
    "\n",
    "Create a function that returns the sum of the two lowest positive numbers given an array of minimum 4 positive integers. No floats or non-positive integers will be passed.\n",
    "\n",
    "For example, when an array is passed like `[19, 5, 42, 2, 77]`, the output should be `7`\n",
    "\n",
    "`[10, 343445353, 3453445, 3453545353453]` should return `3453455`."
   ]
  },
  {
   "cell_type": "code",
   "execution_count": 5,
   "metadata": {},
   "outputs": [],
   "source": [
    "def min_sum(numbers):\n",
    "    return sum(sorted(numbers)[0:2])"
   ]
  },
  {
   "cell_type": "code",
   "execution_count": 6,
   "metadata": {},
   "outputs": [
    {
     "name": "stdout",
     "output_type": "stream",
     "text": [
      "13 13\n",
      "19 19\n",
      "30 30\n"
     ]
    }
   ],
   "source": [
    "print(min_sum([5, 8, 12, 18, 22]), 13)\n",
    "print(min_sum([7, 15, 12, 18, 22]), 19)\n",
    "print(min_sum([25, 42, 12, 18, 22]), 30)"
   ]
  },
  {
   "cell_type": "markdown",
   "metadata": {},
   "source": [
    "### Solutions\n",
    "View solutions from others at CodeWars: *[Sum of two lowest positive integers](https://www.codewars.com/kata/558fc85d8fd1938afb000014/solutions/python)*."
   ]
  }
 ],
 "metadata": {
  "kernelspec": {
   "display_name": "base",
   "language": "python",
   "name": "python3"
  },
  "language_info": {
   "codemirror_mode": {
    "name": "ipython",
    "version": 3
   },
   "file_extension": ".py",
   "mimetype": "text/x-python",
   "name": "python",
   "nbconvert_exporter": "python",
   "pygments_lexer": "ipython3",
   "version": "3.10.9"
  },
  "orig_nbformat": 4
 },
 "nbformat": 4,
 "nbformat_minor": 2
}
