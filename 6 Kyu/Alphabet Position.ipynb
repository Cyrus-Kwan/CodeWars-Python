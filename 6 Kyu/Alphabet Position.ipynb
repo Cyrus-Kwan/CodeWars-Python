{
 "cells": [
  {
   "cell_type": "markdown",
   "metadata": {},
   "source": [
    "# Replace with Alphabet Position\n",
    "\n",
    "Welcome.\n",
    "\n",
    "In this kata your are required to, given a string, replace every letter with its position in the alphabet.\n",
    "\n",
    "If anything in the text isn't a letter, ignore it and don't return it.\n",
    "\n",
    "`\"a\" = 1`, `\"b\" = 2`, etc.\n",
    "\n",
    "**Example**\n",
    "> ``` python\n",
    "> alphabet_position(\"The sunset sets at twelve o' clock.\")\n",
    "> ```\n",
    "\n",
    "Should return `\"20 8 5 19 21 14 19 5 20 19 5 20 19 1 20 20 23 5 12 22 5 15 3 12 15 3 11\"` (as a string)"
   ]
  },
  {
   "cell_type": "code",
   "execution_count": null,
   "metadata": {},
   "outputs": [],
   "source": [
    "# First solution\n",
    "import re\n",
    "\n",
    "def alphabet_position(text):\n",
    "    raw_char = re.findall(r\"[a-z]*\", text.lower())\n",
    "    new_string = ''.join(raw_char)\n",
    "    return ' '.join([str(ord(char)-96) for char in new_string])"
   ]
  },
  {
   "cell_type": "code",
   "execution_count": 40,
   "metadata": {},
   "outputs": [],
   "source": [
    "# Second solution: removed redundant code\n",
    "import re\n",
    "\n",
    "def alphabet_position(text):\n",
    "    char_array = re.findall(r\"[a-z]\", text.lower())\n",
    "    return ' '.join([str(ord(char)-96) for char in char_array])"
   ]
  },
  {
   "cell_type": "code",
   "execution_count": 43,
   "metadata": {},
   "outputs": [
    {
     "name": "stdout",
     "output_type": "stream",
     "text": [
      "20 8 5 19 21 14 19 5 20 19 5 20 19 1 20 20 23 5 12 22 5 15 3 12 15 3 11\n",
      "20 8 5 19 21 14 19 5 20 19 5 20 19 1 20 20 23 5 12 22 5 15 3 12 15 3 11\n",
      "20 8 5 14 1 18 23 8 1 12 2 1 3 15 14 19 1 20 13 9 4 14 9 7 8 20\n",
      "20 8 5 14 1 18 23 8 1 12 2 1 3 15 14 19 1 20 13 9 4 14 9 7 8 20\n"
     ]
    }
   ],
   "source": [
    "print(alphabet_position(\"The sunset sets at twelve o' clock.\"))\n",
    "print(\"20 8 5 19 21 14 19 5 20 19 5 20 19 1 20 20 23 5 12 22 5 15 3 12 15 3 11\")\n",
    "print(alphabet_position(\"The narwhal bacons at midnight.\"))\n",
    "print(\"20 8 5 14 1 18 23 8 1 12 2 1 3 15 14 19 1 20 13 9 4 14 9 7 8 20\")"
   ]
  },
  {
   "cell_type": "markdown",
   "metadata": {},
   "source": [
    "### Solutions\n",
    "View solutions from others at CodeWars: *[Replace with Alphabed Position](https://www.codewars.com/kata/546f922b54af40e1e90001da/solutions/python)*."
   ]
  }
 ],
 "metadata": {
  "kernelspec": {
   "display_name": "base",
   "language": "python",
   "name": "python3"
  },
  "language_info": {
   "codemirror_mode": {
    "name": "ipython",
    "version": 3
   },
   "file_extension": ".py",
   "mimetype": "text/x-python",
   "name": "python",
   "nbconvert_exporter": "python",
   "pygments_lexer": "ipython3",
   "version": "3.10.9"
  },
  "orig_nbformat": 4
 },
 "nbformat": 4,
 "nbformat_minor": 2
}
