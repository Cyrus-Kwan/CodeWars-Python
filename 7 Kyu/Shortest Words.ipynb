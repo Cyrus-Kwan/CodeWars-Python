{
 "cells": [
  {
   "cell_type": "markdown",
   "metadata": {},
   "source": [
    "# Shortest Words\n",
    "\n",
    "Simple, given a string of words, return the length of the shortest word(s).\n",
    "\n",
    "String will never be empty and you do not need to account for different data types."
   ]
  },
  {
   "cell_type": "code",
   "execution_count": 2,
   "metadata": {},
   "outputs": [],
   "source": [
    "# First solution: misinterpreted the question, oops... \n",
    "# returns the shortest word\n",
    "\n",
    "def find_short(s):\n",
    "    return min(s.split(' '), key=lambda val:len(val))"
   ]
  },
  {
   "cell_type": "code",
   "execution_count": 7,
   "metadata": {},
   "outputs": [],
   "source": [
    "# Actual first solution\n",
    "def find_short(s):\n",
    "    return min([len(val) for val in s.split(' ')])"
   ]
  },
  {
   "cell_type": "code",
   "execution_count": 13,
   "metadata": {},
   "outputs": [],
   "source": [
    "# Second solution: slightly faster performance\n",
    "def find_short(s):\n",
    "    return min(map(lambda val:len(val), s.split(' ')))"
   ]
  },
  {
   "cell_type": "code",
   "execution_count": 15,
   "metadata": {},
   "outputs": [],
   "source": [
    "# Third solution: turns out you don't have to create a new array. Uses generator instead.\n",
    "def find_short(s):\n",
    "    return min(len(val) for val in s.split(' '))"
   ]
  },
  {
   "cell_type": "code",
   "execution_count": 16,
   "metadata": {},
   "outputs": [
    {
     "name": "stdout",
     "output_type": "stream",
     "text": [
      "3 3\n",
      "3 3\n",
      "3 3\n",
      "1 1\n",
      "2 2\n",
      "2 2\n"
     ]
    }
   ],
   "source": [
    "print(find_short(\"bitcoin take over the world maybe who knows perhaps\"), 3)\n",
    "print(find_short(\"turns out random test cases are easier than writing out basic ones\"), 3)\n",
    "print(find_short(\"lets talk about javascript the best language\"), 3)\n",
    "print(find_short(\"i want to travel the world writing code one day\"), 1)\n",
    "print(find_short(\"Lets all go on holiday somewhere very cold\"), 2)   \n",
    "print(find_short(\"Let's travel abroad shall we\"), 2)"
   ]
  },
  {
   "cell_type": "markdown",
   "metadata": {},
   "source": [
    "### Solutions\n",
    "View solutions from others at CodeWars: *[Shortest Words](https://www.codewars.com/kata/57cebe1dc6fdc20c57000ac9/solutions/python)*."
   ]
  }
 ],
 "metadata": {
  "kernelspec": {
   "display_name": "base",
   "language": "python",
   "name": "python3"
  },
  "language_info": {
   "codemirror_mode": {
    "name": "ipython",
    "version": 3
   },
   "file_extension": ".py",
   "mimetype": "text/x-python",
   "name": "python",
   "nbconvert_exporter": "python",
   "pygments_lexer": "ipython3",
   "version": "3.10.9"
  },
  "orig_nbformat": 4
 },
 "nbformat": 4,
 "nbformat_minor": 2
}
