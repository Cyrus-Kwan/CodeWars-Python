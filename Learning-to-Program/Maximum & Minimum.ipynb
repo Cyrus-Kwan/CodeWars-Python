{
 "cells": [
  {
   "attachments": {},
   "cell_type": "markdown",
   "metadata": {},
   "source": [
    "# Find Maximum and Minimum Values of a List\n",
    "Your task is to make tow functions (`max` and `min`, or `maximum` and `minimum`, etc., depending on the language) that receives a list of integers ad input, and returns the largest and lowest number in that list, respectively.\n",
    "\n",
    "### Examples (Input -> Output)\n",
    "> * [4,6,2,1,9,63,-134,566]             -> max = 566, min = -134\n",
    "\n",
    "> * [-52, 56, 30, 29, -54, 0, -110]     -> max = 56, min = -110\n",
    "\n",
    "> * [42, 54, 65, 87, 0]                 -> max = 87, min = 0\n",
    "\n",
    "> * [5]                                 -> max = 5, min = 5\n",
    "\n",
    "### Notes\n",
    "- You may consider that there will not be any empty arrays/vectors"
   ]
  },
  {
   "cell_type": "code",
   "execution_count": 11,
   "metadata": {},
   "outputs": [],
   "source": [
    "def minimum(arr):\n",
    "    # inbuilt python function min() already exists so you could just use:\n",
    "    # return min(arr)\n",
    "    minimum_value = arr[0]\n",
    "    for integer in arr:\n",
    "        if (integer < minimum_value):\n",
    "            minimum_value = integer\n",
    "    return minimum_value\n",
    "\n",
    "def maximum(arr):\n",
    "    # inbuilt python function max() already exists so you could just use:\n",
    "    # return max(arr)\n",
    "    maximum_value = arr[0]\n",
    "    for integer in arr:\n",
    "        if (integer > maximum_value):\n",
    "            maximum_value = integer\n",
    "    return maximum_value"
   ]
  },
  {
   "cell_type": "code",
   "execution_count": 12,
   "metadata": {},
   "outputs": [
    {
     "name": "stdout",
     "output_type": "stream",
     "text": [
      "min:  -110 max:  56\n",
      "min:  0 max:  87\n",
      "min:  1 max:  10\n",
      "min:  -10 max:  -1\n",
      "min:  9 max:  9\n"
     ]
    }
   ],
   "source": [
    "arr1 = [-52, 56, 30, 29, -54, 0, -110]\n",
    "arr2 = [42, 54, 65, 87, 0]\n",
    "arr3 = [1, 2, 3, 4, 5, 10]\n",
    "arr4 = [-1, -2, -3, -4, -5, -10]\n",
    "arr5 = [9]\n",
    "\n",
    "print(\"min: \", minimum(arr1), \"max: \", maximum(arr1))\n",
    "print(\"min: \", minimum(arr2), \"max: \", maximum(arr2))\n",
    "print(\"min: \", minimum(arr3), \"max: \", maximum(arr3))\n",
    "print(\"min: \", minimum(arr4), \"max: \", maximum(arr4))\n",
    "print(\"min: \", minimum(arr5), \"max: \", maximum(arr5))"
   ]
  },
  {
   "attachments": {},
   "cell_type": "markdown",
   "metadata": {},
   "source": [
    "### Solutions\n",
    "View solutions from others at CodeWars: *[Find Maximum and Minimum Values of a List](https://www.codewars.com/kata/577a98a6ae28071780000989/solutions/python)*."
   ]
  }
 ],
 "metadata": {
  "kernelspec": {
   "display_name": "base",
   "language": "python",
   "name": "python3"
  },
  "language_info": {
   "codemirror_mode": {
    "name": "ipython",
    "version": 3
   },
   "file_extension": ".py",
   "mimetype": "text/x-python",
   "name": "python",
   "nbconvert_exporter": "python",
   "pygments_lexer": "ipython3",
   "version": "3.10.9"
  },
  "orig_nbformat": 4
 },
 "nbformat": 4,
 "nbformat_minor": 2
}
