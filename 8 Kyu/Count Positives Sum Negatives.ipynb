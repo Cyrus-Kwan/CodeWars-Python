{
 "cells": [
  {
   "attachments": {},
   "cell_type": "markdown",
   "metadata": {},
   "source": [
    "# Count of positives/sum of negatives\n",
    "Given an array of integers.\n",
    "\n",
    "Return an array, where the rfirst element is the count of positives numbers and the second element is the sum of negative numbers. 0 is neither positive nor negative.\n",
    "\n",
    "If the input is an empty array or is null, return an empty array.\n",
    "\n",
    "**Example**\n",
    "\n",
    "For input `[1, 2, 3, 4, 5, 6, 7, 8, 9, 10, -11, -12, -13, -14, -15]`, you should return `[10, -65]`"
   ]
  },
  {
   "cell_type": "code",
   "execution_count": 64,
   "metadata": {},
   "outputs": [],
   "source": [
    "# First solution\n",
    "\n",
    "def count_positives_sum_negatives(arr):\n",
    "    return [len([i for i in arr if i > 0]), sum([x for x in arr if x < 0])] if arr else []"
   ]
  },
  {
   "cell_type": "code",
   "execution_count": 54,
   "metadata": {},
   "outputs": [],
   "source": [
    "# Second solution: Takes more space but is more comprehensible \n",
    "\n",
    "def count_positives_sum_negatives(arr):\n",
    "    positive = sum(1 for n in arr if n > 0)\n",
    "    negative = sum(n for n in arr if n < 0)\n",
    "    return [positive, negative] if arr else []"
   ]
  },
  {
   "cell_type": "code",
   "execution_count": 2,
   "metadata": {},
   "outputs": [],
   "source": [
    "# Third soltuion: previous answers had to loop through the array twice\n",
    "\n",
    "def count_positives_sum_negatives(arr):\n",
    "    if (not arr):\n",
    "        return arr\n",
    "    new_arr = []\n",
    "    for n in arr:\n",
    "        if (n > 0):\n",
    "            new_arr.append(0)\n",
    "        elif (n < 0):\n",
    "            new_arr.append(n)\n",
    "    return [new_arr.count(0), sum(new_arr)]"
   ]
  },
  {
   "cell_type": "code",
   "execution_count": 3,
   "metadata": {},
   "outputs": [
    {
     "name": "stdout",
     "output_type": "stream",
     "text": [
      "[10, -65]\n",
      "[8, -50]\n",
      "[1, 0]\n",
      "[0, -1]\n",
      "[0, 0]\n",
      "[]\n"
     ]
    }
   ],
   "source": [
    "print(count_positives_sum_negatives([1, 2, 3, 4, 5, 6, 7, 8, 9, 10, -11, -12, -13, -14, -15]))\n",
    "print(count_positives_sum_negatives([0, 2, 3, 0, 5, 6, 7, 8, 9, 10, -11, -12, -13, -14]))\n",
    "print(count_positives_sum_negatives([1]))\n",
    "print(count_positives_sum_negatives([-1]))\n",
    "print(count_positives_sum_negatives([0,0,0,0,0,0,0,0,0]))\n",
    "print(count_positives_sum_negatives([]))"
   ]
  },
  {
   "attachments": {},
   "cell_type": "markdown",
   "metadata": {},
   "source": [
    "### Solutions\n",
    "View solutions from others at CodeWars: *[Count of positives/sum of negatives](https://www.codewars.com/kata/576bb71bbbcf0951d5000044/solutions/python)*."
   ]
  }
 ],
 "metadata": {
  "kernelspec": {
   "display_name": "base",
   "language": "python",
   "name": "python3"
  },
  "language_info": {
   "codemirror_mode": {
    "name": "ipython",
    "version": 3
   },
   "file_extension": ".py",
   "mimetype": "text/x-python",
   "name": "python",
   "nbconvert_exporter": "python",
   "pygments_lexer": "ipython3",
   "version": "3.10.9"
  },
  "orig_nbformat": 4
 },
 "nbformat": 4,
 "nbformat_minor": 2
}
