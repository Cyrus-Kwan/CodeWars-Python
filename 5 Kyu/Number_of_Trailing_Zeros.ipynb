{
 "cells": [
  {
   "attachments": {},
   "cell_type": "markdown",
   "metadata": {},
   "source": [
    "# Number of trailing zeros of N!\n",
    "Write a program that will calculate the number of trailing zeros in a factorial of a given number.\n",
    "`N! = 1 * 2 * 3 * ... * N`\n",
    "\n",
    "Be careful `1000!` has 2568 digits...\n",
    "\n",
    "For more info, see: http://mathworld.wolfram.com/Factorial.html\n",
    "\n",
    "**Examples**\n",
    "> ``` Python\n",
    "> zeros(6) # Returns 1\n",
    "> # 6! = 1 * 2 * 3 * 4 * 5 * 6 = 720 --> 1 trailing zero\n",
    ">\n",
    "> zeros(12) = 2\n",
    "> # 12! = 479001600 --> 2 trailing zero\n",
    "> ```\n",
    "\n",
    "*Hint: UPi're not mean to calculate the factorial. Find another way to find the number of zeros.*"
   ]
  },
  {
   "cell_type": "code",
   "execution_count": 92,
   "metadata": {},
   "outputs": [],
   "source": [
    "# Problem status: Failed\n",
    "# Solution found from: https://www.codewars.com/kata/52f787eb172a8b4ae1000a34/solutions/python\n",
    "\n",
    "def zeros(n):\n",
    "    zero_trail = 0\n",
    "    while n > 0:\n",
    "        n = n // 5\n",
    "        zero_trail += n\n",
    "    return zero_trail"
   ]
  },
  {
   "cell_type": "code",
   "execution_count": 94,
   "metadata": {},
   "outputs": [
    {
     "name": "stdout",
     "output_type": "stream",
     "text": [
      "0\n",
      "1\n",
      "7\n"
     ]
    }
   ],
   "source": [
    "print(zeros(0))\n",
    "print(zeros(6))\n",
    "print(zeros(30))"
   ]
  },
  {
   "cell_type": "code",
   "execution_count": 109,
   "metadata": {},
   "outputs": [],
   "source": [
    "# Attempt using strings\n",
    "import re\n",
    "import math\n",
    "\n",
    "def zero_string(n):\n",
    "    n_factorial = str(math.factorial(n))\n",
    "    zero_trail = re.search(r\"(?P<digit_trail>0*$)\", n_factorial)        # Any trailing digit can be counted from the end of a string\n",
    "\n",
    "    return len(zero_trail['digit_trail'])"
   ]
  },
  {
   "cell_type": "code",
   "execution_count": 110,
   "metadata": {},
   "outputs": [
    {
     "name": "stdout",
     "output_type": "stream",
     "text": [
      "0\n",
      "1\n",
      "7\n"
     ]
    }
   ],
   "source": [
    "print(zero_string(0))\n",
    "print(zero_string(6))\n",
    "print(zero_string(30))"
   ]
  },
  {
   "attachments": {},
   "cell_type": "markdown",
   "metadata": {},
   "source": [
    "### Solutions\n",
    "View solutions from others at CodeWars: *[Number of trailing zeros of N!](https://www.codewars.com/kata/52f787eb172a8b4ae1000a34/solutions/python)*."
   ]
  }
 ],
 "metadata": {
  "kernelspec": {
   "display_name": "base",
   "language": "python",
   "name": "python3"
  },
  "language_info": {
   "codemirror_mode": {
    "name": "ipython",
    "version": 3
   },
   "file_extension": ".py",
   "mimetype": "text/x-python",
   "name": "python",
   "nbconvert_exporter": "python",
   "pygments_lexer": "ipython3",
   "version": "3.10.9"
  },
  "orig_nbformat": 4
 },
 "nbformat": 4,
 "nbformat_minor": 2
}
