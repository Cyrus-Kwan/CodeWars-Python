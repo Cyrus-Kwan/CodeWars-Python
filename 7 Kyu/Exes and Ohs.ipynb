{
 "cells": [
  {
   "cell_type": "markdown",
   "metadata": {},
   "source": [
    "# Exes and Ohs\n",
    "\n",
    "Check to see if a string has the same amount of 'x's and 'o's. The method must return a boolean and be case insensitive. The string can only contany any char.\n",
    "\n",
    "Examples input/output:\n",
    "\n",
    "> ```\n",
    "> XO(\"ooxx\") => true\n",
    "> XO(\"xooxx\") => false\n",
    "> XO(\"ooxXm\") => true\n",
    "> XO(\"zpzpzpp\") => true // when no 'x' and 'o' is present should return true\n",
    "> XO(\"zzoo\") => false\n",
    "> ```"
   ]
  },
  {
   "cell_type": "code",
   "execution_count": 7,
   "metadata": {},
   "outputs": [],
   "source": [
    "def xo(s):\n",
    "    read_s = s.lower()\n",
    "    return True if read_s.count('x') == read_s.count('o') else False"
   ]
  },
  {
   "cell_type": "code",
   "execution_count": 8,
   "metadata": {},
   "outputs": [
    {
     "name": "stdout",
     "output_type": "stream",
     "text": [
      "True True\n",
      "False False\n",
      "True True\n",
      "True True\n",
      "False False\n",
      "True True\n",
      "True True\n"
     ]
    }
   ],
   "source": [
    "print(xo(\"ooxx\"),    True)\n",
    "print(xo(\"xooxx\"),   False)\n",
    "print(xo(\"ooxXm\"),   True) # Comparison is case-insensitive\n",
    "print(xo(\"zpzpzpp\"), True) # when no 'x' and 'o' is present should return true\n",
    "print(xo(\"zzoo\"),    False)\n",
    "print(xo(\"oxOx\"),    True)\n",
    "print(xo(\"\"),        True)  "
   ]
  },
  {
   "cell_type": "markdown",
   "metadata": {},
   "source": [
    "### Solutions\n",
    "View solutions from others at CodeWars: *[Exes and Ohs](https://www.codewars.com/kata/55908aad6620c066bc00002a/solutions/python)*."
   ]
  }
 ],
 "metadata": {
  "kernelspec": {
   "display_name": "base",
   "language": "python",
   "name": "python3"
  },
  "language_info": {
   "codemirror_mode": {
    "name": "ipython",
    "version": 3
   },
   "file_extension": ".py",
   "mimetype": "text/x-python",
   "name": "python",
   "nbconvert_exporter": "python",
   "pygments_lexer": "ipython3",
   "version": "3.10.9"
  },
  "orig_nbformat": 4
 },
 "nbformat": 4,
 "nbformat_minor": 2
}
