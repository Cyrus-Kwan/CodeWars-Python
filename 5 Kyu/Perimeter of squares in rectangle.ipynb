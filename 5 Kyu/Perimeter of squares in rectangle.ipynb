{
 "cells": [
  {
   "attachments": {},
   "cell_type": "markdown",
   "metadata": {},
   "source": [
    "# Perimeter of Squares in a Rectangle\n",
    "The drawing shows 6 squares the sides of which have a length of 1, 1, 2, 3, 5, 8. It's easy to see that the sum of the perimeters of these squares is: `4 * (1 + 1 + 2 + 3 + 5 + 8) = 4 * 20 = 80`\n",
    "\n",
    "Could you give the sum of the perimeters of all the squares in a rectangle when there are n + 1 squares disposed in the same manner as the given drawing:\n",
    "\n",
    "![Rectangle](https://i.imgur.com/EYcuB1wm.jpg)\n",
    "\n",
    "**Hint**\n",
    "\n",
    "See Fibonacci sequence\n",
    "\n",
    "**Ref**\n",
    "\n",
    "http://oeis.org/A000045\n",
    "\n",
    "The function perimeter has for parameter n where n + 1 is the number of squares (they are numbered from 0 to n) and returns the total perimeter of all the squares.\n",
    "> ```\n",
    "> perimeter(5) should return 80\n",
    "> perimeter(7) should return 216"
   ]
  },
  {
   "cell_type": "code",
   "execution_count": 59,
   "metadata": {},
   "outputs": [],
   "source": [
    "def perimeter(n):\n",
    "    fib_sequence = []\n",
    "    for squares in range(n+1):\n",
    "        try:\n",
    "            next_fibonacci = fib_sequence[-1] + fib_sequence[-2]\n",
    "        except:\n",
    "            fib_sequence.append(1)\n",
    "        else:    \n",
    "            fib_sequence.append(next_fibonacci)\n",
    "        \n",
    "    return 4 * sum(fib_sequence)"
   ]
  },
  {
   "cell_type": "code",
   "execution_count": 60,
   "metadata": {},
   "outputs": [
    {
     "name": "stdout",
     "output_type": "stream",
     "text": [
      "80\n",
      "216\n",
      "114624\n",
      "14098308\n",
      "6002082144827584333104\n",
      "2362425027542282167538999091770205712168371625660854753765546783141099308400948230006358531927265833165504\n"
     ]
    }
   ],
   "source": [
    "print(perimeter(5))\n",
    "print(perimeter(7))\n",
    "print(perimeter(20))\n",
    "print(perimeter(30))\n",
    "print(perimeter(100))\n",
    "print(perimeter(500))"
   ]
  },
  {
   "attachments": {},
   "cell_type": "markdown",
   "metadata": {},
   "source": [
    "### Solutions\n",
    "View solutions from others at CodeWars: *[Perimeter of Squares in Rectangle](https://www.codewars.com/kata/559a28007caad2ac4e000083/solutions/python)*."
   ]
  }
 ],
 "metadata": {
  "kernelspec": {
   "display_name": "base",
   "language": "python",
   "name": "python3"
  },
  "language_info": {
   "codemirror_mode": {
    "name": "ipython",
    "version": 3
   },
   "file_extension": ".py",
   "mimetype": "text/x-python",
   "name": "python",
   "nbconvert_exporter": "python",
   "pygments_lexer": "ipython3",
   "version": "3.10.9"
  },
  "orig_nbformat": 4
 },
 "nbformat": 4,
 "nbformat_minor": 2
}
