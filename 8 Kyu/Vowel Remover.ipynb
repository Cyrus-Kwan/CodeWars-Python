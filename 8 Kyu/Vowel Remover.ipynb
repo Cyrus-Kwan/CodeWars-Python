{
 "cells": [
  {
   "cell_type": "markdown",
   "metadata": {},
   "source": [
    "# Vowel Remover\n",
    "Create a function called `shortcut` to remove the **lowercase** vowels (`a`, `e`, `i`, `o`, `u`) in a given string.\n",
    "\n",
    "**Examples**\n",
    "\n",
    "> ```\n",
    "> \"hello\"     -->  \"hll\"\n",
    "> \"codewars\"  -->  \"cdwrs\"\n",
    "> \"goodbye\"   -->  \"gdby\"\n",
    "> \"HELLO\"     -->  \"HELLO\"\n",
    "> ```\n",
    "\n",
    "- don't worry about uppercase vowels\n",
    "- `y` is not considered a vowel for this kata"
   ]
  },
  {
   "cell_type": "code",
   "execution_count": 32,
   "metadata": {},
   "outputs": [],
   "source": [
    "import re\n",
    "\n",
    "def shortcut(s):\n",
    "    return re.sub(r'[aeiou]','', s)"
   ]
  },
  {
   "cell_type": "code",
   "execution_count": 40,
   "metadata": {},
   "outputs": [],
   "source": [
    "def shortcut(s):\n",
    "    for vowel in 'aeiou':\n",
    "        s = s.replace(vowel, '')\n",
    "    return s"
   ]
  },
  {
   "cell_type": "code",
   "execution_count": 41,
   "metadata": {},
   "outputs": [
    {
     "name": "stdout",
     "output_type": "stream",
     "text": [
      "hll hll\n",
      "hll hll\n",
      "hw r y tdy? hw r y tdy?\n",
      "cmpln cmpln\n",
      "nvr nvr\n"
     ]
    }
   ],
   "source": [
    "print(shortcut(\"hello\"), \"hll\")\n",
    "print(shortcut(\"hellooooo\"), \"hll\")\n",
    "print(shortcut(\"how are you today?\"), \"hw r y tdy?\")\n",
    "print(shortcut(\"complain\"), \"cmpln\")\n",
    "print(shortcut(\"never\"), \"nvr\")"
   ]
  },
  {
   "cell_type": "markdown",
   "metadata": {},
   "source": [
    "### Solutions\n",
    "View solutions from others at CodeWars: *[Vowel Remover](https://www.codewars.com/kata/5547929140907378f9000039/solutions/python)*."
   ]
  }
 ],
 "metadata": {
  "kernelspec": {
   "display_name": "base",
   "language": "python",
   "name": "python3"
  },
  "language_info": {
   "codemirror_mode": {
    "name": "ipython",
    "version": 3
   },
   "file_extension": ".py",
   "mimetype": "text/x-python",
   "name": "python",
   "nbconvert_exporter": "python",
   "pygments_lexer": "ipython3",
   "version": "3.10.9"
  }
 },
 "nbformat": 4,
 "nbformat_minor": 2
}
