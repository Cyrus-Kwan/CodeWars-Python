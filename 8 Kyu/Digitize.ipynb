{
 "cells": [
  {
   "cell_type": "markdown",
   "metadata": {},
   "source": [
    "# Convert Number to Reversed Array of Digits\n",
    "\n",
    "Given a random non-negative number, you have to return the digits of this number within an array in reverse order.\n",
    "\n",
    "> ```\n",
    "> 35231 => [1,3,2,5,3]\n",
    "> 0 => [0]\n",
    "> ```"
   ]
  },
  {
   "cell_type": "code",
   "execution_count": 13,
   "metadata": {},
   "outputs": [],
   "source": [
    "def digitize(n):\n",
    "    return [int(digit) for digit in str(n)[::-1]]"
   ]
  },
  {
   "cell_type": "code",
   "execution_count": 14,
   "metadata": {},
   "outputs": [
    {
     "name": "stdout",
     "output_type": "stream",
     "text": [
      "[1, 3, 2, 5, 3] [1, 3, 2, 5, 3]\n",
      "[0] [0]\n",
      "[7, 5, 3, 2, 8, 5, 3, 2] [7, 5, 3, 2, 8, 5, 3, 2]\n",
      "[8, 3, 7, 4, 6, 7, 4, 8, 9] [8, 3, 7, 4, 6, 7, 4, 8, 9]\n",
      "[0, 2, 9, 3, 9, 8, 2, 6, 7, 5, 4] [0, 2, 9, 3, 9, 8, 2, 6, 7, 5, 4]\n",
      "[4, 9, 3, 8, 3, 8, 2, 0, 7, 8, 4, 5] [4, 9, 3, 8, 3, 8, 2, 0, 7, 8, 4, 5]\n"
     ]
    }
   ],
   "source": [
    "print(digitize(35231),[1,3,2,5,3])\n",
    "print(digitize(0),[0])\n",
    "print(digitize(23582357),[7,5,3,2,8,5,3,2])\n",
    "print(digitize(984764738),[8,3,7,4,6,7,4,8,9])\n",
    "print(digitize(45762893920),[0,2,9,3,9,8,2,6,7,5,4])\n",
    "print(digitize(548702838394),[4,9,3,8,3,8,2,0,7,8,4,5])"
   ]
  },
  {
   "cell_type": "markdown",
   "metadata": {},
   "source": [
    "### Solutions\n",
    "View solutions from others at CodeWars: *[Convert Number to Reversed Array of Digits](https://www.codewars.com/kata/5583090cbe83f4fd8c000051/solutions/python)*."
   ]
  }
 ],
 "metadata": {
  "kernelspec": {
   "display_name": "base",
   "language": "python",
   "name": "python3"
  },
  "language_info": {
   "codemirror_mode": {
    "name": "ipython",
    "version": 3
   },
   "file_extension": ".py",
   "mimetype": "text/x-python",
   "name": "python",
   "nbconvert_exporter": "python",
   "pygments_lexer": "ipython3",
   "version": "3.10.9"
  },
  "orig_nbformat": 4
 },
 "nbformat": 4,
 "nbformat_minor": 2
}
