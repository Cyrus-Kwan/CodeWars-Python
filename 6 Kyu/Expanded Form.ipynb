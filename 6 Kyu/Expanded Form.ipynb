{
 "cells": [
  {
   "cell_type": "markdown",
   "metadata": {},
   "source": [
    "# Write Number in Expanded Form\n",
    "You will be given a number and you will need to return it as a string in [Expanded Form](https://www.mathsisfun.com/definitions/expanded-notation.html). For example:\n",
    "\n",
    "> ``` python\n",
    "> expanded_form(12) # Should return '10 + 2'\n",
    "> expanded_form(42) # Should return '40 + 2'\n",
    "> expanded_form(70304) # Should return '70000 + 300 + 4'\n",
    "> ```\n",
    "\n",
    "**Note:** All numbers will be whole numbers greater than 0.\n",
    "\n",
    "If you liked this kata, check out [part 2](https://www.codewars.com/kata/write-number-in-expanded-form-part-2)."
   ]
  },
  {
   "cell_type": "code",
   "execution_count": 19,
   "metadata": {},
   "outputs": [],
   "source": [
    "def expanded_form(num):\n",
    "    result = []\n",
    "    for index in range(len(str(num))):\n",
    "        if str(num)[index] != '0':\n",
    "            result.append(str(num)[index] + ('0'*(len(str(num)) - 1 - index)))\n",
    "    return ' + '.join(result)"
   ]
  },
  {
   "cell_type": "code",
   "execution_count": 49,
   "metadata": {},
   "outputs": [],
   "source": [
    "def expanded_form(num):\n",
    "    str_num = str(num)\n",
    "    result = []\n",
    "    for digit_index, digit in enumerate(str_num, 1):\n",
    "        if digit != '0':\n",
    "            result.append(digit + ('0'*(len(str_num)-digit_index)))\n",
    "    return ' + '.join(result)"
   ]
  },
  {
   "cell_type": "code",
   "execution_count": 50,
   "metadata": {},
   "outputs": [
    {
     "name": "stdout",
     "output_type": "stream",
     "text": [
      "10 + 2 10 + 2\n",
      "40 + 2 40 + 2\n",
      "70000 + 300 + 4 70000 + 300 + 4\n"
     ]
    }
   ],
   "source": [
    "print(expanded_form(12), '10 + 2')\n",
    "print(expanded_form(42), '40 + 2')\n",
    "print(expanded_form(70304), '70000 + 300 + 4')"
   ]
  },
  {
   "cell_type": "markdown",
   "metadata": {},
   "source": [
    "### Solutions\n",
    "View solutions from others at CodeWars: *[Write Number in Expanded Form](https://www.codewars.com/kata/5842df8ccbd22792a4000245/solutions/python)*."
   ]
  }
 ],
 "metadata": {
  "kernelspec": {
   "display_name": "base",
   "language": "python",
   "name": "python3"
  },
  "language_info": {
   "codemirror_mode": {
    "name": "ipython",
    "version": 3
   },
   "file_extension": ".py",
   "mimetype": "text/x-python",
   "name": "python",
   "nbconvert_exporter": "python",
   "pygments_lexer": "ipython3",
   "version": "3.10.9"
  },
  "orig_nbformat": 4
 },
 "nbformat": 4,
 "nbformat_minor": 2
}
