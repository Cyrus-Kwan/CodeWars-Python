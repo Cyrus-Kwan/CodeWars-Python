{
 "cells": [
  {
   "cell_type": "markdown",
   "metadata": {},
   "source": [
    "# Break camelCase\n",
    "\n",
    "Complete the solution that the function will break up camel casing, using a space between words.\n",
    "\n",
    "**Example**\n",
    "> ```\n",
    "> \"camelCasing\"  =>  \"camel Casing\"\n",
    "> \"identifier\"   =>  \"identifier\"\n",
    "> \"\"             =>  \"\"\n",
    "> ```"
   ]
  },
  {
   "cell_type": "code",
   "execution_count": 80,
   "metadata": {},
   "outputs": [],
   "source": [
    "import re\n",
    "\n",
    "def solution(s):\n",
    "    words = re.findall(r\".+?(?=[A-Z]|$)\", s)\n",
    "    return ' '.join(words)"
   ]
  },
  {
   "cell_type": "code",
   "execution_count": 87,
   "metadata": {},
   "outputs": [],
   "source": [
    "def solution(s):\n",
    "    words = re.sub(r\"([A-Z])\", r\" \\1\", s) # replaces a 'space' before group 1\n",
    "    return words"
   ]
  },
  {
   "cell_type": "code",
   "execution_count": 88,
   "metadata": {},
   "outputs": [
    {
     "name": "stdout",
     "output_type": "stream",
     "text": [
      "hello World\n",
      "camel Case\n",
      "break Camel Case\n"
     ]
    }
   ],
   "source": [
    "print(solution(\"helloWorld\"))\n",
    "print(solution(\"camelCase\"))\n",
    "print(solution(\"breakCamelCase\"))"
   ]
  },
  {
   "cell_type": "markdown",
   "metadata": {},
   "source": [
    "# Solutions\n",
    "\n",
    "View solutions from others at CodeWars: [Break camelCase](https://www.codewars.com/kata/5208f99aee097e6552000148/train/python)"
   ]
  }
 ],
 "metadata": {
  "kernelspec": {
   "display_name": "base",
   "language": "python",
   "name": "python3"
  },
  "language_info": {
   "codemirror_mode": {
    "name": "ipython",
    "version": 3
   },
   "file_extension": ".py",
   "mimetype": "text/x-python",
   "name": "python",
   "nbconvert_exporter": "python",
   "pygments_lexer": "ipython3",
   "version": "3.10.9"
  },
  "orig_nbformat": 4
 },
 "nbformat": 4,
 "nbformat_minor": 2
}
