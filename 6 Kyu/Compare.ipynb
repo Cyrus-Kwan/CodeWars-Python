{
 "cells": [
  {
   "attachments": {},
   "cell_type": "markdown",
   "metadata": {},
   "source": [
    "# Are they the \"same\"?\n",
    "Given two arrays `a` and `b` write a function `comp(a, b)` (or `compSame(a, b)`) that checks whether the two arrays have the \"same\" elements, with the same *multiplicity* (the multiplicity of a member is the number of times it appears.) \"Same\" means, here, that the elements in `b` are the elements in `a` squared, regardless of the order.\n",
    "\n",
    "**Examples**\n",
    "\n",
    "Valid arrays\n",
    "> ``` python\n",
    "> a = [121, 144, 19, 161, 19, 144, 19, 11]\n",
    "> b = [121, 14641, 20736, 361, 25921, 361, 20736, 361]\n",
    "> ```\n",
    "\n",
    "`comp(a, b)` returns true because in `b` 121 is the square of 11, 114641 is the square of 121, 20736 the square of 144, 361 the square of 19, 25921 the square of 161, and so on. It gets obvious if we write `b`'s elements in terms of squares:\n",
    "\n",
    "> ``` python\n",
    "> a = [121, 144, 19, 161, 19, 144, 19, 11]\n",
    "> b = [11*11, 121*121, 144*144, 19*19, 161*161, 19*19, 144*144, 19*19]\n",
    "> ```\n",
    "\n",
    "Invalid arrays\n",
    "\n",
    "If, for example, we change the first number to something else, `comp` is not returning true anymore:\n",
    "> ``` python\n",
    "> a = [121, 144, 19, 161, 19, 144, 19, 11]  \n",
    "> b = [132, 14641, 20736, 361, 25921, 361, 20736, 361]\n",
    "> ```\n",
    "\n",
    "`comp(a, b)` returns false because `b` 132 is not the square of any number `a`.\n",
    "> ``` python\n",
    "> a = [121, 144, 19, 161, 19, 144, 19, 11]  \n",
    "> b = [121, 14641, 20736, 36100, 25921, 361, 20736, 361]\n",
    "> ```\n",
    "\n",
    "`comp(a, b)` returns false because in `b` 36100 is not the square of any number of `a`.\n",
    "\n",
    "**Remarks**\n",
    "- `a` or `b` might be `[] of {}` (all languages except R, Shell)\n",
    "- `a` or `b` might be `nil` or `null` or `None` or `nothing` (except in C++, COBOL, Crystal, D, Dart, Elixir, Fortran, F#, Haskell, Nim, OCaml, Pascal, Perl, PowerShell, Prolog, PureScript, R, Racket, Rust, Shell, Swift).\n",
    "\n",
    "If `a` or `b` are `nil` (or `null` or `None`, depending on the language), the problem doesn't makes sense so return false.\n"
   ]
  },
  {
   "cell_type": "code",
   "execution_count": 30,
   "metadata": {},
   "outputs": [],
   "source": [
    "def comp(a, b):\n",
    "    if (a == None) or (b == None):\n",
    "        return False\n",
    "    if (len(a) != len(b)):\n",
    "        return False\n",
    "\n",
    "    for value in a:\n",
    "        if (value**2 not in b):\n",
    "            return False\n",
    "        else:\n",
    "            b.remove(value**2)\n",
    "    return True\n",
    "\t"
   ]
  },
  {
   "cell_type": "code",
   "execution_count": 31,
   "metadata": {},
   "outputs": [
    {
     "name": "stdout",
     "output_type": "stream",
     "text": [
      "True\n",
      "False\n",
      "False\n",
      "False\n",
      "True\n"
     ]
    }
   ],
   "source": [
    "a1 = [121, 144, 19, 161, 19, 144, 19, 11]\n",
    "a2 = [11*11, 121*121, 144*144, 19*19, 161*161, 19*19, 144*144, 19*19]\n",
    "print(comp(a1, a2))\n",
    "\n",
    "a1 = [121, 144, 19, 161, 19, 144, 19, 11]\n",
    "a2 = [11*21, 121*121, 144*144, 19*19, 161*161, 19*19, 144*144, 19*19]\n",
    "print(comp(a1, a2))\n",
    "\n",
    "a1 = [121, 144, 19, 161, 19, 144, 19, 11]\n",
    "a2 = [11*11, 121*121, 144*144, 190*190, 161*161, 19*19, 144*144, 19*19]\n",
    "print(comp(a1, a2))\n",
    "\n",
    "a1 = [2, 2, 3]\n",
    "a2 = [4, 9, 9]\n",
    "print(comp(a1, a2))\n",
    "\n",
    "\n",
    "a1 = [-121, -144, -19, -161, -19, -144, -19, -11]\n",
    "a2 = [11*11, 121*121, 144*144, 19*19, 161*161, 19*19, 144*144, 19*19]\n",
    "print(comp(a1, a2))"
   ]
  },
  {
   "cell_type": "code",
   "execution_count": 32,
   "metadata": {},
   "outputs": [],
   "source": [
    "# Refactored\n",
    "\n",
    "def compSame(a, b):\n",
    "    try:\n",
    "        return sorted(value*value for value in a) == sorted(b)\n",
    "    except:\n",
    "        return False"
   ]
  },
  {
   "cell_type": "code",
   "execution_count": 33,
   "metadata": {},
   "outputs": [
    {
     "name": "stdout",
     "output_type": "stream",
     "text": [
      "True\n",
      "False\n",
      "False\n",
      "False\n",
      "True\n"
     ]
    }
   ],
   "source": [
    "a1 = [121, 144, 19, 161, 19, 144, 19, 11]\n",
    "a2 = [11*11, 121*121, 144*144, 19*19, 161*161, 19*19, 144*144, 19*19]\n",
    "print(compSame(a1, a2))\n",
    "\n",
    "a1 = [121, 144, 19, 161, 19, 144, 19, 11]\n",
    "a2 = [11*21, 121*121, 144*144, 19*19, 161*161, 19*19, 144*144, 19*19]\n",
    "print(compSame(a1, a2))\n",
    "\n",
    "a1 = [121, 144, 19, 161, 19, 144, 19, 11]\n",
    "a2 = [11*11, 121*121, 144*144, 190*190, 161*161, 19*19, 144*144, 19*19]\n",
    "print(compSame(a1, a2))\n",
    "\n",
    "a1 = [2, 2, 3]\n",
    "a2 = [4, 9, 9]\n",
    "print(compSame(a1, a2))\n",
    "\n",
    "\n",
    "a1 = [-121, -144, -19, -161, -19, -144, -19, -11]\n",
    "a2 = [11*11, 121*121, 144*144, 19*19, 161*161, 19*19, 144*144, 19*19]\n",
    "print(compSame(a1, a2))"
   ]
  },
  {
   "attachments": {},
   "cell_type": "markdown",
   "metadata": {},
   "source": [
    "### Solutions\n",
    "View solutions from others at CodeWars: *[Are they the \"same\"?](https://www.codewars.com/kata/550498447451fbbd7600041c/solutions)*."
   ]
  }
 ],
 "metadata": {
  "kernelspec": {
   "display_name": "base",
   "language": "python",
   "name": "python3"
  },
  "language_info": {
   "codemirror_mode": {
    "name": "ipython",
    "version": 3
   },
   "file_extension": ".py",
   "mimetype": "text/x-python",
   "name": "python",
   "nbconvert_exporter": "python",
   "pygments_lexer": "ipython3",
   "version": "3.10.9"
  },
  "orig_nbformat": 4
 },
 "nbformat": 4,
 "nbformat_minor": 2
}
