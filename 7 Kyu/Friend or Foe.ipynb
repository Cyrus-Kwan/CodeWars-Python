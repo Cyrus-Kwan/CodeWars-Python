{
 "cells": [
  {
   "cell_type": "markdown",
   "metadata": {},
   "source": [
    "# Friend or Foe\n",
    "\n",
    "Make a program that filters a list of strings and returns a list with only your friends name in it.\n",
    "\n",
    "If a name has exactly 4 letters in it, you can be sure that it has to be a friend of yours! Otherwise, you can be sure he's not...\n",
    "\n",
    "**Example**\n",
    "> ```\n",
    "> Input = [\"Ryan\", \"Kieran\", \"Jason\", \"Yous\"], Output = [\"Ryan\", \"Yous\"]\n",
    "> ```\n",
    "\n",
    "Note: keep the original order of the names in the output"
   ]
  },
  {
   "cell_type": "code",
   "execution_count": 11,
   "metadata": {},
   "outputs": [],
   "source": [
    "def friend(x):\n",
    "    friends = []\n",
    "    for person in x:\n",
    "        if len(person) == 4:\n",
    "            friends.append(person)\n",
    "    return friends"
   ]
  },
  {
   "cell_type": "code",
   "execution_count": 18,
   "metadata": {},
   "outputs": [],
   "source": [
    "def friend(x):\n",
    "    return [person for person in x if len(person) == 4]"
   ]
  },
  {
   "cell_type": "code",
   "execution_count": 22,
   "metadata": {},
   "outputs": [],
   "source": [
    "def friend(x):\n",
    "    return list(filter(lambda person: len(person) == 4, x))"
   ]
  },
  {
   "cell_type": "code",
   "execution_count": 23,
   "metadata": {},
   "outputs": [
    {
     "name": "stdout",
     "output_type": "stream",
     "text": [
      "['Ryan', 'Mark'] ['Ryan', 'Mark']\n",
      "['Ryan'] ['Ryan']\n",
      "['Jimm', 'Cari', 'aret'] ['Jimm', 'Cari', 'aret']\n"
     ]
    }
   ],
   "source": [
    "print(friend([\"Ryan\", \"Kieran\", \"Mark\",]), [\"Ryan\", \"Mark\"])\n",
    "print(friend([\"Ryan\", \"Jimmy\", \"123\", \"4\", \"Cool Man\"]), [\"Ryan\"])\n",
    "print(friend([\"Jimm\", \"Cari\", \"aret\", \"truehdnviegkwgvke\", \"sixtyiscooooool\"]), [\"Jimm\", \"Cari\", \"aret\"])"
   ]
  },
  {
   "cell_type": "markdown",
   "metadata": {},
   "source": [
    "### Solutions\n",
    "View solutions from others at CodeWars: *[Friend or Foe?](https://www.codewars.com/kata/55b42574ff091733d900002f/solutions/python)*."
   ]
  }
 ],
 "metadata": {
  "kernelspec": {
   "display_name": "base",
   "language": "python",
   "name": "python3"
  },
  "language_info": {
   "codemirror_mode": {
    "name": "ipython",
    "version": 3
   },
   "file_extension": ".py",
   "mimetype": "text/x-python",
   "name": "python",
   "nbconvert_exporter": "python",
   "pygments_lexer": "ipython3",
   "version": "3.10.9"
  },
  "orig_nbformat": 4
 },
 "nbformat": 4,
 "nbformat_minor": 2
}
