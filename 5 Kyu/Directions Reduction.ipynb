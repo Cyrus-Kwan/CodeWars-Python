{
 "cells": [
  {
   "cell_type": "markdown",
   "metadata": {},
   "source": [
    "# Directions Reduction\n",
    "\n",
    "**Once upon a time, on a way throught the old wild mountainous west,...**\n",
    "\n",
    "... a man was given directions to go from one point to anither. The directions were \"NORTH\", \"SOUTH\", \"WEST\", \"EAST\". Clearly \"NORTH\" and \"SOUTH\" are opposite, \"WEST\" and \"EAST\" too.\n",
    "\n",
    "Going to one direction and coming back the opposite direction *right away* is a needless effort. Since this is the wild west, with dreadful weather and not much water, it's important to save yourself some energy, otherwise you might die of thirst!\n",
    "\n",
    "**How I crost a *mountainous* desert the smart way.**\n",
    "The directions given to the man are, for example, the following (depending on the language):\n",
    "\n",
    "> ```\n",
    "> [\"NORTH\", \"SOUTH\", \"SOUTH\", \"EAST\", \"WEST\", \"NORTH\", \"WEST\"].\n",
    "> or\n",
    "> { \"NORTH\", \"SOUTH\", \"SOUTH\", \"EAST\", \"WEST\", \"NORTH\", \"WEST\" };\n",
    "> or\n",
    "> [North, South, South, East, West, North, West]\n",
    "> ```\n",
    "\n",
    "You can immediately see that going \"NORTH\" and *Immediately* \"SOUTH\" is not reasonable, better stay to the same place! So the task is to give the man a simplified version of the plan. A better plan in this case is simply:\n",
    "\n",
    "> ```\n",
    "> [\"WEST\"]\n",
    "> or\n",
    "> { \"WEST\" }\n",
    "> or\n",
    "> [West]\n",
    "> ```\n",
    "\n",
    "**Other examples:**\n",
    "\n",
    "In `[\"NORTH\", \"SOUTH\", \"EAST\", \"WEST\"]`, the direction `\"NORTH\" + \"SOUTH\"` is going north and coming back *right away*.\n",
    "\n",
    "The path becomes `[\"EAST\", \"WEST\"]`, now `\"EAST\"` and `\"WEST\"` annihilate each other, therefore, the final result is `[]` (nil in Clojure).\n",
    "\n",
    "In [\"NORTH\", \"EAST\", \"WEST\", \"SOUTH\", \"WEST\", \"WEST\"], \"NORTH\" and \"SOUTH\" are *not* directly opposite but they become directly opposite after the reduction of \"EAST\" and \"WEST\" so the whole path is reducible to [\"WEST\", \"WEST\"]\n",
    "\n",
    "**Task**\n",
    "Write a function `dirReduc` which will take an array of strings and returns an array of strings with the needless directions removed (W<->E or S<->N side by side).\n",
    "- The Haskell version takes a list of directions with\n",
    "    `data Direction = North | East | West | South`.\n",
    "- The Clojure version returns nil when the path is reduced to nothing.\n",
    "- The Rust version takes a slice of `enum Direction {North, East, West, South}`.\n",
    "\n",
    "**See more examples in \"Sample Tests\":\n",
    "**Notes**\n",
    "- Not all paths can be made simpler. The path [\"NORTH\", \"WEST\", \"SOUTH\", \"EAST\"] is not reducible. \"NORTH\" and \"WEST\", \"WEST\" and \"SOUTH\" and \"EAST\" are not *directly* opposite of each other and can't become such. Hence the result path is itself: [\"NORTH\", \"WEST\", \"SOUTH\", \"EAST\"].\n",
    "- If you want to translate, please ask before translating."
   ]
  },
  {
   "cell_type": "code",
   "execution_count": 29,
   "metadata": {},
   "outputs": [],
   "source": [
    "# First solution\n",
    "\n",
    "def dirReduc(arr):\n",
    "    for index in range(1, len(arr)):\n",
    "        try:\n",
    "            if arr[index] == \"NORTH\" and arr[index-1] == \"SOUTH\":\n",
    "                arr[index-1:index+1] = []\n",
    "            elif arr[index] == \"SOUTH\" and arr[index-1] == \"NORTH\":\n",
    "                arr[index-1:index+1] = []\n",
    "            elif arr[index] == \"EAST\" and arr[index-1] == \"WEST\":\n",
    "                arr[index-1:index+1] = []\n",
    "            elif arr[index] == \"WEST\" and arr[index-1] == \"EAST\":\n",
    "                arr[index-1:index+1] = []\n",
    "        except IndexError:\n",
    "            dirReduc(arr)\n",
    "    return arr"
   ]
  },
  {
   "cell_type": "code",
   "execution_count": 32,
   "metadata": {},
   "outputs": [],
   "source": [
    "# Second solution\n",
    "\n",
    "def dirReduc(arr):\n",
    "    opposites = [{\"NORTH\", \"SOUTH\"}, {\"EAST\", \"WEST\"}]\n",
    "\n",
    "    for index in range(1, len(arr)):\n",
    "        if {arr[index], arr[index-1]} in opposites:\n",
    "            arr[index-1:index+1] = []\n",
    "            return dirReduc(arr)\n",
    "\n",
    "    return arr"
   ]
  },
  {
   "cell_type": "code",
   "execution_count": 33,
   "metadata": {},
   "outputs": [
    {
     "name": "stdout",
     "output_type": "stream",
     "text": [
      "['WEST'] ['WEST']\n",
      "['NORTH', 'WEST', 'SOUTH', 'EAST'] ['NORTH', 'WEST', 'SOUTH', 'EAST']\n"
     ]
    }
   ],
   "source": [
    "a = [\"NORTH\", \"SOUTH\", \"SOUTH\", \"EAST\", \"WEST\", \"NORTH\", \"WEST\"]\n",
    "print(dirReduc(a), ['WEST'])\n",
    "u=[\"NORTH\", \"WEST\", \"SOUTH\", \"EAST\"]\n",
    "print(dirReduc(u), [\"NORTH\", \"WEST\", \"SOUTH\", \"EAST\"])"
   ]
  },
  {
   "cell_type": "markdown",
   "metadata": {},
   "source": [
    "### Solutions\n",
    "View solutions from others at CodeWars: *[Directions Reduction](https://www.codewars.com/kata/550f22f4d758534c1100025a/solutions/python)*."
   ]
  }
 ],
 "metadata": {
  "kernelspec": {
   "display_name": "base",
   "language": "python",
   "name": "python3"
  },
  "language_info": {
   "codemirror_mode": {
    "name": "ipython",
    "version": 3
   },
   "file_extension": ".py",
   "mimetype": "text/x-python",
   "name": "python",
   "nbconvert_exporter": "python",
   "pygments_lexer": "ipython3",
   "version": "3.10.9"
  },
  "orig_nbformat": 4
 },
 "nbformat": 4,
 "nbformat_minor": 2
}
