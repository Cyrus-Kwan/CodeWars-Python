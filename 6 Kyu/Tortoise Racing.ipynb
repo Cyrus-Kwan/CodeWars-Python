{
 "cells": [
  {
   "attachments": {},
   "cell_type": "markdown",
   "metadata": {},
   "source": [
    "# Tortoise Racing\n",
    "Two tortoises named **A** and **B** must run a race. **A** starts with an average speed of `720 feet per hour`. Young **B** knows she runs faster than **A**, and furthermore has not finished her cabbage.\n",
    "\n",
    "When she starts, at least, she can see that **A** has a `70 feet lead` but **B**'s speed is `850 feet per hour`. How long will it take **B** to catch **A**?\n",
    "\n",
    "The result will be an array `[hour, min, sec]` which is the time needed in hourse, minutes, and seconds (round down to the nearest second) or a string in some languages.\n",
    "\n",
    "If `v1 >= v2` then return `nil`, `nothing`, `null`, `None`, or `{-1, -1, -1}` for C++, C, Go, Nim, Pascal, COBOL, Erlang `[-1, -1, -1]` for Perl, `[]` for Kotlin or \"-1 -1 -1\" for others.\n",
    "\n",
    "**Examples:**\n",
    "\n",
    "(form of the result depends on the language)\n",
    "\n",
    "> ```\n",
    "> race(720, 850, 70)    =>  [0, 32, 18] or \"0 32 18\"\n",
    "> race(80, 91, 37)      => [3, 21, 49] or \"3 21 49\"\n",
    "> ```"
   ]
  },
  {
   "cell_type": "code",
   "execution_count": 36,
   "metadata": {},
   "outputs": [],
   "source": [
    "def race(a_speed, b_speed, lead):\n",
    "    if (a_speed >= b_speed):\n",
    "        return None\n",
    "\n",
    "    time_unit = 3600\n",
    "\n",
    "    approach_speed = (b_speed - a_speed)/time_unit\n",
    "    intersection_time = lead/(b_speed - a_speed)\n",
    "    formatted_time = []\n",
    "\n",
    "    while time_unit >= 1:\n",
    "        formatted_time.append(int(intersection_time/time_unit))\n",
    "        intersection_time = intersection_time % time_unit\n",
    "        time_unit = time_unit/60\n",
    "\n",
    "    return formatted_time"
   ]
  },
  {
   "cell_type": "code",
   "execution_count": 35,
   "metadata": {},
   "outputs": [
    {
     "name": "stdout",
     "output_type": "stream",
     "text": [
      "[0, 0, 0]\n",
      "[0, 0, 3]\n",
      "None\n",
      "[0, 0, 1]\n"
     ]
    }
   ],
   "source": [
    "print(race(720, 850, 70))\n",
    "print(race(80, 91, 37))\n",
    "print(race(820, 81, 550))\n",
    "print(race(3600, 7200, 6000))"
   ]
  },
  {
   "attachments": {},
   "cell_type": "markdown",
   "metadata": {},
   "source": [
    "### Solutions\n",
    "View solutions from others at CodeWars: *[Tortoise Racing](https://www.codewars.com/kata/55e2adece53b4cdcb900006c/solutions/python)*."
   ]
  }
 ],
 "metadata": {
  "kernelspec": {
   "display_name": "base",
   "language": "python",
   "name": "python3"
  },
  "language_info": {
   "codemirror_mode": {
    "name": "ipython",
    "version": 3
   },
   "file_extension": ".py",
   "mimetype": "text/x-python",
   "name": "python",
   "nbconvert_exporter": "python",
   "pygments_lexer": "ipython3",
   "version": "3.10.9"
  },
  "orig_nbformat": 4
 },
 "nbformat": 4,
 "nbformat_minor": 2
}
