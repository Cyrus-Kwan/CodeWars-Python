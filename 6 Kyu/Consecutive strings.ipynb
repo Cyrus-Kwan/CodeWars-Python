{
 "cells": [
  {
   "cell_type": "markdown",
   "metadata": {},
   "source": [
    "# Consecutive Strings\n",
    "\n",
    "You are given an array(list) `strarr` pf stromgs amd am omteger `k`. Your taks is to return the **first** longest string consisting of k **consecutive** strings taken in the array.\n",
    "\n",
    "**Examples**\n",
    "> ```\n",
    "> strarr = [\"tree\", \"foling\", \"trashy\", \"blue\", \"abcdef\", \"uvwxyz\"], k = 2\n",
    "> \n",
    "> Concatenate the consecutive strings of strarr by 2, we get:\n",
    "> \n",
    "> treefoling   (length 10)  concatenation of strarr[0] and strarr[1]\n",
    "> folingtrashy (\"      12)  concatenation of strarr[1] and strarr[2]\n",
    "> trashyblue   (\"      10)  concatenation of strarr[2] and strarr[3]\n",
    "> blueabcdef   (\"      10)  concatenation of strarr[3] and strarr[4]\n",
    "> abcdefuvwxyz (\"      12)  concatenation of strarr[4] and strarr[5]\n",
    "> \n",
    "> Two strings are the longest: \"folingtrashy\" and \"abcdefuvwxyz\".\n",
    "> The first that came is \"folingtrashy\" so \n",
    "> longest_consec(strarr, 2) should return \"folingtrashy\".\n",
    "> \n",
    "> In the same way:\n",
    "> longest_consec([\"zone\", \"abigail\", \"theta\", \"form\", \"libe\", \"zas\", \"theta\", \"abigail\"], 2) --> \"abigailtheta\"\n",
    "> ```\n",
    "\n",
    "n being the length of the string array, if `n = 0` or `k > n` or `k <= 0` return \"\" (return `nothing` in Elm, \"nothing\" in Erlang)."
   ]
  },
  {
   "cell_type": "code",
   "execution_count": 125,
   "metadata": {},
   "outputs": [],
   "source": [
    "# First solution\n",
    "\n",
    "def longest_consec(strarr, k):\n",
    "    if (k > len(strarr)) or (k <= 0) or (len(strarr) == 0):\n",
    "        return ''\n",
    "    \n",
    "    str_map = {}\n",
    "    for arr_idx in range(len(strarr)-(k-1)):\n",
    "        string = ''.join([string for string in strarr[arr_idx:arr_idx+k]])\n",
    "        str_map[string] = len(string)\n",
    "    return list(str_map)[list(str_map.values()).index(max(str_map.values()))]"
   ]
  },
  {
   "cell_type": "code",
   "execution_count": 175,
   "metadata": {},
   "outputs": [],
   "source": [
    "# Second solution: extended for readability\n",
    "\n",
    "def longest_consec(strarr, k):\n",
    "    if (k > len(strarr)) or (k <= 0) or (len(strarr) == 0):\n",
    "        return ''\n",
    "    \n",
    "    str_map = {}\n",
    "    for index in range(len(strarr)):\n",
    "        concat_str = ''.join([val for val in strarr[index:index+k]])\n",
    "        str_map[concat_str] = len(concat_str)\n",
    "    \n",
    "    for key, count in str_map.items():\n",
    "        if count == max(str_map.values()):\n",
    "            return key"
   ]
  },
  {
   "cell_type": "code",
   "execution_count": 177,
   "metadata": {},
   "outputs": [],
   "source": [
    "# Third solution: using lists\n",
    "\n",
    "def longest_consec(strarr, k):\n",
    "    if (k > len(strarr)) or (k <= 0) or (len(strarr) == 0):\n",
    "        return ''\n",
    "    concat_str = [''.join(strarr[str_idx:str_idx+k]) for str_idx in range(len(strarr))]\n",
    "    return max(concat_str, key = lambda string: len(string))"
   ]
  },
  {
   "cell_type": "code",
   "execution_count": 178,
   "metadata": {},
   "outputs": [
    {
     "name": "stdout",
     "output_type": "stream",
     "text": [
      "folingtrashy\n",
      "['tree', 'foling', 'trashy', 'blue', 'abcdef']\n"
     ]
    }
   ],
   "source": [
    "strarr = [\"tree\", \"foling\", \"trashy\", \"blue\", \"abcdef\", \"uvwxyz\"]\n",
    "k = 2\n",
    "\n",
    "print(longest_consec(strarr, k))\n",
    "print(strarr[:-k+1])"
   ]
  },
  {
   "cell_type": "code",
   "execution_count": 179,
   "metadata": {},
   "outputs": [
    {
     "name": "stdout",
     "output_type": "stream",
     "text": [
      "abigailtheta\n",
      "oocccffuucccjjjkkkjyyyeehh\n",
      " \n",
      "wkppqsztdkmvcuwvereiupccauycnjutlvvweqilsfytihvrzlaodfixoyxvyuyvgpck\n",
      "wlwsasphmxxowiaxujylentrklctozmymu\n",
      "\n",
      "ixoyx3452zzzzzzzzzzzz\n",
      "\n",
      "\n"
     ]
    }
   ],
   "source": [
    "print(longest_consec([\"zone\", \"abigail\", \"theta\", \"form\", \"libe\", \"zas\"], 2))\n",
    "print(longest_consec([\"ejjjjmmtthh\", \"zxxuueeg\", \"aanlljrrrxx\", \"dqqqaaabbb\", \"oocccffuucccjjjkkkjyyyeehh\"], 1))\n",
    "print(longest_consec([], 3), \"\")\n",
    "print(longest_consec([\"itvayloxrp\",\"wkppqsztdkmvcuwvereiupccauycnjutlv\",\"vweqilsfytihvrzlaodfixoyxvyuyvgpck\"], 2))\n",
    "print(longest_consec([\"wlwsasphmxx\",\"owiaxujylentrklctozmymu\",\"wpgozvxxiu\"], 2))\n",
    "print(longest_consec([\"zone\", \"abigail\", \"theta\", \"form\", \"libe\", \"zas\"], -2))\n",
    "print(longest_consec([\"it\",\"wkppv\",\"ixoyx\", \"3452\", \"zzzzzzzzzzzz\"], 3))\n",
    "print(longest_consec([\"it\",\"wkppv\",\"ixoyx\", \"3452\", \"zzzzzzzzzzzz\"], 15))\n",
    "print(longest_consec([\"it\",\"wkppv\",\"ixoyx\", \"3452\", \"zzzzzzzzzzzz\"], 0))"
   ]
  },
  {
   "cell_type": "markdown",
   "metadata": {},
   "source": [
    "### Solutions\n",
    "\n",
    "View solutions from others at CodeWars: [Break camelCase](https://www.codewars.com/kata/5208f99aee097e6552000148/train/python)"
   ]
  }
 ],
 "metadata": {
  "kernelspec": {
   "display_name": "base",
   "language": "python",
   "name": "python3"
  },
  "language_info": {
   "codemirror_mode": {
    "name": "ipython",
    "version": 3
   },
   "file_extension": ".py",
   "mimetype": "text/x-python",
   "name": "python",
   "nbconvert_exporter": "python",
   "pygments_lexer": "ipython3",
   "version": "3.10.9"
  },
  "orig_nbformat": 4
 },
 "nbformat": 4,
 "nbformat_minor": 2
}
