{
 "cells": [
  {
   "cell_type": "markdown",
   "metadata": {},
   "source": [
    "# Count the Divisors of a Number\n",
    "\n",
    "Count the number of divisors of a positive integer `n`.\n",
    "\n",
    "Random tests go up to `n = 500000`\n",
    "\n",
    "**Examples (input --> output)**\n",
    "```\n",
    "4 --> 3 // we have 3 divisors - 1, 2 and 4\n",
    "5 --> 2 // we have 2 divisors - 1 and 5\n",
    "12 --> 6 // we have 6 divisors - 1, 2, 3, 4, 6 and 12\n",
    "30 --> 8 // we have 8 divisors - 1, 2, 3, 5, 6, 10, 15 and 30\n",
    "```\n",
    "\n",
    "Note you should only return a number, the count of divisors. The numbers between parentheses are shown only for you to see which numbers are counted in each case."
   ]
  },
  {
   "cell_type": "code",
   "execution_count": 80,
   "metadata": {},
   "outputs": [],
   "source": [
    "# First solution\n",
    "def divisors(n):\n",
    "    count = 0\n",
    "    for i in range(1, n+1):\n",
    "        if not n % i:\n",
    "            count += 1\n",
    "    return count"
   ]
  },
  {
   "cell_type": "code",
   "execution_count": 81,
   "metadata": {},
   "outputs": [],
   "source": [
    "# Takes longer on large n values\n",
    "def divisors(n):\n",
    "    return len(list(filter(lambda i: n%i == 0, range(1, n+1))))"
   ]
  },
  {
   "cell_type": "code",
   "execution_count": 82,
   "metadata": {},
   "outputs": [
    {
     "name": "stdout",
     "output_type": "stream",
     "text": [
      "1 1\n",
      "3 3\n",
      "2 2\n",
      "6 6\n",
      "8 8\n",
      "13 13\n"
     ]
    }
   ],
   "source": [
    "print(divisors(1), 1) \n",
    "print(divisors(4), 3)\n",
    "print(divisors(5), 2)\n",
    "print(divisors(12), 6)\n",
    "print(divisors(30), 8)\n",
    "print(divisors(4096), 13)"
   ]
  },
  {
   "cell_type": "markdown",
   "metadata": {},
   "source": [
    "### Solutions\n",
    "View solutions from others at CodeWars: *[Count the Divisors of a Number](https://www.codewars.com/kata/542c0f198e077084c0000c2e/solutions/python)*."
   ]
  }
 ],
 "metadata": {
  "kernelspec": {
   "display_name": "base",
   "language": "python",
   "name": "python3"
  },
  "language_info": {
   "codemirror_mode": {
    "name": "ipython",
    "version": 3
   },
   "file_extension": ".py",
   "mimetype": "text/x-python",
   "name": "python",
   "nbconvert_exporter": "python",
   "pygments_lexer": "ipython3",
   "version": "3.10.9"
  },
  "orig_nbformat": 4
 },
 "nbformat": 4,
 "nbformat_minor": 2
}
