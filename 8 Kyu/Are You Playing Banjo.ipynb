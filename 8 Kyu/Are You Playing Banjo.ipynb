{
 "cells": [
  {
   "cell_type": "markdown",
   "metadata": {},
   "source": [
    "# Are You Playing Banjo?\n",
    "\n",
    "Create a function which answers the question \"Are you playing banjo?\".\n",
    "If your name starts with the letter \"R\" or lowercase \"r\", you are playing banjo!\n",
    "\n",
    "The function takes a name as it's only argument, and returns one of the following strings:\n",
    "\n",
    "> ```\n",
    "> name + \" plays banjo\"\n",
    "> name + \" does not play banjo\"\n",
    "> ```\n",
    " Names given are always valid strings."
   ]
  },
  {
   "cell_type": "code",
   "execution_count": 5,
   "metadata": {},
   "outputs": [],
   "source": [
    "def are_you_playing_banjo(name):\n",
    "    return f\"{name} plays banjo\" if name[0].casefold() == \"r\" else f\"{name} does not play banjo\""
   ]
  },
  {
   "cell_type": "code",
   "execution_count": 7,
   "metadata": {},
   "outputs": [
    {
     "name": "stdout",
     "output_type": "stream",
     "text": [
      "True\n",
      "True\n",
      "True\n",
      "True\n"
     ]
    }
   ],
   "source": [
    "print(are_you_playing_banjo(\"martin\") == \"martin does not play banjo\")\n",
    "print(are_you_playing_banjo(\"Rikke\") == \"Rikke plays banjo\")\n",
    "print(are_you_playing_banjo(\"bravo\") == \"bravo does not play banjo\")\n",
    "print(are_you_playing_banjo(\"rolf\") == \"rolf plays banjo\")"
   ]
  },
  {
   "cell_type": "markdown",
   "metadata": {},
   "source": [
    "### Solutions\n",
    "View solutions from others at CodeWars: *[Are You Playing Banjo?](https://www.codewars.com/kata/53af2b8861023f1d88000832/solutions/python)*."
   ]
  }
 ],
 "metadata": {
  "kernelspec": {
   "display_name": "base",
   "language": "python",
   "name": "python3"
  },
  "language_info": {
   "codemirror_mode": {
    "name": "ipython",
    "version": 3
   },
   "file_extension": ".py",
   "mimetype": "text/x-python",
   "name": "python",
   "nbconvert_exporter": "python",
   "pygments_lexer": "ipython3",
   "version": "3.10.9"
  },
  "orig_nbformat": 4
 },
 "nbformat": 4,
 "nbformat_minor": 2
}
