{
 "cells": [
  {
   "cell_type": "markdown",
   "metadata": {},
   "source": [
    "# Who likes it?\n",
    "\n",
    "You probably know the \"like\" system from Facebook and other pages. People can \"like\" blogposts, pictures or other items. We want to create the text that should be displayed next to such an item.\n",
    "\n",
    "Implement the function which takes an array containing the names of people that like an item. It must return the display text as shown in the examples:\n",
    "\n",
    "> ```\n",
    "> []                                -->  \"no one likes this\"\n",
    "> [\"Peter\"]                         -->  \"Peter likes this\"\n",
    "> [\"Jacob\", \"Alex\"]                 -->  \"Jacob and Alex like this\"\n",
    "> [\"Max\", \"John\", \"Mark\"]           -->  \"Max, John and Mark like this\"\n",
    "> [\"Alex\", \"Jacob\", \"Mark\", \"Max\"]  -->  \"Alex, Jacob and 2 others like this\"\n",
    "> ```\n",
    "\n",
    "**Note:** For 4 or more names, the number in `\"and 2 others\"` simply increases."
   ]
  },
  {
   "cell_type": "code",
   "execution_count": 99,
   "metadata": {},
   "outputs": [],
   "source": [
    "# First solution: Faster and easier to understand. Contains lots of duplicate code\n",
    "# Time 507ms\n",
    "\n",
    "def likes(names):\n",
    "    out_string = \"\"\n",
    "    if not names:\n",
    "        return \"no one likes this\"\n",
    "    elif len(names) == 1:\n",
    "        return f\"{names[0]} likes this\"\n",
    "    elif len(names) == 2:\n",
    "        return f\"{names[0]} and {names[1]} like this\"\n",
    "    elif len(names) == 3:\n",
    "        return f\"{names[0]}, {names[1]} and {names[2]} like this\"\n",
    "    else:\n",
    "        return f\"{names[0]}, {names[1]} and {len(names)-2} others like this\"\n"
   ]
  },
  {
   "cell_type": "code",
   "execution_count": 96,
   "metadata": {},
   "outputs": [],
   "source": [
    "# Second solution: Reduces duplicate code\n",
    "# Time 682ms\n",
    "\n",
    "def likes(names):\n",
    "    if not names:\n",
    "        names = [\"no one\"]\n",
    "    \n",
    "    out_string = names[0]\n",
    "    new_names = names[:3]\n",
    "    if names[3:]:\n",
    "        new_names[2] = str(len(names) - 2)\n",
    "    \n",
    "    for name_index in range(1, len(new_names)):\n",
    "        if new_names[name_index] != new_names[-1]:\n",
    "            out_string += f\", {new_names[name_index]}\"\n",
    "        else:\n",
    "            if new_names[name_index].isnumeric():\n",
    "                out_string += f\" and {new_names[name_index]} others\"\n",
    "            else:\n",
    "                out_string += f\" and {new_names[name_index]}\"\n",
    "    return f\"{out_string} like this\" if len(names) > 1 else f\"{out_string} likes this\""
   ]
  },
  {
   "cell_type": "code",
   "execution_count": 101,
   "metadata": {},
   "outputs": [],
   "source": [
    "# Dictionary solution from: https://www.codewars.com/kata/reviews/564425cc55d0e45b8c000087/groups/564ab1bc633fa1f3310000cb\n",
    "\n",
    "def likes(names):\n",
    "    n = len(names)\n",
    "    return {\n",
    "        0: 'no one likes this',\n",
    "        1: '{} likes this', \n",
    "        2: '{} and {} like this', \n",
    "        3: '{}, {} and {} like this', \n",
    "        4: '{}, {} and {others} others like this'\n",
    "    }[min(4, n)].format(*names[:3], others=n-2)"
   ]
  },
  {
   "cell_type": "code",
   "execution_count": 102,
   "metadata": {},
   "outputs": [
    {
     "name": "stdout",
     "output_type": "stream",
     "text": [
      "no one likes this\n",
      "Alex likes this\n",
      "Alex and Jacob like this\n",
      "Alex, Jacob and Mark like this\n",
      "Alex, Jacob and 2 others like this\n"
     ]
    }
   ],
   "source": [
    "print(likes([]))\n",
    "print(likes(['Alex']))\n",
    "print(likes(['Alex', 'Jacob']))\n",
    "print(likes(['Alex', 'Jacob', 'Mark']))\n",
    "print(likes(['Alex', 'Jacob', 'Mark', 'Max']))"
   ]
  },
  {
   "cell_type": "markdown",
   "metadata": {},
   "source": [
    "### Solutions\n",
    "View solutions from others at CodeWars: *[Who likes it?](https://www.codewars.com/kata/5266876b8f4bf2da9b000362/solutions/python)*."
   ]
  }
 ],
 "metadata": {
  "kernelspec": {
   "display_name": "base",
   "language": "python",
   "name": "python3"
  },
  "language_info": {
   "codemirror_mode": {
    "name": "ipython",
    "version": 3
   },
   "file_extension": ".py",
   "mimetype": "text/x-python",
   "name": "python",
   "nbconvert_exporter": "python",
   "pygments_lexer": "ipython3",
   "version": "3.10.9"
  },
  "orig_nbformat": 4
 },
 "nbformat": 4,
 "nbformat_minor": 2
}
