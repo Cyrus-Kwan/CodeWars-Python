{
 "cells": [
  {
   "cell_type": "markdown",
   "metadata": {},
   "source": [
    "# Highest and Lowest\n",
    "\n",
    "In this little assignment you are gien a string of space separated numbers, and have to return the highest and lowest number.\n",
    "\n",
    "**Examples**\n",
    "> ``` python\n",
    "> high_and_low(\"1 2 3 4 5\")  # return \"5 1\"\n",
    "> high_and_low(\"1 2 -3 4 5\") # return \"5 -3\"\n",
    "> high_and_low(\"1 9 3 4 -5\") # return \"9 -5\"\n",
    "> ```\n",
    "\n",
    "**Notes**\n",
    "- All numbers are valid `Int32`, no *need* to validate them.\n",
    "- There will always be at least one number in the input string.\n",
    "- Output string must be two numbers separated by a single space, and highest number is first."
   ]
  },
  {
   "cell_type": "code",
   "execution_count": 7,
   "metadata": {},
   "outputs": [],
   "source": [
    "def high_and_low(numbers):\n",
    "    num_arr = [int(val) for val in numbers.split(' ')]\n",
    "    return \"{max} {min}\".format(min=min(num_arr), max=max(num_arr))"
   ]
  },
  {
   "cell_type": "code",
   "execution_count": 8,
   "metadata": {},
   "outputs": [
    {
     "name": "stdout",
     "output_type": "stream",
     "text": [
      "42 -9 42 -9\n",
      "3 1 3 1\n"
     ]
    }
   ],
   "source": [
    "print(high_and_low(\"8 3 -5 42 -1 0 0 -9 4 7 4 -4\"), \"42 -9\")\n",
    "print(high_and_low(\"1 2 3\"), \"3 1\")"
   ]
  },
  {
   "cell_type": "markdown",
   "metadata": {},
   "source": [
    "### Solutions\n",
    "View solutions from others at CodeWars: *[Highest and lowest](https://www.codewars.com/kata/554b4ac871d6813a03000035/solutions/python)*."
   ]
  }
 ],
 "metadata": {
  "kernelspec": {
   "display_name": "base",
   "language": "python",
   "name": "python3"
  },
  "language_info": {
   "codemirror_mode": {
    "name": "ipython",
    "version": 3
   },
   "file_extension": ".py",
   "mimetype": "text/x-python",
   "name": "python",
   "nbconvert_exporter": "python",
   "pygments_lexer": "ipython3",
   "version": "3.10.9"
  },
  "orig_nbformat": 4
 },
 "nbformat": 4,
 "nbformat_minor": 2
}
