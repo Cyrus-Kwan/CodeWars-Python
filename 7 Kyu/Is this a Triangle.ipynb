{
 "cells": [
  {
   "attachments": {},
   "cell_type": "markdown",
   "metadata": {},
   "source": [
    "# Is this a Triangle?\n",
    "Implement a function that accepts 3 integer values a, b, c. The function should return true if a triangle can be built with the sides of given length and false in any other case.\n",
    "\n",
    "(In this case, all triangles must have surface greater than 0 to be accepted)"
   ]
  },
  {
   "cell_type": "code",
   "execution_count": null,
   "metadata": {},
   "outputs": [],
   "source": [
    "# First solution\n",
    "def is_triangle(a, b, c):\n",
    "    sides = [a, b, c]\n",
    "    for index in range(len(sides)):\n",
    "        if sum(sides[:index] + sides[index + 1:]) - sides[index] <= 0:\n",
    "            return False\n",
    "    return True"
   ]
  },
  {
   "cell_type": "code",
   "execution_count": 60,
   "metadata": {},
   "outputs": [],
   "source": [
    "# Second solution\n",
    "def is_triangle(a, b, c):\n",
    "    triangle = [a, b, c]\n",
    "    if (triangle.pop(triangle.index(max(triangle))) >= sum(triangle)):\n",
    "        return False\n",
    "    return True"
   ]
  },
  {
   "cell_type": "code",
   "execution_count": null,
   "metadata": {},
   "outputs": [],
   "source": [
    "# Second solution refactored\n",
    "def is_triangle(a, b, c):\n",
    "    triangle = [a, b, c]\n",
    "    return False if (triangle.pop(triangle.index(max(triangle))) >= sum(triangle)) else True"
   ]
  },
  {
   "cell_type": "code",
   "execution_count": 65,
   "metadata": {},
   "outputs": [],
   "source": [
    "# Third solution\n",
    "def is_triangle(a, b, c):\n",
    "    return max(a, b, c) < (a + b + c) - max(a, b, c)"
   ]
  },
  {
   "cell_type": "code",
   "execution_count": 66,
   "metadata": {},
   "outputs": [
    {
     "name": "stdout",
     "output_type": "stream",
     "text": [
      "True\n",
      "False\n",
      "False\n",
      "False\n",
      "False\n",
      "True\n"
     ]
    }
   ],
   "source": [
    "print(is_triangle(1, 2, 2))\n",
    "print(is_triangle(7, 2, 2))\n",
    "print(is_triangle(1, 2, 3))\n",
    "print(is_triangle(1, 3, 2))\n",
    "print(is_triangle(5, 1, 2))\n",
    "print(is_triangle(4, 2, 3))"
   ]
  },
  {
   "attachments": {},
   "cell_type": "markdown",
   "metadata": {},
   "source": [
    "### Solutions\n",
    "View solutions from others at CodeWars: *[Is this a Triangle?](https://www.codewars.com/kata/56606694ec01347ce800001b/solutions/python)*."
   ]
  }
 ],
 "metadata": {
  "kernelspec": {
   "display_name": "base",
   "language": "python",
   "name": "python3"
  },
  "language_info": {
   "codemirror_mode": {
    "name": "ipython",
    "version": 3
   },
   "file_extension": ".py",
   "mimetype": "text/x-python",
   "name": "python",
   "nbconvert_exporter": "python",
   "pygments_lexer": "ipython3",
   "version": "3.10.9"
  },
  "orig_nbformat": 4
 },
 "nbformat": 4,
 "nbformat_minor": 2
}
