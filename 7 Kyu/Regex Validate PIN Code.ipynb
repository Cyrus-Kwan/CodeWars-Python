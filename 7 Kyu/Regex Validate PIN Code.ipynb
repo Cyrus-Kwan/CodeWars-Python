{
 "cells": [
  {
   "cell_type": "markdown",
   "metadata": {},
   "source": [
    "# Regex Validate PIN Code\n",
    "\n",
    "ATM machines allow 4 or 6 digit PIN codes and PIN codes cannot contain anything but **exactly** 4 digits or exactly 6 digits.\n",
    "\n",
    "If the function is passed a valide PIN string, return `true`, else return `false`.\n",
    "\n",
    "**Examples (Input --> Output)**\n",
    "> ```\n",
    "> \"1234\"    -->     true\n",
    "> \"12345\"   -->     false\n",
    "> \"a234\"    -->     false\n",
    "> ```"
   ]
  },
  {
   "cell_type": "code",
   "execution_count": 95,
   "metadata": {},
   "outputs": [],
   "source": [
    "# Pretty sure this answer is correct but there's some issue going on between re.match() compared to re.fullmatch()\n",
    "# It is wrong, match includes newline character while fullmatch doesn't\n",
    "\n",
    "import re\n",
    "\n",
    "def validate_pin(pin):\n",
    "    result = re.match(r\"^\\d{4}$|^\\d{6}$\", pin)\n",
    "    return result"
   ]
  },
  {
   "cell_type": "code",
   "execution_count": 102,
   "metadata": {},
   "outputs": [],
   "source": [
    "# $ only matches up to before the newline character. \\Z matches string up to the very end\n",
    "# ^ matches at start of string and immediately after newline character. \\A matches beginning of entire string\n",
    "\n",
    "import re\n",
    "\n",
    "def validate_pin(pin):\n",
    "    result = re.match(r\"\\A\\d{4}\\Z|\\A\\d{6}\\Z\", pin)\n",
    "    return result"
   ]
  },
  {
   "cell_type": "code",
   "execution_count": 79,
   "metadata": {},
   "outputs": [],
   "source": [
    "def validate_pin(pin):\n",
    "    return re.fullmatch(r\"\\d{4}|\\d{6}\", pin)"
   ]
  },
  {
   "cell_type": "code",
   "execution_count": 103,
   "metadata": {},
   "outputs": [
    {
     "name": "stdout",
     "output_type": "stream",
     "text": [
      "<re.Match object; span=(0, 4), match='1234'>\n",
      "None\n",
      "None\n",
      "<re.Match object; span=(0, 6), match='123456'>\n",
      "None\n",
      "None\n"
     ]
    }
   ],
   "source": [
    "print(validate_pin(\"1234\"))\n",
    "print(validate_pin(\"12345\"))\n",
    "print(validate_pin(\"a234\"))\n",
    "print(validate_pin(\"123456\"))\n",
    "print(validate_pin(\"\"\"1234\n",
    "\"\"\"))\n",
    "print(validate_pin(\"\"\"123456\n",
    "\"\"\"))"
   ]
  },
  {
   "cell_type": "markdown",
   "metadata": {},
   "source": [
    "### Solutions\n",
    "View solutions from others at CodeWars: *[Regex Validate PIN Code](https://www.codewars.com/kata/55f8a9c06c018a0d6e000132/solutions/python)*."
   ]
  }
 ],
 "metadata": {
  "kernelspec": {
   "display_name": "base",
   "language": "python",
   "name": "python3"
  },
  "language_info": {
   "codemirror_mode": {
    "name": "ipython",
    "version": 3
   },
   "file_extension": ".py",
   "mimetype": "text/x-python",
   "name": "python",
   "nbconvert_exporter": "python",
   "pygments_lexer": "ipython3",
   "version": "3.10.9"
  },
  "orig_nbformat": 4
 },
 "nbformat": 4,
 "nbformat_minor": 2
}
