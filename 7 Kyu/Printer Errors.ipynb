{
 "cells": [
  {
   "cell_type": "markdown",
   "metadata": {},
   "source": [
    "# Printer Errors\n",
    "\n",
    "In a factory a printer labels for boxes. For one kind of boxes the printer has to use colors which, for the sake of simplicity, are named with letters from `a to m`.\n",
    "\n",
    "The colors used by the printer are recorded in a control string. For example a \"good\" control string would be `aaabbbbhaijjjm` meaning that the printer used three times color a, four times color b, one times color h then one time color a...\n",
    "\n",
    "Sometimes there are problems: lack of colors, technical malfuction and a \"bad\" control string is produced e.g. `aaaxbbbbyyhwawiwjjjwwm` with letters not from `a to m`.\n",
    "\n",
    "You have to write a function `printer_error` which given a string will return the error rate of the printer as a `string` representing a rational whose numerator is the number of errors and the denominator the length of the control string. Don't reduce this fraction to a simpler expression.\n",
    "\n",
    "The string has a length greater or equal to one and contains only letters from `a` to `z`.\n",
    "\n",
    "**Examples**\n",
    "> ```\n",
    "> s=\"aaabbbbhaijjjm\"\n",
    "> printer_error(s) => \"0/14\"\n",
    "> \n",
    "> s=\"aaaxbbbbyyhwawiwjjjwwm\"\n",
    "> printer_error(s) => \"8/22\"\n",
    "> ```"
   ]
  },
  {
   "cell_type": "code",
   "execution_count": 7,
   "metadata": {},
   "outputs": [],
   "source": [
    "import re\n",
    "\n",
    "def printer_error(s):\n",
    "    return \"{numerator}/{denominator}\".format(numerator=len(re.findall(r\"[^a-m]\", s)), denominator=len(s))\n"
   ]
  },
  {
   "cell_type": "code",
   "execution_count": 8,
   "metadata": {},
   "outputs": [
    {
     "name": "stdout",
     "output_type": "stream",
     "text": [
      "3/56 3/56\n",
      "6/60 6/60\n",
      "11/65 11/65\n"
     ]
    }
   ],
   "source": [
    "s=\"aaaaaaaaaaaaaaaabbbbbbbbbbbbbbbbbbmmmmmmmmmmmmmmmmmmmxyz\"\n",
    "print(printer_error(s), \"3/56\")\n",
    "\n",
    "s = \"kkkwwwaaaaaaaaaaaaaabbbbbbbbbbbbbbbbbbmmmmmmmmmmmmmmmmmmmxyz\"\n",
    "print(printer_error(s), \"6/60\")\n",
    "\n",
    "s = \"kkkwwwaaaaaaaaaaaaaabbbbbbbbbbbbbbbbbbmmmmmmmmmmmmmmmmmmmxyzuuuuu\"\n",
    "print(printer_error(s) , \"11/65\")"
   ]
  },
  {
   "cell_type": "markdown",
   "metadata": {},
   "source": [
    "### Solutions\n",
    "View solutions from others at CodeWars: *[Printer Errors](https://www.codewars.com/kata/56541980fa08ab47a0000040/solutions/python)*."
   ]
  }
 ],
 "metadata": {
  "kernelspec": {
   "display_name": "base",
   "language": "python",
   "name": "python3"
  },
  "language_info": {
   "codemirror_mode": {
    "name": "ipython",
    "version": 3
   },
   "file_extension": ".py",
   "mimetype": "text/x-python",
   "name": "python",
   "nbconvert_exporter": "python",
   "pygments_lexer": "ipython3",
   "version": "3.10.9"
  },
  "orig_nbformat": 4
 },
 "nbformat": 4,
 "nbformat_minor": 2
}
