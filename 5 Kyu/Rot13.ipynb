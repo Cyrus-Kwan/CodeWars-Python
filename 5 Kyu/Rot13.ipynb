{
 "cells": [
  {
   "cell_type": "markdown",
   "metadata": {},
   "source": [
    "# Rot13\n",
    "\n",
    "ROT13 is a simple letter substitution cipher that replaces a letter with the letter 13 letters after it in the alphabet. ROT13 is an example of the Caesar cipher.\n",
    "\n",
    "Create a function that takes a string and returns the string ciphered with Rot13. If there are numbers or special characters included in the string, they should be returned as they are. Only letters from the latin/english alphabet should be shifted, like in the original Rot13 \"implementation\".\n",
    "\n",
    "Please note that using `encode` is considered cheating."
   ]
  },
  {
   "cell_type": "code",
   "execution_count": 44,
   "metadata": {},
   "outputs": [],
   "source": [
    "def rot13(message):\n",
    "    lowers = \"abcdefghijklmnopqrstuvwxyz\"\n",
    "    uppers = \"ABCDEFGHIJKLMNOPQRSTUVWXYZ\"\n",
    "    mutable = []\n",
    "    for character in message:\n",
    "        if character.isupper():\n",
    "            mutable.append(uppers[(uppers.index(character)+13)%26])\n",
    "        elif character.islower():\n",
    "            mutable.append(lowers[(lowers.index(character)+13)%26])\n",
    "        else:\n",
    "            mutable.append(character)\n",
    "    return ''.join(mutable)"
   ]
  },
  {
   "cell_type": "code",
   "execution_count": 45,
   "metadata": {},
   "outputs": [
    {
     "name": "stdout",
     "output_type": "stream",
     "text": [
      "grfg grfg Returned solution incorrect for fixed string = test\n",
      "Grfg Grfg Returned solution incorrect for fixed string = Test\n",
      "nN oO mM 1234 *!?% nN oO mM 1234 *!?% Returned solution incorrect for fixed string = aA bB zZ 1234 *!?%\n"
     ]
    }
   ],
   "source": [
    "print(rot13('test'), 'grfg', 'Returned solution incorrect for fixed string = test')\n",
    "print(rot13('Test'), 'Grfg', 'Returned solution incorrect for fixed string = Test')\n",
    "print(rot13('aA bB zZ 1234 *!?%'), 'nN oO mM 1234 *!?%', 'Returned solution incorrect for fixed string = aA bB zZ 1234 *!?%')"
   ]
  },
  {
   "cell_type": "markdown",
   "metadata": {},
   "source": [
    "### Solutions\n",
    "View solutions from others at CodeWars: *[Rot13](https://www.codewars.com/kata/530e15517bc88ac656000716/solutions/python)*."
   ]
  }
 ],
 "metadata": {
  "kernelspec": {
   "display_name": "base",
   "language": "python",
   "name": "python3"
  },
  "language_info": {
   "codemirror_mode": {
    "name": "ipython",
    "version": 3
   },
   "file_extension": ".py",
   "mimetype": "text/x-python",
   "name": "python",
   "nbconvert_exporter": "python",
   "pygments_lexer": "ipython3",
   "version": "3.10.9"
  },
  "orig_nbformat": 4
 },
 "nbformat": 4,
 "nbformat_minor": 2
}
