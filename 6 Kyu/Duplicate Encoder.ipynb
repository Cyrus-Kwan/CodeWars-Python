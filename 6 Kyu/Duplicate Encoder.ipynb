{
 "cells": [
  {
   "attachments": {},
   "cell_type": "markdown",
   "metadata": {},
   "source": [
    "# Duplicate Encoder\n",
    "The goal of this exercise is to convert a string to a new string where each character in the new string is `\"(\"` if that character appears only once in the original string, or `\")\"` if that character appears more than once in the original string. Ignor capitalization when determining it a character is a duplicate.\n",
    "\n",
    "**Examples**\n",
    "> ```\n",
    "> \"din\"     => \"(((\"\n",
    "> \"recede\"  => \"()()()\"\n",
    "> \"Success\" => \")())())\"\n",
    "> \"(( @\"    => \"))((\"\n",
    "> ```\n",
    "\n",
    "**Notes**\n",
    "\n",
    "Assertion messages may be unclear about what they display in some languages. If you read `\"...It Should encode XXX\"`, the `\"XXX\"` is the expected result, not the input!"
   ]
  },
  {
   "cell_type": "code",
   "execution_count": 13,
   "metadata": {},
   "outputs": [],
   "source": [
    "# First solution\n",
    "\n",
    "def duplicate_encode(word):\n",
    "    encode = ''\n",
    "    for char in word.lower():\n",
    "        if word.lower().count(char) > 1:\n",
    "            encode += ')'\n",
    "        else:\n",
    "            encode += '('\n",
    "    return encode"
   ]
  },
  {
   "cell_type": "code",
   "execution_count": 20,
   "metadata": {},
   "outputs": [],
   "source": [
    "# Second solution\n",
    "\n",
    "def duplicate_encode(word):\n",
    "    encode = [word.lower().count(char) for char in word.lower()]\n",
    "    return ''.join([')' if n > 1 else '(' for n in encode])\n"
   ]
  },
  {
   "cell_type": "code",
   "execution_count": 26,
   "metadata": {},
   "outputs": [],
   "source": [
    "# Third solution\n",
    "\n",
    "def duplicate_encode(word):\n",
    "    lower_case = word.lower()\n",
    "    return ''.join(')' if lower_case.count(char) > 1 else '(' for char in lower_case)"
   ]
  },
  {
   "cell_type": "code",
   "execution_count": 27,
   "metadata": {},
   "outputs": [
    {
     "name": "stdout",
     "output_type": "stream",
     "text": [
      "(((\n",
      "()()()\n",
      ")())())\n",
      "))((\n"
     ]
    }
   ],
   "source": [
    "print(duplicate_encode(\"din\"))\n",
    "print(duplicate_encode(\"recede\"))\n",
    "print(duplicate_encode(\"Success\"))\n",
    "print(duplicate_encode(\"(( @\"))"
   ]
  },
  {
   "attachments": {},
   "cell_type": "markdown",
   "metadata": {},
   "source": [
    "### Solutions\n",
    "View solutions from others at CodeWars: *[Duplicate Encoder](https://www.codewars.com/kata/54b42f9314d9229fd6000d9c/solutions/python)*."
   ]
  }
 ],
 "metadata": {
  "kernelspec": {
   "display_name": "base",
   "language": "python",
   "name": "python3"
  },
  "language_info": {
   "codemirror_mode": {
    "name": "ipython",
    "version": 3
   },
   "file_extension": ".py",
   "mimetype": "text/x-python",
   "name": "python",
   "nbconvert_exporter": "python",
   "pygments_lexer": "ipython3",
   "version": "3.10.9"
  },
  "orig_nbformat": 4
 },
 "nbformat": 4,
 "nbformat_minor": 2
}
