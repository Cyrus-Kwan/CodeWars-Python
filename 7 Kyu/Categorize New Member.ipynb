{
 "cells": [
  {
   "cell_type": "markdown",
   "metadata": {},
   "source": [
    "# Categorize New Member\n",
    "\n",
    "The Western Suburbs Croquet Club has two categories of membership, Senior and Open. They would like your help with an application form that will tell prospective members which category they will be placed.\n",
    "\n",
    "To be a senior, a member must be at least 55 years old and have a handicap greater than 7. In this criquet club, handicaps range from -2 to +26; the better the player the lower the handicap.\n",
    "\n",
    "**Input**\n",
    "\n",
    "Input will consist of a list of pairs. Each pair contains information for a single potential member. Information consists of an integer for the person's age and an integer for the person's handicap.\n",
    "\n",
    "**Output**\n",
    "\n",
    "Output will consist of a list of string values (in Haskel and C: `Open` or `Senior`) stating whether the respective member is to be placed in the senior or open category.\n",
    "\n",
    "**Example**\n",
    "> ```\n",
    "> input =  [[18, 20], [45, 2], [61, 12], [37, 6], [21, 21], [78, 9]]\n",
    "> output = [\"Open\", \"Open\", \"Senior\", \"Open\", \"Open\", \"Senior\"]\n",
    "> ```"
   ]
  },
  {
   "cell_type": "code",
   "execution_count": 3,
   "metadata": {},
   "outputs": [],
   "source": [
    "def open_or_senior(data):\n",
    "    result = []\n",
    "    for age, handicap in data:\n",
    "        if age >= 55 and handicap > 7:\n",
    "            result.append(\"Senior\")\n",
    "        else:\n",
    "            result.append(\"Open\")\n",
    "    return result"
   ]
  },
  {
   "cell_type": "code",
   "execution_count": 11,
   "metadata": {},
   "outputs": [],
   "source": [
    "def open_or_senior(data):\n",
    "    return [\"Senior\" if age>=55 and handicap>7 else \"Open\" for age, handicap in data]"
   ]
  },
  {
   "cell_type": "code",
   "execution_count": 13,
   "metadata": {},
   "outputs": [
    {
     "name": "stdout",
     "output_type": "stream",
     "text": [
      "['Open', 'Senior', 'Open', 'Senior'] ['Open', 'Senior', 'Open', 'Senior']\n",
      "['Open', 'Open', 'Senior', 'Open'] ['Open', 'Open', 'Senior', 'Open']\n"
     ]
    }
   ],
   "source": [
    "print(open_or_senior([(45, 12),(55,21),(19, -2),(104, 20)]),['Open', 'Senior', 'Open', 'Senior'])\n",
    "print(open_or_senior([(16, 23),(73,1),(56, 20),(1, -1)]),['Open', 'Open', 'Senior', 'Open'])"
   ]
  },
  {
   "cell_type": "markdown",
   "metadata": {},
   "source": [
    "### Solutions\n",
    "View solutions from others at CodeWars: *[Categorize New Member](https://www.codewars.com/kata/5502c9e7b3216ec63c0001aa/solutions/python)*."
   ]
  }
 ],
 "metadata": {
  "kernelspec": {
   "display_name": "base",
   "language": "python",
   "name": "python3"
  },
  "language_info": {
   "codemirror_mode": {
    "name": "ipython",
    "version": 3
   },
   "file_extension": ".py",
   "mimetype": "text/x-python",
   "name": "python",
   "nbconvert_exporter": "python",
   "pygments_lexer": "ipython3",
   "version": "3.10.9"
  },
  "orig_nbformat": 4
 },
 "nbformat": 4,
 "nbformat_minor": 2
}
