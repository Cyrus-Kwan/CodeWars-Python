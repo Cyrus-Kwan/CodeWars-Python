{
 "cells": [
  {
   "attachments": {},
   "cell_type": "markdown",
   "metadata": {},
   "source": [
    "# Build Tower\n",
    "Build a pyramid-shaped tower, as an array/list of strings, given a positive integer `number of floors`. A tower block is represented with `\"*\"` character.\n",
    "\n",
    "For example, a tower with `3` floors looks like this:\n",
    "> ```\n",
    "> [\n",
    ">   \"  *  \",\n",
    ">   \" *** \", \n",
    ">   \"*****\"\n",
    "> ]\n",
    "> ```\n",
    "\n",
    "And a tower with `6` floors looks like this:\n",
    "> ```\n",
    "> [\n",
    ">   \"     *     \", \n",
    ">   \"    ***    \", \n",
    ">   \"   *****   \", \n",
    ">   \"  *******  \", \n",
    ">   \" ********* \", \n",
    ">   \"***********\"\n",
    "> ]"
   ]
  },
  {
   "cell_type": "code",
   "execution_count": 9,
   "metadata": {},
   "outputs": [],
   "source": [
    "def tower_builder(n_floors):\n",
    "    total_length = 1 + (2 * n_floors)\n",
    "    entry = ''\n",
    "    for number in range(total_length):\n",
    "        entry = entry + '*'\n",
    "    arr = [entry]\n",
    "    return arr"
   ]
  },
  {
   "cell_type": "code",
   "execution_count": 10,
   "metadata": {},
   "outputs": [
    {
     "name": "stdout",
     "output_type": "stream",
     "text": [
      "['*******']\n"
     ]
    }
   ],
   "source": [
    "print(tower_builder(3))"
   ]
  },
  {
   "cell_type": "code",
   "execution_count": 39,
   "metadata": {},
   "outputs": [],
   "source": [
    "# First solution\n",
    "\n",
    "# def tower_builder(n_floors):\n",
    "#     arr = []\n",
    "#     for n in range(n_floors):\n",
    "#         entry = ''\n",
    "#         for number in range(1 + 2 * n):\n",
    "#             entry = entry + '*'\n",
    "#         arr.append(entry.center(2*n_floors-1))\n",
    "#     return arr"
   ]
  },
  {
   "cell_type": "code",
   "execution_count": 40,
   "metadata": {},
   "outputs": [
    {
     "name": "stdout",
     "output_type": "stream",
     "text": [
      "['  *  ', ' *** ', '*****']\n"
     ]
    }
   ],
   "source": [
    "print(tower_builder(3))\n",
    "\n",
    "# print(['*'.center(5)])"
   ]
  },
  {
   "cell_type": "code",
   "execution_count": 65,
   "metadata": {},
   "outputs": [],
   "source": [
    "def tower_builder(n_floors):\n",
    "    arr = []\n",
    "    for n in range(n_floors):\n",
    "        string = '*' * (1 + 2*n)\n",
    "        arr.append(string.center((2 * n_floors) - 1))\n",
    "    return arr"
   ]
  },
  {
   "cell_type": "code",
   "execution_count": 58,
   "metadata": {},
   "outputs": [
    {
     "name": "stdout",
     "output_type": "stream",
     "text": [
      "['  *  ', ' *** ', '*****']\n"
     ]
    }
   ],
   "source": [
    "print(tower_builder(3))"
   ]
  },
  {
   "cell_type": "code",
   "execution_count": 66,
   "metadata": {},
   "outputs": [],
   "source": [
    "def tower_builder(n_floors):\n",
    "    return [('*' * (1 + 2*n)).center((2 * n_floors) - 1) for n in range(n_floors)]"
   ]
  },
  {
   "cell_type": "code",
   "execution_count": 67,
   "metadata": {},
   "outputs": [
    {
     "name": "stdout",
     "output_type": "stream",
     "text": [
      "['  *  ', ' *** ', '*****']\n"
     ]
    }
   ],
   "source": [
    "print(tower_builder(3))"
   ]
  }
 ],
 "metadata": {
  "kernelspec": {
   "display_name": "base",
   "language": "python",
   "name": "python3"
  },
  "language_info": {
   "codemirror_mode": {
    "name": "ipython",
    "version": 3
   },
   "file_extension": ".py",
   "mimetype": "text/x-python",
   "name": "python",
   "nbconvert_exporter": "python",
   "pygments_lexer": "ipython3",
   "version": "3.10.9"
  },
  "orig_nbformat": 4
 },
 "nbformat": 4,
 "nbformat_minor": 2
}
