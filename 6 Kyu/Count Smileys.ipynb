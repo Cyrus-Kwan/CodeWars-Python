{
 "cells": [
  {
   "cell_type": "markdown",
   "metadata": {},
   "source": [
    "# Count the smiley faces!\n",
    "\n",
    "Given an array (arr) as an argument complete the function `count_smileys` that should return the total number of smiling faces.\n",
    "\n",
    "Rules for a smiling face:\n",
    "- Each smiley face must contain a valid pair of eyes. Eyes can be marked as `:` or `;`\n",
    "- A smiley face can have a nose but it does not have to. Valid characters for a nose are `-` or `~`\n",
    "- Every smiling face must have a smiling mouth that should be marked with either `)` of `D`\n",
    "\n",
    "No additional characters are allowed except for those mentioned.\n",
    "\n",
    "**Valid smiley face examples:** `:) :D ;-D :~)`\n",
    "**Invalid smiley faces:** `;( :> :} :]`\n",
    "\n",
    "**Example**\n",
    "> ```\n",
    "> countSmileys([':)', ';(', ';}', ':-D']);       // should return 2;\n",
    "> countSmileys([';D', ':-(', ':-)', ';~)']);     // should return 3;\n",
    "> countSmileys([';]', ':[', ';*', ':$', ';-D']); // should return 1;\n",
    "> ```"
   ]
  },
  {
   "cell_type": "code",
   "execution_count": 3,
   "metadata": {},
   "outputs": [],
   "source": [
    "import re\n",
    "\n",
    "def count_smileys(arr):\n",
    "    count_smileys = 0\n",
    "    for val in arr:\n",
    "        if bool(re.match(r\"[:;][-~]*[)D]\", val)):\n",
    "            count_smileys += 1\n",
    "    return count_smileys"
   ]
  },
  {
   "cell_type": "code",
   "execution_count": 4,
   "metadata": {},
   "outputs": [
    {
     "name": "stdout",
     "output_type": "stream",
     "text": [
      "0 0\n",
      "4 4\n",
      "2 2\n",
      "1 1\n"
     ]
    }
   ],
   "source": [
    "print(count_smileys([]), 0)\n",
    "print(count_smileys([':D',':~)',';~D',':)']), 4)\n",
    "print(count_smileys([':)',':(',':D',':O',':;']), 2)\n",
    "print(count_smileys([';]', ':[', ';*', ':$', ';-D']), 1)"
   ]
  }
 ],
 "metadata": {
  "kernelspec": {
   "display_name": "base",
   "language": "python",
   "name": "python3"
  },
  "language_info": {
   "codemirror_mode": {
    "name": "ipython",
    "version": 3
   },
   "file_extension": ".py",
   "mimetype": "text/x-python",
   "name": "python",
   "nbconvert_exporter": "python",
   "pygments_lexer": "ipython3",
   "version": "3.10.9"
  },
  "orig_nbformat": 4
 },
 "nbformat": 4,
 "nbformat_minor": 2
}
