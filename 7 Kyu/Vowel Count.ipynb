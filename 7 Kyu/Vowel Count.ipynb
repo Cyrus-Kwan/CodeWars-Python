{
 "cells": [
  {
   "cell_type": "markdown",
   "metadata": {},
   "source": [
    "# Vowel Count\n",
    "\n",
    "Return the number (count) of vowels in the given string.\n",
    "\n",
    "We will consider `a`, `e`, `i`, `o`, `u` as vowels for this kata (but not `y`)\n",
    "\n",
    "The input string will only consist of the lower case letters and/or spaces."
   ]
  },
  {
   "cell_type": "code",
   "execution_count": 16,
   "metadata": {},
   "outputs": [],
   "source": [
    "# First solution: loops through both vowels and sentence\n",
    "\n",
    "def get_count(sentence):\n",
    "    vowels = {'a', 'e', 'i', 'o', 'u'}\n",
    "    return sum(map(lambda x: x in vowels, sentence))"
   ]
  },
  {
   "cell_type": "code",
   "execution_count": 19,
   "metadata": {},
   "outputs": [],
   "source": [
    "# Second solution: only loops through sentence\n",
    "import re\n",
    "\n",
    "def get_count(sentence):\n",
    "    return len(re.findall(r\"[aeiou]\", sentence))"
   ]
  },
  {
   "cell_type": "code",
   "execution_count": 21,
   "metadata": {},
   "outputs": [],
   "source": [
    "# Third solution: I could also just like, not be dumb\n",
    "\n",
    "def get_count(sentence):\n",
    "    return sum(char in 'aeiou' for char in sentence)"
   ]
  },
  {
   "cell_type": "code",
   "execution_count": 22,
   "metadata": {},
   "outputs": [
    {
     "name": "stdout",
     "output_type": "stream",
     "text": [
      "5 5\n",
      "0 0\n",
      "0 0\n",
      "0 0\n",
      "5 5\n"
     ]
    }
   ],
   "source": [
    "print(get_count(\"aeiou\"), 5)\n",
    "print(get_count(\"y\"), 0)\n",
    "print(get_count(\"bcdfghjklmnpqrstvwxz y\"), 0)\n",
    "print(get_count(\"\"), 0)\n",
    "print(get_count(\"abracadabra\"), 5)"
   ]
  },
  {
   "cell_type": "markdown",
   "metadata": {},
   "source": [
    "### Solutions\n",
    "View solutions from others at CodeWars: *[Vowel Count](https://www.codewars.com/kata/54ff3102c1bad923760001f3/solutions/python)*."
   ]
  }
 ],
 "metadata": {
  "kernelspec": {
   "display_name": "base",
   "language": "python",
   "name": "python3"
  },
  "language_info": {
   "codemirror_mode": {
    "name": "ipython",
    "version": 3
   },
   "file_extension": ".py",
   "mimetype": "text/x-python",
   "name": "python",
   "nbconvert_exporter": "python",
   "pygments_lexer": "ipython3",
   "version": "3.10.9"
  },
  "orig_nbformat": 4
 },
 "nbformat": 4,
 "nbformat_minor": 2
}
