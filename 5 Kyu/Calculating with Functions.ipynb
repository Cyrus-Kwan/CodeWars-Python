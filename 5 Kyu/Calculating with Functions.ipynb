{
 "cells": [
  {
   "cell_type": "markdown",
   "metadata": {},
   "source": [
    "# Calculating with Functions\n",
    "\n",
    "This time we want to write calculations using functions and get the results. Let's have a look at some examples:\n",
    "> ```\n",
    "> seven(times(five())) # must return 35\n",
    "> four(plus(nine())) # must return 13\n",
    "> eight(minus(three())) # must return 5\n",
    "> six(divided_by(two())) # must return 3\n",
    "> ```\n",
    "\n",
    "Requirements:\n",
    "- There must be a function for each number from 0 (\"zero\") to 8 (\"nine\")\n",
    "- There must be a function for each of the following mathematical operations: plus, minus, times, divided_by\n",
    "- Each calculation consist of exactly one operation and two numbers\n",
    "- The most outer function represents the left operand, the most inner function represents the right operand\n",
    "- Division should be **integer division**. For example, this should return `2`, not `2.666666...`:\n",
    "\n",
    "> ```\n",
    "> eight(divided_by(three()))\n",
    "> ```"
   ]
  },
  {
   "cell_type": "code",
   "execution_count": 17,
   "metadata": {},
   "outputs": [],
   "source": [
    "def zero(fx=''): return eval(f'0 {fx}')\n",
    "def one(fx=''): return eval(f'1 {fx}')\n",
    "def two(fx=''): return eval(f'2 {fx}')\n",
    "def three(fx=''): return eval(f'3 {fx}')\n",
    "def four(fx=''): return eval(f'4 {fx}')\n",
    "def five(fx=''): return eval(f'5 {fx}')\n",
    "def six(fx=''): return eval(f'6 {fx}')\n",
    "def seven(fx=''): return eval(f'7 {fx}')\n",
    "def eight(fx=''): return eval(f'8 {fx}')\n",
    "def nine(fx=''): return eval(f'9 {fx}')\n",
    "\n",
    "def plus(fx): return f'+ {fx}'\n",
    "def minus(fx): return f'- {fx}'\n",
    "def times(fx): return f'* {fx}'\n",
    "def divided_by(fx): return f'// {fx}'"
   ]
  },
  {
   "cell_type": "code",
   "execution_count": 18,
   "metadata": {},
   "outputs": [
    {
     "name": "stdout",
     "output_type": "stream",
     "text": [
      "35 35\n",
      "13 13\n",
      "5 5\n",
      "3 3\n"
     ]
    }
   ],
   "source": [
    "print(seven(times(five())), 35)\n",
    "print(four(plus(nine())), 13)\n",
    "print(eight(minus(three())), 5)\n",
    "print(six(divided_by(two())), 3)"
   ]
  },
  {
   "cell_type": "markdown",
   "metadata": {},
   "source": [
    "### Solutions\n",
    "View solutions from others at CodeWars: *[Calculating with Functions](https://www.codewars.com/kata/525f3eda17c7cd9f9e000b39/solutions/python)*."
   ]
  }
 ],
 "metadata": {
  "kernelspec": {
   "display_name": "base",
   "language": "python",
   "name": "python3"
  },
  "language_info": {
   "codemirror_mode": {
    "name": "ipython",
    "version": 3
   },
   "file_extension": ".py",
   "mimetype": "text/x-python",
   "name": "python",
   "nbconvert_exporter": "python",
   "pygments_lexer": "ipython3",
   "version": "3.10.9"
  },
  "orig_nbformat": 4
 },
 "nbformat": 4,
 "nbformat_minor": 2
}
