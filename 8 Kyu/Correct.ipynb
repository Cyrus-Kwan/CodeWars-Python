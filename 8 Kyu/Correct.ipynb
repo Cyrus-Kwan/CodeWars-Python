{
 "cells": [
  {
   "cell_type": "markdown",
   "metadata": {},
   "source": [
    "# Correct the mistakes of the character recognition software\n",
    "\n",
    "Character recognition is widely used to digitise printed texts. Thus the texts can be edited, searched and stored on a computer.\n",
    "\n",
    "When documents (especiall pretty old ones written with a *typewriter*), are digitised character recognition softwares often make mistakes.\n",
    "\n",
    "Your task is to correct the errors in the digitised text. You only have to handle the following mistakes:\n",
    "\n",
    "- `S` is misinterpreted as `5`\n",
    "- `O` is misinterpreted as `0`\n",
    "- `I` is misinterpreted as `1`\n",
    "\n",
    "The test cases contain numbers only by mistake"
   ]
  },
  {
   "cell_type": "code",
   "execution_count": 15,
   "metadata": {},
   "outputs": [],
   "source": [
    "def correct(s):\n",
    "    translation_table = str.maketrans({'5':'S', '0':'O', '1':'I'})\n",
    "    return s.translate(translation_table)"
   ]
  },
  {
   "cell_type": "code",
   "execution_count": 17,
   "metadata": {},
   "outputs": [],
   "source": [
    "def correct(s):\n",
    "    translation_table = str.maketrans(\"501\", \"SOI\")\n",
    "    return s.translate(translation_table)"
   ]
  },
  {
   "cell_type": "code",
   "execution_count": 19,
   "metadata": {},
   "outputs": [],
   "source": [
    "def correct(s):\n",
    "    return s.translate(str.maketrans(\"501\", \"SOI\"))"
   ]
  },
  {
   "cell_type": "code",
   "execution_count": 20,
   "metadata": {},
   "outputs": [
    {
     "name": "stdout",
     "output_type": "stream",
     "text": [
      "LONDON LONDON\n",
      "DUBLIN DUBLIN\n",
      "SINGAPORE SINGAPORE\n",
      "BUDAPEST BUDAPEST\n",
      "PARIS PARIS\n"
     ]
    }
   ],
   "source": [
    "print(correct(\"L0ND0N\"), \"LONDON\")\n",
    "print(correct(\"DUBL1N\"), \"DUBLIN\")\n",
    "print(correct(\"51NGAP0RE\"), \"SINGAPORE\")\n",
    "print(correct(\"BUDAPE5T\"), \"BUDAPEST\")\n",
    "print(correct(\"PAR15\"), \"PARIS\")"
   ]
  },
  {
   "cell_type": "markdown",
   "metadata": {},
   "source": [
    "### Solutions\n",
    "View solutions from others at CodeWars: *[Correct the mistakes of the character recognition software](https://www.codewars.com/kata/577bd026df78c19bca0002c0/solutions/python)*."
   ]
  }
 ],
 "metadata": {
  "kernelspec": {
   "display_name": "base",
   "language": "python",
   "name": "python3"
  },
  "language_info": {
   "codemirror_mode": {
    "name": "ipython",
    "version": 3
   },
   "file_extension": ".py",
   "mimetype": "text/x-python",
   "name": "python",
   "nbconvert_exporter": "python",
   "pygments_lexer": "ipython3",
   "version": "3.10.9"
  },
  "orig_nbformat": 4
 },
 "nbformat": 4,
 "nbformat_minor": 2
}
