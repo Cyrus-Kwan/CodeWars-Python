{
 "cells": [
  {
   "cell_type": "markdown",
   "metadata": {},
   "source": [
    "# Sentence Smash\n",
    "\n",
    "Write a function that takes an array of words and smashes them together into a sentence and returns the sentence . You can ignore any need to sanitize words or add puctuation, but you should add spaces between each word. **Be careful, there shouldn't be a space at the beginning or the end of the sentence!**\n",
    "\n",
    "##### Example\n",
    "> ```\n",
    "> ['hello', 'world', 'this', 'is', 'great']  =>  'hello world this is great'\n",
    "> ```"
   ]
  },
  {
   "cell_type": "code",
   "execution_count": 19,
   "metadata": {},
   "outputs": [],
   "source": [
    "def smash(words):\n",
    "    return ' '.join(words)"
   ]
  },
  {
   "cell_type": "code",
   "execution_count": 20,
   "metadata": {},
   "outputs": [
    {
     "name": "stdout",
     "output_type": "stream",
     "text": [
      " \n",
      "hello hello\n",
      "hello world hello world\n",
      "hello amazing world hello amazing world\n",
      "this is a really long sentence this is a really long sentence\n"
     ]
    }
   ],
   "source": [
    "print(smash([]), \"\")\n",
    "print(smash([\"hello\"]), \"hello\")\n",
    "print(smash([\"hello\", \"world\"]), \"hello world\")\n",
    "print(smash([\"hello\", \"amazing\", \"world\"]), \"hello amazing world\")\n",
    "print(smash([\"this\", \"is\", \"a\", \"really\", \"long\", \"sentence\"]), \"this is a really long sentence\")"
   ]
  },
  {
   "cell_type": "markdown",
   "metadata": {},
   "source": [
    "### Solutions\n",
    "View solutions from others at CodeWars: *[Sentnece Smash](https://www.codewars.com/kata/53dc23c68a0c93699800041d/solutions/python)*."
   ]
  }
 ],
 "metadata": {
  "kernelspec": {
   "display_name": "base",
   "language": "python",
   "name": "python3"
  },
  "language_info": {
   "codemirror_mode": {
    "name": "ipython",
    "version": 3
   },
   "file_extension": ".py",
   "mimetype": "text/x-python",
   "name": "python",
   "nbconvert_exporter": "python",
   "pygments_lexer": "ipython3",
   "version": "3.10.9"
  },
  "orig_nbformat": 4
 },
 "nbformat": 4,
 "nbformat_minor": 2
}
